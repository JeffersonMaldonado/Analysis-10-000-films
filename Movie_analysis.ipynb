{
 "cells": [
  {
   "cell_type": "markdown",
   "metadata": {},
   "source": [
    "# Project: Analysis of data from 10,000 films with user classification and generated revenues."
   ]
  },
  {
   "cell_type": "markdown",
   "metadata": {},
   "source": [
    "### Dataset and what questions I intend to answer in this project."
   ]
  },
  {
   "cell_type": "markdown",
   "metadata": {},
   "source": [
    "  > In this project I intend to analyze a database of 10,000 films that were evaluated on the tmdb website. The films have user ratings, budgets and production revenues. It includes the names of the actors, directors and producer involved in the project. The main objective of the project is to answer questions and the development of the film industry from the user's point of view. So what are the most popular genres year after year, what are the main features that make movies make the most revenue. In addition, I will try to find more information about the quality of this data set."
   ]
  },
  {
   "cell_type": "markdown",
   "metadata": {},
   "source": [
    "### I will import the necessary packages for data analysis, cleaning and repair, below.\n"
   ]
  },
  {
   "cell_type": "code",
   "execution_count": 1,
   "metadata": {},
   "outputs": [],
   "source": [
    "import pandas as pd\n",
    "import numpy as np\n",
    "import matplotlib.pyplot as plt"
   ]
  },
  {
   "cell_type": "markdown",
   "metadata": {},
   "source": [
    "# Data Wrangling"
   ]
  },
  {
   "cell_type": "markdown",
   "metadata": {},
   "source": [
    "> After downloading the packages and reading the txt, I will check the first lines, the number of rows and columns and how statistically the data is grouped. In addition to checking the name of each column, to decide what will make the most sense in the data set. I will use the pandas packages to clean and read the data, numpy to work with arrays, matplotlib and seaborn to generate graphics and visualizations."
   ]
  },
  {
   "cell_type": "markdown",
   "metadata": {},
   "source": [
    "### General information"
   ]
  },
  {
   "cell_type": "code",
   "execution_count": 2,
   "metadata": {},
   "outputs": [
    {
     "data": {
      "text/html": [
       "<div>\n",
       "<style scoped>\n",
       "    .dataframe tbody tr th:only-of-type {\n",
       "        vertical-align: middle;\n",
       "    }\n",
       "\n",
       "    .dataframe tbody tr th {\n",
       "        vertical-align: top;\n",
       "    }\n",
       "\n",
       "    .dataframe thead th {\n",
       "        text-align: right;\n",
       "    }\n",
       "</style>\n",
       "<table border=\"1\" class=\"dataframe\">\n",
       "  <thead>\n",
       "    <tr style=\"text-align: right;\">\n",
       "      <th></th>\n",
       "      <th>id</th>\n",
       "      <th>imdb_id</th>\n",
       "      <th>popularity</th>\n",
       "      <th>budget</th>\n",
       "      <th>revenue</th>\n",
       "      <th>original_title</th>\n",
       "      <th>cast</th>\n",
       "      <th>homepage</th>\n",
       "      <th>director</th>\n",
       "      <th>tagline</th>\n",
       "      <th>...</th>\n",
       "      <th>overview</th>\n",
       "      <th>runtime</th>\n",
       "      <th>genres</th>\n",
       "      <th>production_companies</th>\n",
       "      <th>release_date</th>\n",
       "      <th>vote_count</th>\n",
       "      <th>vote_average</th>\n",
       "      <th>release_year</th>\n",
       "      <th>budget_adj</th>\n",
       "      <th>revenue_adj</th>\n",
       "    </tr>\n",
       "  </thead>\n",
       "  <tbody>\n",
       "    <tr>\n",
       "      <th>0</th>\n",
       "      <td>135397</td>\n",
       "      <td>tt0369610</td>\n",
       "      <td>32.985763</td>\n",
       "      <td>150000000</td>\n",
       "      <td>1513528810</td>\n",
       "      <td>Jurassic World</td>\n",
       "      <td>Chris Pratt|Bryce Dallas Howard|Irrfan Khan|Vi...</td>\n",
       "      <td>http://www.jurassicworld.com/</td>\n",
       "      <td>Colin Trevorrow</td>\n",
       "      <td>The park is open.</td>\n",
       "      <td>...</td>\n",
       "      <td>Twenty-two years after the events of Jurassic ...</td>\n",
       "      <td>124</td>\n",
       "      <td>Action|Adventure|Science Fiction|Thriller</td>\n",
       "      <td>Universal Studios|Amblin Entertainment|Legenda...</td>\n",
       "      <td>6/9/15</td>\n",
       "      <td>5562</td>\n",
       "      <td>6.5</td>\n",
       "      <td>2015</td>\n",
       "      <td>1.379999e+08</td>\n",
       "      <td>1.392446e+09</td>\n",
       "    </tr>\n",
       "  </tbody>\n",
       "</table>\n",
       "<p>1 rows × 21 columns</p>\n",
       "</div>"
      ],
      "text/plain": [
       "       id    imdb_id  popularity     budget     revenue  original_title  \\\n",
       "0  135397  tt0369610   32.985763  150000000  1513528810  Jurassic World   \n",
       "\n",
       "                                                cast  \\\n",
       "0  Chris Pratt|Bryce Dallas Howard|Irrfan Khan|Vi...   \n",
       "\n",
       "                        homepage         director            tagline  ...  \\\n",
       "0  http://www.jurassicworld.com/  Colin Trevorrow  The park is open.  ...   \n",
       "\n",
       "                                            overview runtime  \\\n",
       "0  Twenty-two years after the events of Jurassic ...     124   \n",
       "\n",
       "                                      genres  \\\n",
       "0  Action|Adventure|Science Fiction|Thriller   \n",
       "\n",
       "                                production_companies release_date vote_count  \\\n",
       "0  Universal Studios|Amblin Entertainment|Legenda...       6/9/15       5562   \n",
       "\n",
       "   vote_average  release_year    budget_adj   revenue_adj  \n",
       "0           6.5          2015  1.379999e+08  1.392446e+09  \n",
       "\n",
       "[1 rows x 21 columns]"
      ]
     },
     "execution_count": 2,
     "metadata": {},
     "output_type": "execute_result"
    }
   ],
   "source": [
    "# reading the dataset and viewing the first lines.\n",
    "df = pd.read_csv('tmdb-movies.csv')\n",
    "df.head(1)"
   ]
  },
  {
   "cell_type": "code",
   "execution_count": 152,
   "metadata": {},
   "outputs": [
    {
     "data": {
      "text/plain": [
       "(10866, 21)"
      ]
     },
     "execution_count": 152,
     "metadata": {},
     "output_type": "execute_result"
    }
   ],
   "source": [
    "# checked the number of rows and columns.\n",
    "df.shape"
   ]
  },
  {
   "cell_type": "code",
   "execution_count": 4,
   "metadata": {},
   "outputs": [
    {
     "data": {
      "text/plain": [
       "['id',\n",
       " 'imdb_id',\n",
       " 'popularity',\n",
       " 'budget',\n",
       " 'revenue',\n",
       " 'original_title',\n",
       " 'cast',\n",
       " 'homepage',\n",
       " 'director',\n",
       " 'tagline',\n",
       " 'keywords',\n",
       " 'overview',\n",
       " 'runtime',\n",
       " 'genres',\n",
       " 'production_companies',\n",
       " 'release_date',\n",
       " 'vote_count',\n",
       " 'vote_average',\n",
       " 'release_year',\n",
       " 'budget_adj',\n",
       " 'revenue_adj']"
      ]
     },
     "execution_count": 4,
     "metadata": {},
     "output_type": "execute_result"
    }
   ],
   "source": [
    "# with the head function I didn't get a good view of the column names, so use the list function.\n",
    "# I believe that here I can get a sense of which columns I will discard.\n",
    "list(df.columns)"
   ]
  },
  {
   "cell_type": "markdown",
   "metadata": {},
   "source": [
    "## Cleaning Dataset"
   ]
  },
  {
   "cell_type": "markdown",
   "metadata": {},
   "source": [
    "### My decisions with columns"
   ]
  },
  {
   "cell_type": "markdown",
   "metadata": {},
   "source": [
    "> Looking at the name of the columns and reading the documentation in kaggle I decided to discard only the 'imdb_id' columns because I understand that they are internal identification column. I believe that it will not make a difference in the final result.\n",
    "\n",
    ">  I will also exclude the last two columns of revenues and budgets already discounted from inflation, as I understand that they will not influence the answer to the proposed questions. And the popularity column, because it seems to me that it is a measure of the site's own score."
   ]
  },
  {
   "cell_type": "code",
   "execution_count": 3,
   "metadata": {
    "scrolled": true
   },
   "outputs": [
    {
     "data": {
      "text/html": [
       "<div>\n",
       "<style scoped>\n",
       "    .dataframe tbody tr th:only-of-type {\n",
       "        vertical-align: middle;\n",
       "    }\n",
       "\n",
       "    .dataframe tbody tr th {\n",
       "        vertical-align: top;\n",
       "    }\n",
       "\n",
       "    .dataframe thead th {\n",
       "        text-align: right;\n",
       "    }\n",
       "</style>\n",
       "<table border=\"1\" class=\"dataframe\">\n",
       "  <thead>\n",
       "    <tr style=\"text-align: right;\">\n",
       "      <th></th>\n",
       "      <th>id</th>\n",
       "      <th>popularity</th>\n",
       "      <th>budget</th>\n",
       "      <th>revenue</th>\n",
       "      <th>original_title</th>\n",
       "      <th>director</th>\n",
       "      <th>runtime</th>\n",
       "      <th>genres</th>\n",
       "      <th>release_date</th>\n",
       "      <th>vote_count</th>\n",
       "      <th>vote_average</th>\n",
       "      <th>release_year</th>\n",
       "    </tr>\n",
       "  </thead>\n",
       "  <tbody>\n",
       "    <tr>\n",
       "      <th>10861</th>\n",
       "      <td>21</td>\n",
       "      <td>0.080598</td>\n",
       "      <td>0</td>\n",
       "      <td>0</td>\n",
       "      <td>The Endless Summer</td>\n",
       "      <td>Bruce Brown</td>\n",
       "      <td>95</td>\n",
       "      <td>Documentary</td>\n",
       "      <td>6/15/66</td>\n",
       "      <td>11</td>\n",
       "      <td>7.4</td>\n",
       "      <td>1966</td>\n",
       "    </tr>\n",
       "    <tr>\n",
       "      <th>10862</th>\n",
       "      <td>20379</td>\n",
       "      <td>0.065543</td>\n",
       "      <td>0</td>\n",
       "      <td>0</td>\n",
       "      <td>Grand Prix</td>\n",
       "      <td>John Frankenheimer</td>\n",
       "      <td>176</td>\n",
       "      <td>Action|Adventure|Drama</td>\n",
       "      <td>12/21/66</td>\n",
       "      <td>20</td>\n",
       "      <td>5.7</td>\n",
       "      <td>1966</td>\n",
       "    </tr>\n",
       "    <tr>\n",
       "      <th>10863</th>\n",
       "      <td>39768</td>\n",
       "      <td>0.065141</td>\n",
       "      <td>0</td>\n",
       "      <td>0</td>\n",
       "      <td>Beregis Avtomobilya</td>\n",
       "      <td>Eldar Ryazanov</td>\n",
       "      <td>94</td>\n",
       "      <td>Mystery|Comedy</td>\n",
       "      <td>1/1/66</td>\n",
       "      <td>11</td>\n",
       "      <td>6.5</td>\n",
       "      <td>1966</td>\n",
       "    </tr>\n",
       "    <tr>\n",
       "      <th>10864</th>\n",
       "      <td>21449</td>\n",
       "      <td>0.064317</td>\n",
       "      <td>0</td>\n",
       "      <td>0</td>\n",
       "      <td>What's Up, Tiger Lily?</td>\n",
       "      <td>Woody Allen</td>\n",
       "      <td>80</td>\n",
       "      <td>Action|Comedy</td>\n",
       "      <td>11/2/66</td>\n",
       "      <td>22</td>\n",
       "      <td>5.4</td>\n",
       "      <td>1966</td>\n",
       "    </tr>\n",
       "    <tr>\n",
       "      <th>10865</th>\n",
       "      <td>22293</td>\n",
       "      <td>0.035919</td>\n",
       "      <td>19000</td>\n",
       "      <td>0</td>\n",
       "      <td>Manos: The Hands of Fate</td>\n",
       "      <td>Harold P. Warren</td>\n",
       "      <td>74</td>\n",
       "      <td>Horror</td>\n",
       "      <td>11/15/66</td>\n",
       "      <td>15</td>\n",
       "      <td>1.5</td>\n",
       "      <td>1966</td>\n",
       "    </tr>\n",
       "  </tbody>\n",
       "</table>\n",
       "</div>"
      ],
      "text/plain": [
       "          id  popularity  budget  revenue            original_title  \\\n",
       "10861     21    0.080598       0        0        The Endless Summer   \n",
       "10862  20379    0.065543       0        0                Grand Prix   \n",
       "10863  39768    0.065141       0        0       Beregis Avtomobilya   \n",
       "10864  21449    0.064317       0        0    What's Up, Tiger Lily?   \n",
       "10865  22293    0.035919   19000        0  Manos: The Hands of Fate   \n",
       "\n",
       "                 director  runtime                  genres release_date  \\\n",
       "10861         Bruce Brown       95             Documentary      6/15/66   \n",
       "10862  John Frankenheimer      176  Action|Adventure|Drama     12/21/66   \n",
       "10863      Eldar Ryazanov       94          Mystery|Comedy       1/1/66   \n",
       "10864         Woody Allen       80           Action|Comedy      11/2/66   \n",
       "10865    Harold P. Warren       74                  Horror     11/15/66   \n",
       "\n",
       "       vote_count  vote_average  release_year  \n",
       "10861          11           7.4          1966  \n",
       "10862          20           5.7          1966  \n",
       "10863          11           6.5          1966  \n",
       "10864          22           5.4          1966  \n",
       "10865          15           1.5          1966  "
      ]
     },
     "execution_count": 3,
     "metadata": {},
     "output_type": "execute_result"
    }
   ],
   "source": [
    "# deleting quia columns will not be necessary.\n",
    "df.drop(['imdb_id', 'budget_adj', 'revenue_adj', 'homepage', 'tagline', 'keywords', 'overview', 'production_companies', 'cast'], axis=1, inplace=True)\n",
    "df.tail()"
   ]
  },
  {
   "cell_type": "code",
   "execution_count": 154,
   "metadata": {},
   "outputs": [
    {
     "name": "stdout",
     "output_type": "stream",
     "text": [
      "<class 'pandas.core.frame.DataFrame'>\n",
      "RangeIndex: 10866 entries, 0 to 10865\n",
      "Data columns (total 12 columns):\n",
      " #   Column          Non-Null Count  Dtype  \n",
      "---  ------          --------------  -----  \n",
      " 0   id              10866 non-null  int64  \n",
      " 1   popularity      10866 non-null  float64\n",
      " 2   budget          10866 non-null  int64  \n",
      " 3   revenue         10866 non-null  int64  \n",
      " 4   original_title  10866 non-null  object \n",
      " 5   director        10822 non-null  object \n",
      " 6   runtime         10866 non-null  int64  \n",
      " 7   genres          10843 non-null  object \n",
      " 8   release_date    10866 non-null  object \n",
      " 9   vote_count      10866 non-null  int64  \n",
      " 10  vote_average    10866 non-null  float64\n",
      " 11  release_year    10866 non-null  int64  \n",
      "dtypes: float64(2), int64(6), object(4)\n",
      "memory usage: 1018.8+ KB\n"
     ]
    }
   ],
   "source": [
    "df.info()"
   ]
  },
  {
   "cell_type": "code",
   "execution_count": 4,
   "metadata": {},
   "outputs": [
    {
     "data": {
      "text/plain": [
       "id                 0\n",
       "popularity         0\n",
       "budget             0\n",
       "revenue            0\n",
       "original_title     0\n",
       "director          44\n",
       "runtime            0\n",
       "genres            23\n",
       "release_date       0\n",
       "vote_count         0\n",
       "vote_average       0\n",
       "release_year       0\n",
       "dtype: int64"
      ]
     },
     "execution_count": 4,
     "metadata": {},
     "output_type": "execute_result"
    }
   ],
   "source": [
    "# checking null values.\n",
    "df.isnull().sum()"
   ]
  },
  {
   "cell_type": "code",
   "execution_count": 5,
   "metadata": {},
   "outputs": [],
   "source": [
    "# investigating the rows with null values.\n",
    "df.loc[df['genres'].isnull()]\n",
    "# seeing the lines with null values, I decided that because it is a small amount compared to the total number of records,\n",
    "# exclude them. And also because they do not contain values in revenues and budget.\n",
    "\n",
    "df = df.dropna(subset=['genres'])\n",
    "# I used this article as a guide to understand how to view and delete null values:\n",
    "# https://medium.com/horadecodar/como-tratar-dados-nulos-no-dataset-4f0470b22d38"
   ]
  },
  {
   "cell_type": "code",
   "execution_count": 6,
   "metadata": {},
   "outputs": [
    {
     "data": {
      "text/plain": [
       "id                 0\n",
       "popularity         0\n",
       "budget             0\n",
       "revenue            0\n",
       "original_title     0\n",
       "director          42\n",
       "runtime            0\n",
       "genres             0\n",
       "release_date       0\n",
       "vote_count         0\n",
       "vote_average       0\n",
       "release_year       0\n",
       "dtype: int64"
      ]
     },
     "execution_count": 6,
     "metadata": {},
     "output_type": "execute_result"
    }
   ],
   "source": [
    "# sem valores nulos\n",
    "df.isnull().sum()"
   ]
  },
  {
   "cell_type": "code",
   "execution_count": 7,
   "metadata": {},
   "outputs": [],
   "source": [
    "# checked the 'director' column.\n",
    "# I will insert the information 'not registered'.\n",
    "df.loc[df['director'].isnull()]\n",
    "df.update(df['director'].fillna('Not Registered'))"
   ]
  },
  {
   "cell_type": "code",
   "execution_count": 8,
   "metadata": {},
   "outputs": [
    {
     "data": {
      "text/plain": [
       "id                0\n",
       "popularity        0\n",
       "budget            0\n",
       "revenue           0\n",
       "original_title    0\n",
       "director          0\n",
       "runtime           0\n",
       "genres            0\n",
       "release_date      0\n",
       "vote_count        0\n",
       "vote_average      0\n",
       "release_year      0\n",
       "dtype: int64"
      ]
     },
     "execution_count": 8,
     "metadata": {},
     "output_type": "execute_result"
    }
   ],
   "source": [
    "df.isnull().sum()"
   ]
  },
  {
   "cell_type": "code",
   "execution_count": 9,
   "metadata": {},
   "outputs": [
    {
     "name": "stdout",
     "output_type": "stream",
     "text": [
      "<class 'pandas.core.frame.DataFrame'>\n",
      "Int64Index: 10843 entries, 0 to 10865\n",
      "Data columns (total 12 columns):\n",
      " #   Column          Non-Null Count  Dtype         \n",
      "---  ------          --------------  -----         \n",
      " 0   id              10843 non-null  int64         \n",
      " 1   popularity      10843 non-null  float64       \n",
      " 2   budget          10843 non-null  int64         \n",
      " 3   revenue         10843 non-null  int64         \n",
      " 4   original_title  10843 non-null  object        \n",
      " 5   director        10843 non-null  object        \n",
      " 6   runtime         10843 non-null  int64         \n",
      " 7   genres          10843 non-null  object        \n",
      " 8   release_date    10843 non-null  datetime64[ns]\n",
      " 9   vote_count      10843 non-null  int64         \n",
      " 10  vote_average    10843 non-null  float64       \n",
      " 11  release_year    10843 non-null  int64         \n",
      "dtypes: datetime64[ns](1), float64(2), int64(6), object(3)\n",
      "memory usage: 1.1+ MB\n"
     ]
    }
   ],
   "source": [
    "# here I understand that the column 'release_date' is transformed into a date format.\n",
    "df['release_date'] = pd.to_datetime(df.release_date)\n",
    "df.info()"
   ]
  },
  {
   "cell_type": "code",
   "execution_count": 10,
   "metadata": {},
   "outputs": [
    {
     "data": {
      "text/plain": [
       "0   2015-06-09\n",
       "Name: release_date, dtype: datetime64[ns]"
      ]
     },
     "execution_count": 10,
     "metadata": {},
     "output_type": "execute_result"
    }
   ],
   "source": [
    "# I understand that turning the column into a date format can be useful if there is any correlation of\n",
    "# the month with large revenues.\n",
    "df['release_date'].head(1)"
   ]
  },
  {
   "cell_type": "code",
   "execution_count": 11,
   "metadata": {},
   "outputs": [
    {
     "data": {
      "text/plain": [
       "1"
      ]
     },
     "execution_count": 11,
     "metadata": {},
     "output_type": "execute_result"
    }
   ],
   "source": [
    "# now i will check for duplicate values and if this is significant for doing some kind of treatment.\n",
    "sum(df.duplicated())"
   ]
  },
  {
   "cell_type": "code",
   "execution_count": 12,
   "metadata": {},
   "outputs": [
    {
     "data": {
      "text/html": [
       "<div>\n",
       "<style scoped>\n",
       "    .dataframe tbody tr th:only-of-type {\n",
       "        vertical-align: middle;\n",
       "    }\n",
       "\n",
       "    .dataframe tbody tr th {\n",
       "        vertical-align: top;\n",
       "    }\n",
       "\n",
       "    .dataframe thead th {\n",
       "        text-align: right;\n",
       "    }\n",
       "</style>\n",
       "<table border=\"1\" class=\"dataframe\">\n",
       "  <thead>\n",
       "    <tr style=\"text-align: right;\">\n",
       "      <th></th>\n",
       "      <th>id</th>\n",
       "      <th>popularity</th>\n",
       "      <th>budget</th>\n",
       "      <th>revenue</th>\n",
       "      <th>original_title</th>\n",
       "      <th>director</th>\n",
       "      <th>runtime</th>\n",
       "      <th>genres</th>\n",
       "      <th>release_date</th>\n",
       "      <th>vote_count</th>\n",
       "      <th>vote_average</th>\n",
       "      <th>release_year</th>\n",
       "    </tr>\n",
       "  </thead>\n",
       "  <tbody>\n",
       "    <tr>\n",
       "      <th>2090</th>\n",
       "      <td>42194</td>\n",
       "      <td>0.59643</td>\n",
       "      <td>30000000</td>\n",
       "      <td>967000</td>\n",
       "      <td>TEKKEN</td>\n",
       "      <td>Dwight H. Little</td>\n",
       "      <td>92</td>\n",
       "      <td>Crime|Drama|Action|Thriller|Science Fiction</td>\n",
       "      <td>2010-03-20</td>\n",
       "      <td>110</td>\n",
       "      <td>5.0</td>\n",
       "      <td>2010</td>\n",
       "    </tr>\n",
       "  </tbody>\n",
       "</table>\n",
       "</div>"
      ],
      "text/plain": [
       "         id  popularity    budget  revenue original_title          director  \\\n",
       "2090  42194     0.59643  30000000   967000         TEKKEN  Dwight H. Little   \n",
       "\n",
       "      runtime                                       genres release_date  \\\n",
       "2090       92  Crime|Drama|Action|Thriller|Science Fiction   2010-03-20   \n",
       "\n",
       "      vote_count  vote_average  release_year  \n",
       "2090         110           5.0          2010  "
      ]
     },
     "execution_count": 12,
     "metadata": {},
     "output_type": "execute_result"
    }
   ],
   "source": [
    "# checked what this record is.\n",
    "df.loc[df.duplicated()]"
   ]
  },
  {
   "cell_type": "code",
   "execution_count": 13,
   "metadata": {},
   "outputs": [
    {
     "data": {
      "text/html": [
       "<div>\n",
       "<style scoped>\n",
       "    .dataframe tbody tr th:only-of-type {\n",
       "        vertical-align: middle;\n",
       "    }\n",
       "\n",
       "    .dataframe tbody tr th {\n",
       "        vertical-align: top;\n",
       "    }\n",
       "\n",
       "    .dataframe thead th {\n",
       "        text-align: right;\n",
       "    }\n",
       "</style>\n",
       "<table border=\"1\" class=\"dataframe\">\n",
       "  <thead>\n",
       "    <tr style=\"text-align: right;\">\n",
       "      <th></th>\n",
       "      <th>id</th>\n",
       "      <th>popularity</th>\n",
       "      <th>budget</th>\n",
       "      <th>revenue</th>\n",
       "      <th>original_title</th>\n",
       "      <th>director</th>\n",
       "      <th>runtime</th>\n",
       "      <th>genres</th>\n",
       "      <th>release_date</th>\n",
       "      <th>vote_count</th>\n",
       "      <th>vote_average</th>\n",
       "      <th>release_year</th>\n",
       "    </tr>\n",
       "  </thead>\n",
       "  <tbody>\n",
       "    <tr>\n",
       "      <th>2089</th>\n",
       "      <td>42194</td>\n",
       "      <td>0.59643</td>\n",
       "      <td>30000000</td>\n",
       "      <td>967000</td>\n",
       "      <td>TEKKEN</td>\n",
       "      <td>Dwight H. Little</td>\n",
       "      <td>92</td>\n",
       "      <td>Crime|Drama|Action|Thriller|Science Fiction</td>\n",
       "      <td>2010-03-20</td>\n",
       "      <td>110</td>\n",
       "      <td>5.0</td>\n",
       "      <td>2010</td>\n",
       "    </tr>\n",
       "    <tr>\n",
       "      <th>2090</th>\n",
       "      <td>42194</td>\n",
       "      <td>0.59643</td>\n",
       "      <td>30000000</td>\n",
       "      <td>967000</td>\n",
       "      <td>TEKKEN</td>\n",
       "      <td>Dwight H. Little</td>\n",
       "      <td>92</td>\n",
       "      <td>Crime|Drama|Action|Thriller|Science Fiction</td>\n",
       "      <td>2010-03-20</td>\n",
       "      <td>110</td>\n",
       "      <td>5.0</td>\n",
       "      <td>2010</td>\n",
       "    </tr>\n",
       "  </tbody>\n",
       "</table>\n",
       "</div>"
      ],
      "text/plain": [
       "         id  popularity    budget  revenue original_title          director  \\\n",
       "2089  42194     0.59643  30000000   967000         TEKKEN  Dwight H. Little   \n",
       "2090  42194     0.59643  30000000   967000         TEKKEN  Dwight H. Little   \n",
       "\n",
       "      runtime                                       genres release_date  \\\n",
       "2089       92  Crime|Drama|Action|Thriller|Science Fiction   2010-03-20   \n",
       "2090       92  Crime|Drama|Action|Thriller|Science Fiction   2010-03-20   \n",
       "\n",
       "      vote_count  vote_average  release_year  \n",
       "2089         110           5.0          2010  \n",
       "2090         110           5.0          2010  "
      ]
     },
     "execution_count": 13,
     "metadata": {},
     "output_type": "execute_result"
    }
   ],
   "source": [
    "# confirming duplicate registration.\n",
    "df.loc[df['original_title'] == 'TEKKEN']"
   ]
  },
  {
   "cell_type": "code",
   "execution_count": 14,
   "metadata": {},
   "outputs": [
    {
     "name": "stdout",
     "output_type": "stream",
     "text": [
      "<class 'pandas.core.frame.DataFrame'>\n",
      "Int64Index: 10842 entries, 0 to 10865\n",
      "Data columns (total 12 columns):\n",
      " #   Column          Non-Null Count  Dtype         \n",
      "---  ------          --------------  -----         \n",
      " 0   id              10842 non-null  int64         \n",
      " 1   popularity      10842 non-null  float64       \n",
      " 2   budget          10842 non-null  int64         \n",
      " 3   revenue         10842 non-null  int64         \n",
      " 4   original_title  10842 non-null  object        \n",
      " 5   director        10842 non-null  object        \n",
      " 6   runtime         10842 non-null  int64         \n",
      " 7   genres          10842 non-null  object        \n",
      " 8   release_date    10842 non-null  datetime64[ns]\n",
      " 9   vote_count      10842 non-null  int64         \n",
      " 10  vote_average    10842 non-null  float64       \n",
      " 11  release_year    10842 non-null  int64         \n",
      "dtypes: datetime64[ns](1), float64(2), int64(6), object(3)\n",
      "memory usage: 1.1+ MB\n"
     ]
    }
   ],
   "source": [
    "# I will delete it.\n",
    "# we had 10843 records, now 10842.\n",
    "df = df.drop_duplicates()\n",
    "df.info()"
   ]
  },
  {
   "cell_type": "code",
   "execution_count": 18,
   "metadata": {},
   "outputs": [
    {
     "data": {
      "text/html": [
       "<div>\n",
       "<style scoped>\n",
       "    .dataframe tbody tr th:only-of-type {\n",
       "        vertical-align: middle;\n",
       "    }\n",
       "\n",
       "    .dataframe tbody tr th {\n",
       "        vertical-align: top;\n",
       "    }\n",
       "\n",
       "    .dataframe thead th {\n",
       "        text-align: right;\n",
       "    }\n",
       "</style>\n",
       "<table border=\"1\" class=\"dataframe\">\n",
       "  <thead>\n",
       "    <tr style=\"text-align: right;\">\n",
       "      <th></th>\n",
       "      <th>id</th>\n",
       "      <th>popularity</th>\n",
       "      <th>budget</th>\n",
       "      <th>revenue</th>\n",
       "      <th>runtime</th>\n",
       "      <th>vote_count</th>\n",
       "      <th>vote_average</th>\n",
       "      <th>release_year</th>\n",
       "    </tr>\n",
       "  </thead>\n",
       "  <tbody>\n",
       "    <tr>\n",
       "      <th>count</th>\n",
       "      <td>10842.000000</td>\n",
       "      <td>10842.000000</td>\n",
       "      <td>1.084200e+04</td>\n",
       "      <td>1.084200e+04</td>\n",
       "      <td>10842.000000</td>\n",
       "      <td>10842.000000</td>\n",
       "      <td>10842.000000</td>\n",
       "      <td>10842.000000</td>\n",
       "    </tr>\n",
       "    <tr>\n",
       "      <th>mean</th>\n",
       "      <td>65870.675521</td>\n",
       "      <td>0.647461</td>\n",
       "      <td>1.465531e+07</td>\n",
       "      <td>3.991138e+07</td>\n",
       "      <td>102.138443</td>\n",
       "      <td>217.823649</td>\n",
       "      <td>5.974064</td>\n",
       "      <td>2001.314794</td>\n",
       "    </tr>\n",
       "    <tr>\n",
       "      <th>std</th>\n",
       "      <td>91981.355752</td>\n",
       "      <td>1.001032</td>\n",
       "      <td>3.093971e+07</td>\n",
       "      <td>1.171179e+08</td>\n",
       "      <td>31.294612</td>\n",
       "      <td>576.180993</td>\n",
       "      <td>0.934257</td>\n",
       "      <td>12.813617</td>\n",
       "    </tr>\n",
       "    <tr>\n",
       "      <th>min</th>\n",
       "      <td>5.000000</td>\n",
       "      <td>0.000065</td>\n",
       "      <td>0.000000e+00</td>\n",
       "      <td>0.000000e+00</td>\n",
       "      <td>0.000000</td>\n",
       "      <td>10.000000</td>\n",
       "      <td>1.500000</td>\n",
       "      <td>1960.000000</td>\n",
       "    </tr>\n",
       "    <tr>\n",
       "      <th>25%</th>\n",
       "      <td>10589.250000</td>\n",
       "      <td>0.208210</td>\n",
       "      <td>0.000000e+00</td>\n",
       "      <td>0.000000e+00</td>\n",
       "      <td>90.000000</td>\n",
       "      <td>17.000000</td>\n",
       "      <td>5.400000</td>\n",
       "      <td>1995.000000</td>\n",
       "    </tr>\n",
       "    <tr>\n",
       "      <th>50%</th>\n",
       "      <td>20557.000000</td>\n",
       "      <td>0.384532</td>\n",
       "      <td>0.000000e+00</td>\n",
       "      <td>0.000000e+00</td>\n",
       "      <td>99.000000</td>\n",
       "      <td>38.000000</td>\n",
       "      <td>6.000000</td>\n",
       "      <td>2006.000000</td>\n",
       "    </tr>\n",
       "    <tr>\n",
       "      <th>75%</th>\n",
       "      <td>75186.000000</td>\n",
       "      <td>0.715393</td>\n",
       "      <td>1.500000e+07</td>\n",
       "      <td>2.414118e+07</td>\n",
       "      <td>111.000000</td>\n",
       "      <td>146.000000</td>\n",
       "      <td>6.600000</td>\n",
       "      <td>2011.000000</td>\n",
       "    </tr>\n",
       "    <tr>\n",
       "      <th>max</th>\n",
       "      <td>417859.000000</td>\n",
       "      <td>32.985763</td>\n",
       "      <td>4.250000e+08</td>\n",
       "      <td>2.781506e+09</td>\n",
       "      <td>900.000000</td>\n",
       "      <td>9767.000000</td>\n",
       "      <td>9.200000</td>\n",
       "      <td>2015.000000</td>\n",
       "    </tr>\n",
       "  </tbody>\n",
       "</table>\n",
       "</div>"
      ],
      "text/plain": [
       "                  id    popularity        budget       revenue       runtime  \\\n",
       "count   10842.000000  10842.000000  1.084200e+04  1.084200e+04  10842.000000   \n",
       "mean    65870.675521      0.647461  1.465531e+07  3.991138e+07    102.138443   \n",
       "std     91981.355752      1.001032  3.093971e+07  1.171179e+08     31.294612   \n",
       "min         5.000000      0.000065  0.000000e+00  0.000000e+00      0.000000   \n",
       "25%     10589.250000      0.208210  0.000000e+00  0.000000e+00     90.000000   \n",
       "50%     20557.000000      0.384532  0.000000e+00  0.000000e+00     99.000000   \n",
       "75%     75186.000000      0.715393  1.500000e+07  2.414118e+07    111.000000   \n",
       "max    417859.000000     32.985763  4.250000e+08  2.781506e+09    900.000000   \n",
       "\n",
       "         vote_count  vote_average  release_year  \n",
       "count  10842.000000  10842.000000  10842.000000  \n",
       "mean     217.823649      5.974064   2001.314794  \n",
       "std      576.180993      0.934257     12.813617  \n",
       "min       10.000000      1.500000   1960.000000  \n",
       "25%       17.000000      5.400000   1995.000000  \n",
       "50%       38.000000      6.000000   2006.000000  \n",
       "75%      146.000000      6.600000   2011.000000  \n",
       "max     9767.000000      9.200000   2015.000000  "
      ]
     },
     "execution_count": 18,
     "metadata": {},
     "output_type": "execute_result"
    }
   ],
   "source": [
    "# main statistical data averages.\n",
    "df.describe()"
   ]
  },
  {
   "cell_type": "code",
   "execution_count": 19,
   "metadata": {},
   "outputs": [
    {
     "data": {
      "text/plain": [
       "budget     5674\n",
       "revenue    5993\n",
       "runtime      30\n",
       "dtype: int64"
      ]
     },
     "execution_count": 19,
     "metadata": {},
     "output_type": "execute_result"
    }
   ],
   "source": [
    "# finding and counting all '0' values in budget, revenue and runtime\n",
    "(df[['budget','revenue','runtime']] == 0).sum()"
   ]
  },
  {
   "cell_type": "markdown",
   "metadata": {},
   "source": [
    "> Analyzing the descriptive statistical data, it is noted that the budget, revenue and runtime variables have minimum values equal to zero. My idea was to count how many records contain zero values to determine whether I would treat that data with some null value technique. The budget and revenue variables contain many records with values equal to zero, approximately half of the records, to be more precise, 5674 and 5,993 lines, respectively. The runtime contains only 30 lines, which is already a more interesting number to make such a treatment, and I decide to use fashion. I believe that treating the budget and revenue variables will bias the data, so I decide not to do it."
   ]
  },
  {
   "cell_type": "code",
   "execution_count": 20,
   "metadata": {},
   "outputs": [],
   "source": [
    "# turning the values 0 into nan\n",
    "df['runtime'] = df['runtime'].replace(0,np.NAN)"
   ]
  },
  {
   "cell_type": "code",
   "execution_count": 21,
   "metadata": {},
   "outputs": [
    {
     "data": {
      "text/plain": [
       "30"
      ]
     },
     "execution_count": 21,
     "metadata": {},
     "output_type": "execute_result"
    }
   ],
   "source": [
    "# counting nan values\n",
    "df['runtime'].isnull().sum()"
   ]
  },
  {
   "cell_type": "code",
   "execution_count": 22,
   "metadata": {},
   "outputs": [
    {
     "data": {
      "text/html": [
       "<div>\n",
       "<style scoped>\n",
       "    .dataframe tbody tr th:only-of-type {\n",
       "        vertical-align: middle;\n",
       "    }\n",
       "\n",
       "    .dataframe tbody tr th {\n",
       "        vertical-align: top;\n",
       "    }\n",
       "\n",
       "    .dataframe thead th {\n",
       "        text-align: right;\n",
       "    }\n",
       "</style>\n",
       "<table border=\"1\" class=\"dataframe\">\n",
       "  <thead>\n",
       "    <tr style=\"text-align: right;\">\n",
       "      <th></th>\n",
       "      <th>budget</th>\n",
       "      <th>revenue</th>\n",
       "      <th>runtime</th>\n",
       "    </tr>\n",
       "  </thead>\n",
       "  <tbody>\n",
       "    <tr>\n",
       "      <th>count</th>\n",
       "      <td>1.084200e+04</td>\n",
       "      <td>1.084200e+04</td>\n",
       "      <td>10842.000000</td>\n",
       "    </tr>\n",
       "    <tr>\n",
       "      <th>mean</th>\n",
       "      <td>1.465531e+07</td>\n",
       "      <td>3.991138e+07</td>\n",
       "      <td>102.387475</td>\n",
       "    </tr>\n",
       "    <tr>\n",
       "      <th>std</th>\n",
       "      <td>3.093971e+07</td>\n",
       "      <td>1.171179e+08</td>\n",
       "      <td>30.835524</td>\n",
       "    </tr>\n",
       "    <tr>\n",
       "      <th>min</th>\n",
       "      <td>0.000000e+00</td>\n",
       "      <td>0.000000e+00</td>\n",
       "      <td>2.000000</td>\n",
       "    </tr>\n",
       "    <tr>\n",
       "      <th>25%</th>\n",
       "      <td>0.000000e+00</td>\n",
       "      <td>0.000000e+00</td>\n",
       "      <td>90.000000</td>\n",
       "    </tr>\n",
       "    <tr>\n",
       "      <th>50%</th>\n",
       "      <td>0.000000e+00</td>\n",
       "      <td>0.000000e+00</td>\n",
       "      <td>99.000000</td>\n",
       "    </tr>\n",
       "    <tr>\n",
       "      <th>75%</th>\n",
       "      <td>1.500000e+07</td>\n",
       "      <td>2.414118e+07</td>\n",
       "      <td>111.000000</td>\n",
       "    </tr>\n",
       "    <tr>\n",
       "      <th>max</th>\n",
       "      <td>4.250000e+08</td>\n",
       "      <td>2.781506e+09</td>\n",
       "      <td>900.000000</td>\n",
       "    </tr>\n",
       "  </tbody>\n",
       "</table>\n",
       "</div>"
      ],
      "text/plain": [
       "             budget       revenue       runtime\n",
       "count  1.084200e+04  1.084200e+04  10842.000000\n",
       "mean   1.465531e+07  3.991138e+07    102.387475\n",
       "std    3.093971e+07  1.171179e+08     30.835524\n",
       "min    0.000000e+00  0.000000e+00      2.000000\n",
       "25%    0.000000e+00  0.000000e+00     90.000000\n",
       "50%    0.000000e+00  0.000000e+00     99.000000\n",
       "75%    1.500000e+07  2.414118e+07    111.000000\n",
       "max    4.250000e+08  2.781506e+09    900.000000"
      ]
     },
     "execution_count": 22,
     "metadata": {},
     "output_type": "execute_result"
    }
   ],
   "source": [
    "# applying mode to nan values, which were previously 0\n",
    "mode = df['runtime'].mode()\n",
    "# the mode for the runtime is equal to 90\n",
    "df['runtime'] = df['runtime'].fillna(int(mode))\n",
    "df[['budget', 'revenue', 'runtime']].describe()"
   ]
  },
  {
   "cell_type": "code",
   "execution_count": 23,
   "metadata": {},
   "outputs": [
    {
     "data": {
      "text/plain": [
       "0"
      ]
     },
     "execution_count": 23,
     "metadata": {},
     "output_type": "execute_result"
    }
   ],
   "source": [
    "# checking if the runtime contains null values\n",
    "df['runtime'].isnull().sum()"
   ]
  },
  {
   "cell_type": "markdown",
   "metadata": {},
   "source": [
    "> In this part of data cleaning I decided to stick to the variables that I believe are relevant in relation to the recipes. I looked for duplicate data, missing data, data types and finally the main statistical averages of quantitative data. The average of the popularity data was 0.6 and 75% of them was 0.71 which says that 32.9 as a maximum number is definitely an extreme value. I will probably treat this variable with the median in future analyzes. There are distant values also in the vote_count and runtime variables. Vote_average has an average of 5.9, slightly distant from the maximum value of 9.2. Once again, I will possibly deal with the median that is 6. The titles have an average of 102 minutes and 75% of them performed in 2011. The budget, revenue and runtime variables were zero. I counted the records of each one, and decided to treat only the runtime, since it was a very small number (30 lines). In order not to interfere with budget and revenue, I will leave them as they are, because the number of lines equal to zero corresponds to approximately half of the data."
   ]
  },
  {
   "cell_type": "markdown",
   "metadata": {},
   "source": [
    "## Exploratory Data Analysis"
   ]
  },
  {
   "cell_type": "markdown",
   "metadata": {},
   "source": [
    "> After cleaning and understanding the meaning of your variables, the next step is to explore and understand it. The main objective is to verify which variables directly impact movie revenues. Or rather, which variables are important for this. To explore the data I will plot some statistical graphs, because I understand that graph visualization is more intuitive."
   ]
  },
  {
   "cell_type": "code",
   "execution_count": 24,
   "metadata": {},
   "outputs": [
    {
     "data": {
      "image/png": "[encoded data removed]",
      "text/plain": [
       "<Figure size 720x576 with 9 Axes>"
      ]
     },
     "metadata": {
      "needs_background": "light"
     },
     "output_type": "display_data"
    }
   ],
   "source": [
    "# I decided to plot histograms to better visualize the data layout.\n",
    "df.hist(figsize=(10,8));"
   ]
  },
  {
   "cell_type": "markdown",
   "metadata": {},
   "source": [
    "> Selling the histograms for each quantitative variable, I notice that with the exception of 'vote_average' and 'release_year' they are all skewed to the right indicating that the average will be relatively higher than the median. An indication for using medians in the data."
   ]
  },
  {
   "cell_type": "markdown",
   "metadata": {},
   "source": [
    "### Analyzing revenues with 'vote_count', 'popularity' ,  'runtime' and 'budget."
   ]
  },
  {
   "cell_type": "markdown",
   "metadata": {},
   "source": [
    "> From here I will start by analyzing the runtime, vote_count and popularity variables to identify which ones influence high revenues in some way."
   ]
  },
  {
   "cell_type": "code",
   "execution_count": 25,
   "metadata": {},
   "outputs": [
    {
     "data": {
      "image/png": "[encoded data removed]",
      "text/plain": [
       "<Figure size 432x288 with 1 Axes>"
      ]
     },
     "metadata": {
      "needs_background": "light"
     },
     "output_type": "display_data"
    }
   ],
   "source": [
    "# 'runtime' over time.\n",
    "df.groupby(['release_year']).agg({'runtime': 'median'}).plot();\n",
    "plt.xlabel('Release year')\n",
    "plt.ylabel('Median runtime')\n",
    "plt.title('Runtime trend over the years')\n",
    "plt.show()\n",
    "# the median time of films has been decreasing over the years."
   ]
  },
  {
   "cell_type": "code",
   "execution_count": 26,
   "metadata": {},
   "outputs": [
    {
     "data": {
      "image/png": "[encoded data removed]",
      "text/plain": [
       "<Figure size 432x288 with 1 Axes>"
      ]
     },
     "metadata": {
      "needs_background": "light"
     },
     "output_type": "display_data"
    }
   ],
   "source": [
    "# 'revenue' over time.\n",
    "df.groupby(['release_year']).agg({'revenue': 'mean'}).plot();\n",
    "plt.xlabel('Release year')\n",
    "plt.ylabel('Revenue US$ Million')\n",
    "plt.title('Revenue trend over the years')\n",
    "plt.show()\n",
    "# the median revenue for films has been increasing over the years."
   ]
  },
  {
   "cell_type": "code",
   "execution_count": 27,
   "metadata": {},
   "outputs": [
    {
     "data": {
      "image/png": "[encoded data removed]",
      "text/plain": [
       "<Figure size 432x288 with 1 Axes>"
      ]
     },
     "metadata": {
      "needs_background": "light"
     },
     "output_type": "display_data"
    }
   ],
   "source": [
    "df.groupby(['release_year']).agg({'budget': 'sum'}).plot();\n",
    "plt.xlabel('Release year')\n",
    "plt.ylabel('Budget US$ Milion')\n",
    "plt.title('Trend of budget over the years')\n",
    "plt.show()"
   ]
  },
  {
   "cell_type": "code",
   "execution_count": 28,
   "metadata": {},
   "outputs": [
    {
     "data": {
      "image/png": "[encoded data removed]",
      "text/plain": [
       "<Figure size 432x288 with 1 Axes>"
      ]
     },
     "metadata": {
      "needs_background": "light"
     },
     "output_type": "display_data"
    }
   ],
   "source": [
    "# 'voue_count' over time.\n",
    "df.groupby(['release_year']).agg({'vote_count': 'median'}).plot();\n",
    "plt.xlabel('Release year')\n",
    "plt.ylabel('Median vote_count')\n",
    "plt.title('Trend of voute count over the years')\n",
    "plt.show()\n",
    "# median votes have been increasing over the years"
   ]
  },
  {
   "cell_type": "code",
   "execution_count": 29,
   "metadata": {},
   "outputs": [
    {
     "data": {
      "image/png": "[encoded data removed]",
      "text/plain": [
       "<Figure size 432x288 with 1 Axes>"
      ]
     },
     "metadata": {
      "needs_background": "light"
     },
     "output_type": "display_data"
    }
   ],
   "source": [
    "# popularity has also increased over the years.\n",
    "df.groupby(['release_year']).agg({'popularity': 'median'}).plot();\n",
    "plt.xlabel('Release year')\n",
    "plt.ylabel('Median popularity')\n",
    "plt.title('Trend of popularity over the years')\n",
    "plt.show()"
   ]
  },
  {
   "cell_type": "markdown",
   "metadata": {},
   "source": [
    "> Analyzing the graphs above with the exception of runtime, all other variables have increased significantly over the years. I highlight the budget that has grown exponentially until 2010. Revenues continued to grow, however in the mid-2000s they fell. Vote_count and popularity have also grown over the years, falling as well, in the early 2000s."
   ]
  },
  {
   "cell_type": "code",
   "execution_count": 30,
   "metadata": {},
   "outputs": [
    {
     "data": {
      "text/html": [
       "<div>\n",
       "<style scoped>\n",
       "    .dataframe tbody tr th:only-of-type {\n",
       "        vertical-align: middle;\n",
       "    }\n",
       "\n",
       "    .dataframe tbody tr th {\n",
       "        vertical-align: top;\n",
       "    }\n",
       "\n",
       "    .dataframe thead th {\n",
       "        text-align: right;\n",
       "    }\n",
       "</style>\n",
       "<table border=\"1\" class=\"dataframe\">\n",
       "  <thead>\n",
       "    <tr style=\"text-align: right;\">\n",
       "      <th></th>\n",
       "      <th>original_title</th>\n",
       "    </tr>\n",
       "    <tr>\n",
       "      <th>release_year</th>\n",
       "      <th></th>\n",
       "    </tr>\n",
       "  </thead>\n",
       "  <tbody>\n",
       "    <tr>\n",
       "      <th>2014</th>\n",
       "      <td>699</td>\n",
       "    </tr>\n",
       "    <tr>\n",
       "      <th>2013</th>\n",
       "      <td>656</td>\n",
       "    </tr>\n",
       "    <tr>\n",
       "      <th>2015</th>\n",
       "      <td>627</td>\n",
       "    </tr>\n",
       "    <tr>\n",
       "      <th>2012</th>\n",
       "      <td>584</td>\n",
       "    </tr>\n",
       "    <tr>\n",
       "      <th>2011</th>\n",
       "      <td>540</td>\n",
       "    </tr>\n",
       "    <tr>\n",
       "      <th>2009</th>\n",
       "      <td>531</td>\n",
       "    </tr>\n",
       "    <tr>\n",
       "      <th>2008</th>\n",
       "      <td>495</td>\n",
       "    </tr>\n",
       "    <tr>\n",
       "      <th>2010</th>\n",
       "      <td>487</td>\n",
       "    </tr>\n",
       "    <tr>\n",
       "      <th>2007</th>\n",
       "      <td>438</td>\n",
       "    </tr>\n",
       "    <tr>\n",
       "      <th>2006</th>\n",
       "      <td>408</td>\n",
       "    </tr>\n",
       "  </tbody>\n",
       "</table>\n",
       "</div>"
      ],
      "text/plain": [
       "              original_title\n",
       "release_year                \n",
       "2014                     699\n",
       "2013                     656\n",
       "2015                     627\n",
       "2012                     584\n",
       "2011                     540\n",
       "2009                     531\n",
       "2008                     495\n",
       "2010                     487\n",
       "2007                     438\n",
       "2006                     408"
      ]
     },
     "execution_count": 30,
     "metadata": {},
     "output_type": "execute_result"
    }
   ],
   "source": [
    "year_count = df.groupby('release_year').agg({'original_title': 'count'}).sort_values('original_title', ascending=False)\n",
    "year_count.head(10)"
   ]
  },
  {
   "cell_type": "code",
   "execution_count": 31,
   "metadata": {},
   "outputs": [
    {
     "data": {
      "image/png": "[encoded data removed]",
      "text/plain": [
       "<Figure size 432x288 with 1 Axes>"
      ]
     },
     "metadata": {
      "needs_background": "light"
     },
     "output_type": "display_data"
    }
   ],
   "source": [
    "# checking the amount of films released over time\n",
    "year_count.plot();\n",
    "plt.xlabel('Release year')\n",
    "plt.ylabel('Count titles')\n",
    "plt.title('Number of titles per year')\n",
    "plt.show()"
   ]
  },
  {
   "cell_type": "markdown",
   "metadata": {},
   "source": [
    "> It is clear that over time many more films have been released, mainly in this century, compared to the last century. 2014 was the launching champion with 699 films followed by 2013 with 656."
   ]
  },
  {
   "cell_type": "markdown",
   "metadata": {},
   "source": [
    "## Directors with better revenue and profit performance"
   ]
  },
  {
   "cell_type": "markdown",
   "metadata": {},
   "source": [
    "In this section I intend to understand the data of directors and search for what has the best performance in revenue over the years, best profits and if, each one was a product, which will be the best average ticket."
   ]
  },
  {
   "cell_type": "code",
   "execution_count": 32,
   "metadata": {},
   "outputs": [
    {
     "data": {
      "text/html": [
       "<div>\n",
       "<style scoped>\n",
       "    .dataframe tbody tr th:only-of-type {\n",
       "        vertical-align: middle;\n",
       "    }\n",
       "\n",
       "    .dataframe tbody tr th {\n",
       "        vertical-align: top;\n",
       "    }\n",
       "\n",
       "    .dataframe thead th {\n",
       "        text-align: right;\n",
       "    }\n",
       "</style>\n",
       "<table border=\"1\" class=\"dataframe\">\n",
       "  <thead>\n",
       "    <tr style=\"text-align: right;\">\n",
       "      <th></th>\n",
       "      <th>id</th>\n",
       "      <th>popularity</th>\n",
       "      <th>budget</th>\n",
       "      <th>revenue</th>\n",
       "      <th>original_title</th>\n",
       "      <th>director</th>\n",
       "      <th>runtime</th>\n",
       "      <th>genres</th>\n",
       "      <th>release_date</th>\n",
       "      <th>vote_count</th>\n",
       "      <th>vote_average</th>\n",
       "      <th>release_year</th>\n",
       "    </tr>\n",
       "  </thead>\n",
       "  <tbody>\n",
       "    <tr>\n",
       "      <th>0</th>\n",
       "      <td>135397</td>\n",
       "      <td>32.985763</td>\n",
       "      <td>150000000</td>\n",
       "      <td>1513528810</td>\n",
       "      <td>Jurassic World</td>\n",
       "      <td>Colin Trevorrow</td>\n",
       "      <td>124.0</td>\n",
       "      <td>Action|Adventure|Science Fiction|Thriller</td>\n",
       "      <td>2015-06-09</td>\n",
       "      <td>5562</td>\n",
       "      <td>6.5</td>\n",
       "      <td>2015</td>\n",
       "    </tr>\n",
       "    <tr>\n",
       "      <th>1</th>\n",
       "      <td>76341</td>\n",
       "      <td>28.419936</td>\n",
       "      <td>150000000</td>\n",
       "      <td>378436354</td>\n",
       "      <td>Mad Max: Fury Road</td>\n",
       "      <td>George Miller</td>\n",
       "      <td>120.0</td>\n",
       "      <td>Action|Adventure|Science Fiction|Thriller</td>\n",
       "      <td>2015-05-13</td>\n",
       "      <td>6185</td>\n",
       "      <td>7.1</td>\n",
       "      <td>2015</td>\n",
       "    </tr>\n",
       "    <tr>\n",
       "      <th>2</th>\n",
       "      <td>262500</td>\n",
       "      <td>13.112507</td>\n",
       "      <td>110000000</td>\n",
       "      <td>295238201</td>\n",
       "      <td>Insurgent</td>\n",
       "      <td>Robert Schwentke</td>\n",
       "      <td>119.0</td>\n",
       "      <td>Adventure|Science Fiction|Thriller</td>\n",
       "      <td>2015-03-18</td>\n",
       "      <td>2480</td>\n",
       "      <td>6.3</td>\n",
       "      <td>2015</td>\n",
       "    </tr>\n",
       "    <tr>\n",
       "      <th>3</th>\n",
       "      <td>140607</td>\n",
       "      <td>11.173104</td>\n",
       "      <td>200000000</td>\n",
       "      <td>2068178225</td>\n",
       "      <td>Star Wars: The Force Awakens</td>\n",
       "      <td>J.J. Abrams</td>\n",
       "      <td>136.0</td>\n",
       "      <td>Action|Adventure|Science Fiction|Fantasy</td>\n",
       "      <td>2015-12-15</td>\n",
       "      <td>5292</td>\n",
       "      <td>7.5</td>\n",
       "      <td>2015</td>\n",
       "    </tr>\n",
       "    <tr>\n",
       "      <th>4</th>\n",
       "      <td>168259</td>\n",
       "      <td>9.335014</td>\n",
       "      <td>190000000</td>\n",
       "      <td>1506249360</td>\n",
       "      <td>Furious 7</td>\n",
       "      <td>James Wan</td>\n",
       "      <td>137.0</td>\n",
       "      <td>Action|Crime|Thriller</td>\n",
       "      <td>2015-04-01</td>\n",
       "      <td>2947</td>\n",
       "      <td>7.3</td>\n",
       "      <td>2015</td>\n",
       "    </tr>\n",
       "    <tr>\n",
       "      <th>5</th>\n",
       "      <td>281957</td>\n",
       "      <td>9.110700</td>\n",
       "      <td>135000000</td>\n",
       "      <td>532950503</td>\n",
       "      <td>The Revenant</td>\n",
       "      <td>Alejandro GonzÃ¡lez IÃ±Ã¡rritu</td>\n",
       "      <td>156.0</td>\n",
       "      <td>Western|Drama|Adventure|Thriller</td>\n",
       "      <td>2015-12-25</td>\n",
       "      <td>3929</td>\n",
       "      <td>7.2</td>\n",
       "      <td>2015</td>\n",
       "    </tr>\n",
       "  </tbody>\n",
       "</table>\n",
       "</div>"
      ],
      "text/plain": [
       "       id  popularity     budget     revenue                original_title  \\\n",
       "0  135397   32.985763  150000000  1513528810                Jurassic World   \n",
       "1   76341   28.419936  150000000   378436354            Mad Max: Fury Road   \n",
       "2  262500   13.112507  110000000   295238201                     Insurgent   \n",
       "3  140607   11.173104  200000000  2068178225  Star Wars: The Force Awakens   \n",
       "4  168259    9.335014  190000000  1506249360                     Furious 7   \n",
       "5  281957    9.110700  135000000   532950503                  The Revenant   \n",
       "\n",
       "                         director  runtime  \\\n",
       "0                 Colin Trevorrow    124.0   \n",
       "1                   George Miller    120.0   \n",
       "2                Robert Schwentke    119.0   \n",
       "3                     J.J. Abrams    136.0   \n",
       "4                       James Wan    137.0   \n",
       "5  Alejandro GonzÃ¡lez IÃ±Ã¡rritu    156.0   \n",
       "\n",
       "                                      genres release_date  vote_count  \\\n",
       "0  Action|Adventure|Science Fiction|Thriller   2015-06-09        5562   \n",
       "1  Action|Adventure|Science Fiction|Thriller   2015-05-13        6185   \n",
       "2         Adventure|Science Fiction|Thriller   2015-03-18        2480   \n",
       "3   Action|Adventure|Science Fiction|Fantasy   2015-12-15        5292   \n",
       "4                      Action|Crime|Thriller   2015-04-01        2947   \n",
       "5           Western|Drama|Adventure|Thriller   2015-12-25        3929   \n",
       "\n",
       "   vote_average  release_year  \n",
       "0           6.5          2015  \n",
       "1           7.1          2015  \n",
       "2           6.3          2015  \n",
       "3           7.5          2015  \n",
       "4           7.3          2015  \n",
       "5           7.2          2015  "
      ]
     },
     "execution_count": 32,
     "metadata": {},
     "output_type": "execute_result"
    }
   ],
   "source": [
    "# chamando split, explode and head\n",
    "df_director = df.assign(director=df.director.str.split(\"|\")).explode('director')\n",
    "df_director.head(6)"
   ]
  },
  {
   "cell_type": "code",
   "execution_count": 33,
   "metadata": {},
   "outputs": [
    {
     "data": {
      "text/html": [
       "<div>\n",
       "<style scoped>\n",
       "    .dataframe tbody tr th:only-of-type {\n",
       "        vertical-align: middle;\n",
       "    }\n",
       "\n",
       "    .dataframe tbody tr th {\n",
       "        vertical-align: top;\n",
       "    }\n",
       "\n",
       "    .dataframe thead th {\n",
       "        text-align: right;\n",
       "    }\n",
       "</style>\n",
       "<table border=\"1\" class=\"dataframe\">\n",
       "  <thead>\n",
       "    <tr style=\"text-align: right;\">\n",
       "      <th></th>\n",
       "      <th>budget</th>\n",
       "      <th>revenue</th>\n",
       "      <th>vote_average</th>\n",
       "    </tr>\n",
       "    <tr>\n",
       "      <th>director</th>\n",
       "      <th></th>\n",
       "      <th></th>\n",
       "      <th></th>\n",
       "    </tr>\n",
       "  </thead>\n",
       "  <tbody>\n",
       "    <tr>\n",
       "      <th>Steven Spielberg</th>\n",
       "      <td>1599950000</td>\n",
       "      <td>9048014691</td>\n",
       "      <td>6.796667</td>\n",
       "    </tr>\n",
       "    <tr>\n",
       "      <th>Peter Jackson</th>\n",
       "      <td>1326775710</td>\n",
       "      <td>6523244659</td>\n",
       "      <td>6.885714</td>\n",
       "    </tr>\n",
       "    <tr>\n",
       "      <th>James Cameron</th>\n",
       "      <td>760045786</td>\n",
       "      <td>5841894863</td>\n",
       "      <td>6.810000</td>\n",
       "    </tr>\n",
       "    <tr>\n",
       "      <th>Michael Bay</th>\n",
       "      <td>1360000000</td>\n",
       "      <td>4917208171</td>\n",
       "      <td>6.327273</td>\n",
       "    </tr>\n",
       "    <tr>\n",
       "      <th>Christopher Nolan</th>\n",
       "      <td>1005000000</td>\n",
       "      <td>4167548502</td>\n",
       "      <td>7.470000</td>\n",
       "    </tr>\n",
       "    <tr>\n",
       "      <th>David Yates</th>\n",
       "      <td>775000000</td>\n",
       "      <td>4154295625</td>\n",
       "      <td>7.140000</td>\n",
       "    </tr>\n",
       "    <tr>\n",
       "      <th>Robert Zemeckis</th>\n",
       "      <td>1025700000</td>\n",
       "      <td>3869690869</td>\n",
       "      <td>6.705882</td>\n",
       "    </tr>\n",
       "    <tr>\n",
       "      <th>Chris Columbus</th>\n",
       "      <td>627000000</td>\n",
       "      <td>3851491668</td>\n",
       "      <td>6.400000</td>\n",
       "    </tr>\n",
       "    <tr>\n",
       "      <th>Tim Burton</th>\n",
       "      <td>1153060000</td>\n",
       "      <td>3782609685</td>\n",
       "      <td>6.660000</td>\n",
       "    </tr>\n",
       "    <tr>\n",
       "      <th>Ridley Scott</th>\n",
       "      <td>1482900000</td>\n",
       "      <td>3649996480</td>\n",
       "      <td>6.478261</td>\n",
       "    </tr>\n",
       "  </tbody>\n",
       "</table>\n",
       "</div>"
      ],
      "text/plain": [
       "                       budget     revenue  vote_average\n",
       "director                                               \n",
       "Steven Spielberg   1599950000  9048014691      6.796667\n",
       "Peter Jackson      1326775710  6523244659      6.885714\n",
       "James Cameron       760045786  5841894863      6.810000\n",
       "Michael Bay        1360000000  4917208171      6.327273\n",
       "Christopher Nolan  1005000000  4167548502      7.470000\n",
       "David Yates         775000000  4154295625      7.140000\n",
       "Robert Zemeckis    1025700000  3869690869      6.705882\n",
       "Chris Columbus      627000000  3851491668      6.400000\n",
       "Tim Burton         1153060000  3782609685      6.660000\n",
       "Ridley Scott       1482900000  3649996480      6.478261"
      ]
     },
     "execution_count": 33,
     "metadata": {},
     "output_type": "execute_result"
    }
   ],
   "source": [
    "df_director.groupby(['director']).agg({'budget': 'sum', 'revenue': 'sum',\n",
    "                                       'vote_average': 'mean'}).sort_values('revenue', ascending=False).head(20).head(10)\n",
    "# calling the gtoupby () function to check the 'director' variable with 'revenue' across the sample"
   ]
  },
  {
   "cell_type": "code",
   "execution_count": 34,
   "metadata": {},
   "outputs": [
    {
     "data": {
      "text/html": [
       "<div>\n",
       "<style scoped>\n",
       "    .dataframe tbody tr th:only-of-type {\n",
       "        vertical-align: middle;\n",
       "    }\n",
       "\n",
       "    .dataframe tbody tr th {\n",
       "        vertical-align: top;\n",
       "    }\n",
       "\n",
       "    .dataframe thead th {\n",
       "        text-align: right;\n",
       "    }\n",
       "</style>\n",
       "<table border=\"1\" class=\"dataframe\">\n",
       "  <thead>\n",
       "    <tr style=\"text-align: right;\">\n",
       "      <th></th>\n",
       "      <th>director</th>\n",
       "      <th>budget</th>\n",
       "      <th>revenue</th>\n",
       "      <th>vote_average</th>\n",
       "    </tr>\n",
       "  </thead>\n",
       "  <tbody>\n",
       "    <tr>\n",
       "      <th>count</th>\n",
       "      <td>5057.000000</td>\n",
       "      <td>5.057000e+03</td>\n",
       "      <td>5.057000e+03</td>\n",
       "      <td>5057.000000</td>\n",
       "    </tr>\n",
       "    <tr>\n",
       "      <th>mean</th>\n",
       "      <td>2.143959</td>\n",
       "      <td>3.142038e+07</td>\n",
       "      <td>8.556837e+07</td>\n",
       "      <td>5.896668</td>\n",
       "    </tr>\n",
       "    <tr>\n",
       "      <th>std</th>\n",
       "      <td>2.587366</td>\n",
       "      <td>1.013761e+08</td>\n",
       "      <td>3.517073e+08</td>\n",
       "      <td>0.929590</td>\n",
       "    </tr>\n",
       "    <tr>\n",
       "      <th>min</th>\n",
       "      <td>1.000000</td>\n",
       "      <td>0.000000e+00</td>\n",
       "      <td>0.000000e+00</td>\n",
       "      <td>1.500000</td>\n",
       "    </tr>\n",
       "    <tr>\n",
       "      <th>25%</th>\n",
       "      <td>1.000000</td>\n",
       "      <td>0.000000e+00</td>\n",
       "      <td>0.000000e+00</td>\n",
       "      <td>5.350000</td>\n",
       "    </tr>\n",
       "    <tr>\n",
       "      <th>50%</th>\n",
       "      <td>1.000000</td>\n",
       "      <td>0.000000e+00</td>\n",
       "      <td>0.000000e+00</td>\n",
       "      <td>5.950000</td>\n",
       "    </tr>\n",
       "    <tr>\n",
       "      <th>75%</th>\n",
       "      <td>2.000000</td>\n",
       "      <td>1.560000e+07</td>\n",
       "      <td>1.941299e+07</td>\n",
       "      <td>6.500000</td>\n",
       "    </tr>\n",
       "    <tr>\n",
       "      <th>max</th>\n",
       "      <td>45.000000</td>\n",
       "      <td>1.589950e+09</td>\n",
       "      <td>9.018564e+09</td>\n",
       "      <td>9.200000</td>\n",
       "    </tr>\n",
       "  </tbody>\n",
       "</table>\n",
       "</div>"
      ],
      "text/plain": [
       "          director        budget       revenue  vote_average\n",
       "count  5057.000000  5.057000e+03  5.057000e+03   5057.000000\n",
       "mean      2.143959  3.142038e+07  8.556837e+07      5.896668\n",
       "std       2.587366  1.013761e+08  3.517073e+08      0.929590\n",
       "min       1.000000  0.000000e+00  0.000000e+00      1.500000\n",
       "25%       1.000000  0.000000e+00  0.000000e+00      5.350000\n",
       "50%       1.000000  0.000000e+00  0.000000e+00      5.950000\n",
       "75%       2.000000  1.560000e+07  1.941299e+07      6.500000\n",
       "max      45.000000  1.589950e+09  9.018564e+09      9.200000"
      ]
     },
     "execution_count": 34,
     "metadata": {},
     "output_type": "execute_result"
    }
   ],
   "source": [
    "# # I want to group the director variable with some other variables\n",
    "df_director = df.groupby(['director']).agg({'director':'count', 'budget': 'sum', 'revenue': 'sum', 'vote_average': 'median'}).sort_values('revenue', ascending=False)\n",
    "df_director.describe()"
   ]
  },
  {
   "cell_type": "code",
   "execution_count": 35,
   "metadata": {},
   "outputs": [
    {
     "data": {
      "text/html": [
       "<div>\n",
       "<style scoped>\n",
       "    .dataframe tbody tr th:only-of-type {\n",
       "        vertical-align: middle;\n",
       "    }\n",
       "\n",
       "    .dataframe tbody tr th {\n",
       "        vertical-align: top;\n",
       "    }\n",
       "\n",
       "    .dataframe thead th {\n",
       "        text-align: right;\n",
       "    }\n",
       "</style>\n",
       "<table border=\"1\" class=\"dataframe\">\n",
       "  <thead>\n",
       "    <tr style=\"text-align: right;\">\n",
       "      <th></th>\n",
       "      <th>director</th>\n",
       "      <th>budget</th>\n",
       "      <th>revenue</th>\n",
       "      <th>vote_average</th>\n",
       "    </tr>\n",
       "    <tr>\n",
       "      <th>director</th>\n",
       "      <th></th>\n",
       "      <th></th>\n",
       "      <th></th>\n",
       "      <th></th>\n",
       "    </tr>\n",
       "  </thead>\n",
       "  <tbody>\n",
       "    <tr>\n",
       "      <th>Steven Spielberg</th>\n",
       "      <td>29</td>\n",
       "      <td>1589950000</td>\n",
       "      <td>9018563772</td>\n",
       "      <td>6.90</td>\n",
       "    </tr>\n",
       "    <tr>\n",
       "      <th>Peter Jackson</th>\n",
       "      <td>13</td>\n",
       "      <td>1326775710</td>\n",
       "      <td>6523244659</td>\n",
       "      <td>6.90</td>\n",
       "    </tr>\n",
       "    <tr>\n",
       "      <th>James Cameron</th>\n",
       "      <td>9</td>\n",
       "      <td>760045786</td>\n",
       "      <td>5841894863</td>\n",
       "      <td>7.10</td>\n",
       "    </tr>\n",
       "    <tr>\n",
       "      <th>Michael Bay</th>\n",
       "      <td>11</td>\n",
       "      <td>1360000000</td>\n",
       "      <td>4917208171</td>\n",
       "      <td>6.40</td>\n",
       "    </tr>\n",
       "    <tr>\n",
       "      <th>Christopher Nolan</th>\n",
       "      <td>10</td>\n",
       "      <td>1005000000</td>\n",
       "      <td>4167548502</td>\n",
       "      <td>7.65</td>\n",
       "    </tr>\n",
       "  </tbody>\n",
       "</table>\n",
       "</div>"
      ],
      "text/plain": [
       "                   director      budget     revenue  vote_average\n",
       "director                                                         \n",
       "Steven Spielberg         29  1589950000  9018563772          6.90\n",
       "Peter Jackson            13  1326775710  6523244659          6.90\n",
       "James Cameron             9   760045786  5841894863          7.10\n",
       "Michael Bay              11  1360000000  4917208171          6.40\n",
       "Christopher Nolan        10  1005000000  4167548502          7.65"
      ]
     },
     "execution_count": 35,
     "metadata": {},
     "output_type": "execute_result"
    }
   ],
   "source": [
    "# # I will work with a sample, that is, the 75% bigger in relation to the revenues\n",
    "df_director = df_director.query('revenue >= 1.941299')\n",
    "df_director.head()"
   ]
  },
  {
   "cell_type": "code",
   "execution_count": 36,
   "metadata": {},
   "outputs": [
    {
     "data": {
      "text/plain": [
       "27"
      ]
     },
     "execution_count": 36,
     "metadata": {},
     "output_type": "execute_result"
    }
   ],
   "source": [
    "# in this sample only 27 directors appear\n",
    "df_director.director.nunique()"
   ]
  },
  {
   "cell_type": "code",
   "execution_count": 37,
   "metadata": {},
   "outputs": [
    {
     "data": {
      "text/html": [
       "<div>\n",
       "<style scoped>\n",
       "    .dataframe tbody tr th:only-of-type {\n",
       "        vertical-align: middle;\n",
       "    }\n",
       "\n",
       "    .dataframe tbody tr th {\n",
       "        vertical-align: top;\n",
       "    }\n",
       "\n",
       "    .dataframe thead th {\n",
       "        text-align: right;\n",
       "    }\n",
       "</style>\n",
       "<table border=\"1\" class=\"dataframe\">\n",
       "  <thead>\n",
       "    <tr style=\"text-align: right;\">\n",
       "      <th></th>\n",
       "      <th>director</th>\n",
       "      <th>budget</th>\n",
       "      <th>revenue</th>\n",
       "      <th>vote_average</th>\n",
       "      <th>profit</th>\n",
       "      <th>average_ticket</th>\n",
       "    </tr>\n",
       "    <tr>\n",
       "      <th>director</th>\n",
       "      <th></th>\n",
       "      <th></th>\n",
       "      <th></th>\n",
       "      <th></th>\n",
       "      <th></th>\n",
       "      <th></th>\n",
       "    </tr>\n",
       "  </thead>\n",
       "  <tbody>\n",
       "    <tr>\n",
       "      <th>David Yates</th>\n",
       "      <td>5</td>\n",
       "      <td>775000000</td>\n",
       "      <td>4154295625</td>\n",
       "      <td>7.30</td>\n",
       "      <td>3379295625</td>\n",
       "      <td>8.308591e+08</td>\n",
       "    </tr>\n",
       "    <tr>\n",
       "      <th>J.J. Abrams</th>\n",
       "      <td>5</td>\n",
       "      <td>740000000</td>\n",
       "      <td>3579169916</td>\n",
       "      <td>7.30</td>\n",
       "      <td>2839169916</td>\n",
       "      <td>7.158340e+08</td>\n",
       "    </tr>\n",
       "    <tr>\n",
       "      <th>James Cameron</th>\n",
       "      <td>9</td>\n",
       "      <td>760045786</td>\n",
       "      <td>5841894863</td>\n",
       "      <td>7.10</td>\n",
       "      <td>5081849077</td>\n",
       "      <td>6.490994e+08</td>\n",
       "    </tr>\n",
       "    <tr>\n",
       "      <th>George Lucas</th>\n",
       "      <td>6</td>\n",
       "      <td>360554000</td>\n",
       "      <td>3316550893</td>\n",
       "      <td>6.45</td>\n",
       "      <td>2955996893</td>\n",
       "      <td>5.527585e+08</td>\n",
       "    </tr>\n",
       "    <tr>\n",
       "      <th>Peter Jackson</th>\n",
       "      <td>13</td>\n",
       "      <td>1326775710</td>\n",
       "      <td>6523244659</td>\n",
       "      <td>6.90</td>\n",
       "      <td>5196468949</td>\n",
       "      <td>5.017881e+08</td>\n",
       "    </tr>\n",
       "    <tr>\n",
       "      <th>Michael Bay</th>\n",
       "      <td>11</td>\n",
       "      <td>1360000000</td>\n",
       "      <td>4917208171</td>\n",
       "      <td>6.40</td>\n",
       "      <td>3557208171</td>\n",
       "      <td>4.470189e+08</td>\n",
       "    </tr>\n",
       "    <tr>\n",
       "      <th>Christopher Nolan</th>\n",
       "      <td>10</td>\n",
       "      <td>1005000000</td>\n",
       "      <td>4167548502</td>\n",
       "      <td>7.65</td>\n",
       "      <td>3162548502</td>\n",
       "      <td>4.167549e+08</td>\n",
       "    </tr>\n",
       "    <tr>\n",
       "      <th>Gore Verbinski</th>\n",
       "      <td>9</td>\n",
       "      <td>1193000000</td>\n",
       "      <td>3548779679</td>\n",
       "      <td>6.40</td>\n",
       "      <td>2355779679</td>\n",
       "      <td>3.943089e+08</td>\n",
       "    </tr>\n",
       "    <tr>\n",
       "      <th>Steven Spielberg</th>\n",
       "      <td>29</td>\n",
       "      <td>1589950000</td>\n",
       "      <td>9018563772</td>\n",
       "      <td>6.90</td>\n",
       "      <td>7428613772</td>\n",
       "      <td>3.109850e+08</td>\n",
       "    </tr>\n",
       "    <tr>\n",
       "      <th>Roland Emmerich</th>\n",
       "      <td>11</td>\n",
       "      <td>986500000</td>\n",
       "      <td>3393325574</td>\n",
       "      <td>5.80</td>\n",
       "      <td>2406825574</td>\n",
       "      <td>3.084841e+08</td>\n",
       "    </tr>\n",
       "    <tr>\n",
       "      <th>Chris Columbus</th>\n",
       "      <td>14</td>\n",
       "      <td>627000000</td>\n",
       "      <td>3851491668</td>\n",
       "      <td>6.60</td>\n",
       "      <td>3224491668</td>\n",
       "      <td>2.751065e+08</td>\n",
       "    </tr>\n",
       "    <tr>\n",
       "      <th>Robert Zemeckis</th>\n",
       "      <td>17</td>\n",
       "      <td>1025700000</td>\n",
       "      <td>3869690869</td>\n",
       "      <td>6.80</td>\n",
       "      <td>2843990869</td>\n",
       "      <td>2.276289e+08</td>\n",
       "    </tr>\n",
       "    <tr>\n",
       "      <th>Tim Burton</th>\n",
       "      <td>19</td>\n",
       "      <td>1113060000</td>\n",
       "      <td>3665414624</td>\n",
       "      <td>6.60</td>\n",
       "      <td>2552354624</td>\n",
       "      <td>1.929166e+08</td>\n",
       "    </tr>\n",
       "    <tr>\n",
       "      <th>Ridley Scott</th>\n",
       "      <td>23</td>\n",
       "      <td>1482900000</td>\n",
       "      <td>3649996480</td>\n",
       "      <td>6.30</td>\n",
       "      <td>2167096480</td>\n",
       "      <td>1.586955e+08</td>\n",
       "    </tr>\n",
       "    <tr>\n",
       "      <th>Ron Howard</th>\n",
       "      <td>22</td>\n",
       "      <td>1210000000</td>\n",
       "      <td>3484471847</td>\n",
       "      <td>6.25</td>\n",
       "      <td>2274471847</td>\n",
       "      <td>1.583851e+08</td>\n",
       "    </tr>\n",
       "  </tbody>\n",
       "</table>\n",
       "</div>"
      ],
      "text/plain": [
       "                   director      budget     revenue  vote_average      profit  \\\n",
       "director                                                                        \n",
       "David Yates               5   775000000  4154295625          7.30  3379295625   \n",
       "J.J. Abrams               5   740000000  3579169916          7.30  2839169916   \n",
       "James Cameron             9   760045786  5841894863          7.10  5081849077   \n",
       "George Lucas              6   360554000  3316550893          6.45  2955996893   \n",
       "Peter Jackson            13  1326775710  6523244659          6.90  5196468949   \n",
       "Michael Bay              11  1360000000  4917208171          6.40  3557208171   \n",
       "Christopher Nolan        10  1005000000  4167548502          7.65  3162548502   \n",
       "Gore Verbinski            9  1193000000  3548779679          6.40  2355779679   \n",
       "Steven Spielberg         29  1589950000  9018563772          6.90  7428613772   \n",
       "Roland Emmerich          11   986500000  3393325574          5.80  2406825574   \n",
       "Chris Columbus           14   627000000  3851491668          6.60  3224491668   \n",
       "Robert Zemeckis          17  1025700000  3869690869          6.80  2843990869   \n",
       "Tim Burton               19  1113060000  3665414624          6.60  2552354624   \n",
       "Ridley Scott             23  1482900000  3649996480          6.30  2167096480   \n",
       "Ron Howard               22  1210000000  3484471847          6.25  2274471847   \n",
       "\n",
       "                   average_ticket  \n",
       "director                           \n",
       "David Yates          8.308591e+08  \n",
       "J.J. Abrams          7.158340e+08  \n",
       "James Cameron        6.490994e+08  \n",
       "George Lucas         5.527585e+08  \n",
       "Peter Jackson        5.017881e+08  \n",
       "Michael Bay          4.470189e+08  \n",
       "Christopher Nolan    4.167549e+08  \n",
       "Gore Verbinski       3.943089e+08  \n",
       "Steven Spielberg     3.109850e+08  \n",
       "Roland Emmerich      3.084841e+08  \n",
       "Chris Columbus       2.751065e+08  \n",
       "Robert Zemeckis      2.276289e+08  \n",
       "Tim Burton           1.929166e+08  \n",
       "Ridley Scott         1.586955e+08  \n",
       "Ron Howard           1.583851e+08  "
      ]
     },
     "execution_count": 37,
     "metadata": {},
     "output_type": "execute_result"
    }
   ],
   "source": [
    "# If each of the 27 directors was a product, what would be the average ticket for each one. Which would be the most valuable\n",
    "df_director['profit'] = df_director.revenue - df_director.budget\n",
    "df_director['average_ticket'] = df_director.revenue / df_director.director\n",
    "df_director.head(15).sort_values(by='average_ticket', ascending=False)"
   ]
  },
  {
   "cell_type": "code",
   "execution_count": 38,
   "metadata": {},
   "outputs": [
    {
     "data": {
      "image/png": "[encoded data removed]",
      "text/plain": [
       "<Figure size 432x288 with 1 Axes>"
      ]
     },
     "metadata": {
      "needs_background": "light"
     },
     "output_type": "display_data"
    }
   ],
   "source": [
    "# # viewing results of revenue, profits and average ticket per director\n",
    "\n",
    "df_director.revenue.head(10).plot(kind='barh', alpha=0.5, color='grey', width=0.7);\n",
    "df_director.profit.head(10).plot(kind='barh', alpha=0.5, color='blue', width=0.7);\n",
    "df_director.average_ticket.head(10).plot(kind='barh', alpha=0.5, color='black', width=0.7);\n",
    "plt.legend();\n",
    "plt.title('Revenue, profit and ticket average')\n",
    "plt.xlabel('US$ Bilion')\n",
    "plt.ylabel('Director')\n",
    "plt.show()"
   ]
  },
  {
   "cell_type": "code",
   "execution_count": 39,
   "metadata": {},
   "outputs": [
    {
     "data": {
      "image/png": "[encoded data removed]",
      "text/plain": [
       "<Figure size 432x288 with 1 Axes>"
      ]
     },
     "metadata": {
      "needs_background": "light"
     },
     "output_type": "display_data"
    }
   ],
   "source": [
    "# chart shows the best directors by average ticket.\n",
    "\n",
    "df_director.average_ticket.head(10).sort_values(ascending=False).plot(kind='bar', alpha=0.5, color='black', width=0.7);\n",
    "plt.title('Ticket average')\n",
    "plt.xlabel('US$ Milion')\n",
    "plt.ylabel('Director')\n",
    "plt.show()"
   ]
  },
  {
   "cell_type": "code",
   "execution_count": 40,
   "metadata": {},
   "outputs": [
    {
     "data": {
      "text/plain": [
       "director\n",
       "Christopher Nolan    7.65\n",
       "David Yates          7.30\n",
       "James Cameron        7.10\n",
       "Peter Jackson        6.90\n",
       "Steven Spielberg     6.90\n",
       "Robert Zemeckis      6.80\n",
       "Tim Burton           6.60\n",
       "Chris Columbus       6.60\n",
       "Michael Bay          6.40\n",
       "Ridley Scott         6.30\n",
       "Name: vote_average, dtype: float64"
      ]
     },
     "execution_count": 40,
     "metadata": {},
     "output_type": "execute_result"
    }
   ],
   "source": [
    "# the 10 directors with the best average votes\n",
    "\n",
    "df_director_vote = df_director.vote_average.head(10).sort_values(ascending=False)\n",
    "df_director_vote"
   ]
  },
  {
   "cell_type": "markdown",
   "metadata": {},
   "source": [
    "> In this section I wanted to analyze who were the best directors, but not only from the perspective of profit and revenue, but also by the average ticket and vote_average. Steven Spielberg has the best revenue and profit indicators and needs little budget to do so. However, it needs a lot of films to reach these high indicators, 29 in total. If we look at the average ticket we see David Yates and James Cameron leading, since they need to make fewer films to bring in higher revenues. They needed 5 and 9 films respectively. On the other hand in vote_average, the user's champion of taste is Christopher Nolan with an average of 7.65, followed by David Yates with 7.3."
   ]
  },
  {
   "cell_type": "markdown",
   "metadata": {},
   "source": [
    "## Which titles generated the most revenue and profits?"
   ]
  },
  {
   "cell_type": "markdown",
   "metadata": {},
   "source": [
    "In this section I will try to understand the most profitable films and with the best profit, revenue and budget / profit ratio performances."
   ]
  },
  {
   "cell_type": "code",
   "execution_count": 41,
   "metadata": {},
   "outputs": [
    {
     "data": {
      "text/html": [
       "<div>\n",
       "<style scoped>\n",
       "    .dataframe tbody tr th:only-of-type {\n",
       "        vertical-align: middle;\n",
       "    }\n",
       "\n",
       "    .dataframe tbody tr th {\n",
       "        vertical-align: top;\n",
       "    }\n",
       "\n",
       "    .dataframe thead th {\n",
       "        text-align: right;\n",
       "    }\n",
       "</style>\n",
       "<table border=\"1\" class=\"dataframe\">\n",
       "  <thead>\n",
       "    <tr style=\"text-align: right;\">\n",
       "      <th></th>\n",
       "      <th>budget</th>\n",
       "      <th>revenue</th>\n",
       "      <th>profit</th>\n",
       "    </tr>\n",
       "    <tr>\n",
       "      <th>original_title</th>\n",
       "      <th></th>\n",
       "      <th></th>\n",
       "      <th></th>\n",
       "    </tr>\n",
       "  </thead>\n",
       "  <tbody>\n",
       "    <tr>\n",
       "      <th>Avatar</th>\n",
       "      <td>237000000</td>\n",
       "      <td>2781505847</td>\n",
       "      <td>2544505847</td>\n",
       "    </tr>\n",
       "    <tr>\n",
       "      <th>Star Wars: The Force Awakens</th>\n",
       "      <td>200000000</td>\n",
       "      <td>2068178225</td>\n",
       "      <td>1868178225</td>\n",
       "    </tr>\n",
       "    <tr>\n",
       "      <th>Titanic</th>\n",
       "      <td>213000000</td>\n",
       "      <td>1845034188</td>\n",
       "      <td>1632034188</td>\n",
       "    </tr>\n",
       "    <tr>\n",
       "      <th>The Avengers</th>\n",
       "      <td>280000000</td>\n",
       "      <td>1568080742</td>\n",
       "      <td>1288080742</td>\n",
       "    </tr>\n",
       "    <tr>\n",
       "      <th>Jurassic World</th>\n",
       "      <td>150000000</td>\n",
       "      <td>1513528810</td>\n",
       "      <td>1363528810</td>\n",
       "    </tr>\n",
       "  </tbody>\n",
       "</table>\n",
       "</div>"
      ],
      "text/plain": [
       "                                 budget     revenue      profit\n",
       "original_title                                                 \n",
       "Avatar                        237000000  2781505847  2544505847\n",
       "Star Wars: The Force Awakens  200000000  2068178225  1868178225\n",
       "Titanic                       213000000  1845034188  1632034188\n",
       "The Avengers                  280000000  1568080742  1288080742\n",
       "Jurassic World                150000000  1513528810  1363528810"
      ]
     },
     "execution_count": 41,
     "metadata": {},
     "output_type": "execute_result"
    }
   ],
   "source": [
    "# slicing the data by titles and placing it in a variable.\n",
    "df_title = df.groupby(['original_title']).agg({'budget': 'sum', 'revenue': 'sum'}).sort_values('revenue', ascending=False)\n",
    "df_title['profit'] = df_title.revenue - df_title.budget\n",
    "df_title.head()"
   ]
  },
  {
   "cell_type": "code",
   "execution_count": 42,
   "metadata": {},
   "outputs": [
    {
     "data": {
      "text/html": [
       "<div>\n",
       "<style scoped>\n",
       "    .dataframe tbody tr th:only-of-type {\n",
       "        vertical-align: middle;\n",
       "    }\n",
       "\n",
       "    .dataframe tbody tr th {\n",
       "        vertical-align: top;\n",
       "    }\n",
       "\n",
       "    .dataframe thead th {\n",
       "        text-align: right;\n",
       "    }\n",
       "</style>\n",
       "<table border=\"1\" class=\"dataframe\">\n",
       "  <thead>\n",
       "    <tr style=\"text-align: right;\">\n",
       "      <th></th>\n",
       "      <th>budget</th>\n",
       "      <th>revenue</th>\n",
       "      <th>profit</th>\n",
       "    </tr>\n",
       "  </thead>\n",
       "  <tbody>\n",
       "    <tr>\n",
       "      <th>count</th>\n",
       "      <td>1.054800e+04</td>\n",
       "      <td>1.054800e+04</td>\n",
       "      <td>1.054800e+04</td>\n",
       "    </tr>\n",
       "    <tr>\n",
       "      <th>mean</th>\n",
       "      <td>1.506379e+07</td>\n",
       "      <td>4.102382e+07</td>\n",
       "      <td>2.596003e+07</td>\n",
       "    </tr>\n",
       "    <tr>\n",
       "      <th>std</th>\n",
       "      <td>3.161280e+07</td>\n",
       "      <td>1.192160e+08</td>\n",
       "      <td>9.821163e+07</td>\n",
       "    </tr>\n",
       "    <tr>\n",
       "      <th>min</th>\n",
       "      <td>0.000000e+00</td>\n",
       "      <td>0.000000e+00</td>\n",
       "      <td>-4.139124e+08</td>\n",
       "    </tr>\n",
       "    <tr>\n",
       "      <th>25%</th>\n",
       "      <td>0.000000e+00</td>\n",
       "      <td>0.000000e+00</td>\n",
       "      <td>0.000000e+00</td>\n",
       "    </tr>\n",
       "    <tr>\n",
       "      <th>50%</th>\n",
       "      <td>0.000000e+00</td>\n",
       "      <td>0.000000e+00</td>\n",
       "      <td>0.000000e+00</td>\n",
       "    </tr>\n",
       "    <tr>\n",
       "      <th>75%</th>\n",
       "      <td>1.600000e+07</td>\n",
       "      <td>2.524643e+07</td>\n",
       "      <td>1.012467e+07</td>\n",
       "    </tr>\n",
       "    <tr>\n",
       "      <th>max</th>\n",
       "      <td>4.250000e+08</td>\n",
       "      <td>2.781506e+09</td>\n",
       "      <td>2.544506e+09</td>\n",
       "    </tr>\n",
       "  </tbody>\n",
       "</table>\n",
       "</div>"
      ],
      "text/plain": [
       "             budget       revenue        profit\n",
       "count  1.054800e+04  1.054800e+04  1.054800e+04\n",
       "mean   1.506379e+07  4.102382e+07  2.596003e+07\n",
       "std    3.161280e+07  1.192160e+08  9.821163e+07\n",
       "min    0.000000e+00  0.000000e+00 -4.139124e+08\n",
       "25%    0.000000e+00  0.000000e+00  0.000000e+00\n",
       "50%    0.000000e+00  0.000000e+00  0.000000e+00\n",
       "75%    1.600000e+07  2.524643e+07  1.012467e+07\n",
       "max    4.250000e+08  2.781506e+09  2.544506e+09"
      ]
     },
     "execution_count": 42,
     "metadata": {},
     "output_type": "execute_result"
    }
   ],
   "source": [
    "df_title.describe()"
   ]
  },
  {
   "cell_type": "code",
   "execution_count": 43,
   "metadata": {},
   "outputs": [
    {
     "data": {
      "image/png": "[encoded data removed]",
      "text/plain": [
       "<Figure size 432x288 with 1 Axes>"
      ]
     },
     "metadata": {
      "needs_background": "light"
     },
     "output_type": "display_data"
    }
   ],
   "source": [
    "# chart of the 10 best titles with the highest revenue.\n",
    "# The chart also shows the budget and profits for these bonds.\n",
    "df_title.revenue.head(10).plot(kind='barh', alpha=0.4, color='grey', width=0.7);\n",
    "df_title.profit.head(10).plot(kind='barh', alpha=0.4, color='black', width=0.7);\n",
    "df_title.budget.head(10).plot(kind='barh', alpha=0.4, color='blue', width=0.7);\n",
    "plt.legend();\n",
    "plt.xlabel('US$ Bilion')\n",
    "plt.ylabel('Title')\n",
    "plt.title('Titles with more Revenue, budget and profit')\n",
    "plt.show()"
   ]
  },
  {
   "cell_type": "code",
   "execution_count": 44,
   "metadata": {},
   "outputs": [
    {
     "data": {
      "image/png": "[encoded data removed]",
      "text/plain": [
       "<Figure size 432x288 with 1 Axes>"
      ]
     },
     "metadata": {
      "needs_background": "light"
     },
     "output_type": "display_data"
    }
   ],
   "source": [
    "# I will check if in terms of profit, what were the best films.\n",
    "df_title.profit.head(10).sort_values(ascending=False).plot(kind='barh', alpha=0.4, color='blue', width=0.7);\n",
    "plt.xlabel('US$ Bilion')\n",
    "plt.ylabel('Title');\n",
    "plt.title('Titles with more profit')\n",
    "plt.show()"
   ]
  },
  {
   "cell_type": "code",
   "execution_count": 45,
   "metadata": {},
   "outputs": [
    {
     "data": {
      "image/png": "[encoded data removed]",
      "text/plain": [
       "<Figure size 432x288 with 1 Axes>"
      ]
     },
     "metadata": {
      "needs_background": "light"
     },
     "output_type": "display_data"
    }
   ],
   "source": [
    "# I want to check the budget and profit ratio, which had the best performance.\n",
    "df_title['budget_profit'] = df_title.budget / df_title.profit\n",
    "df_title.head(10).sort_values('budget_profit', ascending=False)\n",
    "df_title.budget_profit.head(10).sort_values(ascending=False).plot(kind='barh', alpha=0.4, color='black', width=0.7);\n",
    "plt.xlabel('% Budget vs Profit')\n",
    "plt.ylabel('Title');\n",
    "plt.title('Films with better returns between budget and profit (%)')\n",
    "plt.show()"
   ]
  },
  {
   "cell_type": "markdown",
   "metadata": {},
   "source": [
    "> Through the graphics, clearly the film Avatar was the film that most profited, and it was also the film with the highest revenue in the sample. It is worth mentioning the third graphic in which the relationship between profit and budget, the movie Avengers: age of ultron had the best performance. I also highlight the results of the top 10 have changed a lot from the perspective of budget vs profit. This means that the net return invested is higher in (%) on this graph."
   ]
  },
  {
   "cell_type": "markdown",
   "metadata": {},
   "source": [
    "## In this section I will separate the indicators of revenues, budgets and profits by century."
   ]
  },
  {
   "cell_type": "markdown",
   "metadata": {},
   "source": [
    "I intend to verify that in this century the indicators of revenues, budgets and profits are higher than the last century. This will give us an idea if the film industry has been investing more money in the segment."
   ]
  },
  {
   "cell_type": "code",
   "execution_count": 46,
   "metadata": {},
   "outputs": [
    {
     "data": {
      "text/html": [
       "<div>\n",
       "<style scoped>\n",
       "    .dataframe tbody tr th:only-of-type {\n",
       "        vertical-align: middle;\n",
       "    }\n",
       "\n",
       "    .dataframe tbody tr th {\n",
       "        vertical-align: top;\n",
       "    }\n",
       "\n",
       "    .dataframe thead th {\n",
       "        text-align: right;\n",
       "    }\n",
       "</style>\n",
       "<table border=\"1\" class=\"dataframe\">\n",
       "  <thead>\n",
       "    <tr style=\"text-align: right;\">\n",
       "      <th></th>\n",
       "      <th>budget</th>\n",
       "      <th>revenue</th>\n",
       "      <th>popularity</th>\n",
       "      <th>profit</th>\n",
       "    </tr>\n",
       "    <tr>\n",
       "      <th>release_year</th>\n",
       "      <th></th>\n",
       "      <th></th>\n",
       "      <th></th>\n",
       "      <th></th>\n",
       "    </tr>\n",
       "  </thead>\n",
       "  <tbody>\n",
       "    <tr>\n",
       "      <th>1960</th>\n",
       "      <td>22056948</td>\n",
       "      <td>145005000</td>\n",
       "      <td>0.268273</td>\n",
       "      <td>122948052</td>\n",
       "    </tr>\n",
       "    <tr>\n",
       "      <th>1961</th>\n",
       "      <td>46137000</td>\n",
       "      <td>337720188</td>\n",
       "      <td>0.265092</td>\n",
       "      <td>291583188</td>\n",
       "    </tr>\n",
       "    <tr>\n",
       "      <th>1962</th>\n",
       "      <td>54722126</td>\n",
       "      <td>215579846</td>\n",
       "      <td>0.299075</td>\n",
       "      <td>160857720</td>\n",
       "    </tr>\n",
       "    <tr>\n",
       "      <th>1963</th>\n",
       "      <td>73331500</td>\n",
       "      <td>187404989</td>\n",
       "      <td>0.249940</td>\n",
       "      <td>114073489</td>\n",
       "    </tr>\n",
       "    <tr>\n",
       "      <th>1964</th>\n",
       "      <td>39483161</td>\n",
       "      <td>340981782</td>\n",
       "      <td>0.194472</td>\n",
       "      <td>301498621</td>\n",
       "    </tr>\n",
       "  </tbody>\n",
       "</table>\n",
       "</div>"
      ],
      "text/plain": [
       "                budget    revenue  popularity     profit\n",
       "release_year                                            \n",
       "1960          22056948  145005000    0.268273  122948052\n",
       "1961          46137000  337720188    0.265092  291583188\n",
       "1962          54722126  215579846    0.299075  160857720\n",
       "1963          73331500  187404989    0.249940  114073489\n",
       "1964          39483161  340981782    0.194472  301498621"
      ]
     },
     "execution_count": 46,
     "metadata": {},
     "output_type": "execute_result"
    }
   ],
   "source": [
    "df_year = df.groupby(['release_year']).agg({'budget': 'sum', 'revenue': 'sum', 'popularity': 'median'})\n",
    "df_year['profit'] = df_year.revenue - df_year.budget\n",
    "df_year.head()"
   ]
  },
  {
   "cell_type": "code",
   "execution_count": 47,
   "metadata": {},
   "outputs": [
    {
     "data": {
      "text/html": [
       "<div>\n",
       "<style scoped>\n",
       "    .dataframe tbody tr th:only-of-type {\n",
       "        vertical-align: middle;\n",
       "    }\n",
       "\n",
       "    .dataframe tbody tr th {\n",
       "        vertical-align: top;\n",
       "    }\n",
       "\n",
       "    .dataframe thead th {\n",
       "        text-align: right;\n",
       "    }\n",
       "</style>\n",
       "<table border=\"1\" class=\"dataframe\">\n",
       "  <thead>\n",
       "    <tr style=\"text-align: right;\">\n",
       "      <th></th>\n",
       "      <th>budget</th>\n",
       "      <th>revenue</th>\n",
       "      <th>popularity</th>\n",
       "      <th>profit</th>\n",
       "    </tr>\n",
       "    <tr>\n",
       "      <th>release_year</th>\n",
       "      <th></th>\n",
       "      <th></th>\n",
       "      <th></th>\n",
       "      <th></th>\n",
       "    </tr>\n",
       "  </thead>\n",
       "  <tbody>\n",
       "    <tr>\n",
       "      <th>1960</th>\n",
       "      <td>22056948</td>\n",
       "      <td>145005000</td>\n",
       "      <td>0.268273</td>\n",
       "      <td>122948052</td>\n",
       "    </tr>\n",
       "    <tr>\n",
       "      <th>1961</th>\n",
       "      <td>46137000</td>\n",
       "      <td>337720188</td>\n",
       "      <td>0.265092</td>\n",
       "      <td>291583188</td>\n",
       "    </tr>\n",
       "    <tr>\n",
       "      <th>1962</th>\n",
       "      <td>54722126</td>\n",
       "      <td>215579846</td>\n",
       "      <td>0.299075</td>\n",
       "      <td>160857720</td>\n",
       "    </tr>\n",
       "    <tr>\n",
       "      <th>1963</th>\n",
       "      <td>73331500</td>\n",
       "      <td>187404989</td>\n",
       "      <td>0.249940</td>\n",
       "      <td>114073489</td>\n",
       "    </tr>\n",
       "    <tr>\n",
       "      <th>1964</th>\n",
       "      <td>39483161</td>\n",
       "      <td>340981782</td>\n",
       "      <td>0.194472</td>\n",
       "      <td>301498621</td>\n",
       "    </tr>\n",
       "  </tbody>\n",
       "</table>\n",
       "</div>"
      ],
      "text/plain": [
       "                budget    revenue  popularity     profit\n",
       "release_year                                            \n",
       "1960          22056948  145005000    0.268273  122948052\n",
       "1961          46137000  337720188    0.265092  291583188\n",
       "1962          54722126  215579846    0.299075  160857720\n",
       "1963          73331500  187404989    0.249940  114073489\n",
       "1964          39483161  340981782    0.194472  301498621"
      ]
     },
     "execution_count": 47,
     "metadata": {},
     "output_type": "execute_result"
    }
   ],
   "source": [
    "df_1900 = df_year.query('release_year < 2000')\n",
    "df_1900.head()"
   ]
  },
  {
   "cell_type": "code",
   "execution_count": 48,
   "metadata": {},
   "outputs": [
    {
     "data": {
      "text/plain": [
       "budget        3.812918e+10\n",
       "revenue       1.218184e+11\n",
       "popularity    1.355240e+01\n",
       "profit        8.368918e+10\n",
       "dtype: float64"
      ]
     },
     "execution_count": 48,
     "metadata": {},
     "output_type": "execute_result"
    }
   ],
   "source": [
    "df_1900.sum()"
   ]
  },
  {
   "cell_type": "code",
   "execution_count": 49,
   "metadata": {},
   "outputs": [
    {
     "data": {
      "text/html": [
       "<div>\n",
       "<style scoped>\n",
       "    .dataframe tbody tr th:only-of-type {\n",
       "        vertical-align: middle;\n",
       "    }\n",
       "\n",
       "    .dataframe tbody tr th {\n",
       "        vertical-align: top;\n",
       "    }\n",
       "\n",
       "    .dataframe thead th {\n",
       "        text-align: right;\n",
       "    }\n",
       "</style>\n",
       "<table border=\"1\" class=\"dataframe\">\n",
       "  <thead>\n",
       "    <tr style=\"text-align: right;\">\n",
       "      <th></th>\n",
       "      <th>budget</th>\n",
       "      <th>revenue</th>\n",
       "      <th>popularity</th>\n",
       "      <th>profit</th>\n",
       "    </tr>\n",
       "    <tr>\n",
       "      <th>release_year</th>\n",
       "      <th></th>\n",
       "      <th></th>\n",
       "      <th></th>\n",
       "      <th></th>\n",
       "    </tr>\n",
       "  </thead>\n",
       "  <tbody>\n",
       "    <tr>\n",
       "      <th>2000</th>\n",
       "      <td>5752700000</td>\n",
       "      <td>10978701012</td>\n",
       "      <td>0.381856</td>\n",
       "      <td>5226001012</td>\n",
       "    </tr>\n",
       "    <tr>\n",
       "      <th>2001</th>\n",
       "      <td>5641944000</td>\n",
       "      <td>13410083139</td>\n",
       "      <td>0.438395</td>\n",
       "      <td>7768139139</td>\n",
       "    </tr>\n",
       "    <tr>\n",
       "      <th>2002</th>\n",
       "      <td>5894640255</td>\n",
       "      <td>14643618528</td>\n",
       "      <td>0.458767</td>\n",
       "      <td>8748978273</td>\n",
       "    </tr>\n",
       "    <tr>\n",
       "      <th>2003</th>\n",
       "      <td>6239857694</td>\n",
       "      <td>15138243542</td>\n",
       "      <td>0.422711</td>\n",
       "      <td>8898385848</td>\n",
       "    </tr>\n",
       "    <tr>\n",
       "      <th>2004</th>\n",
       "      <td>7170340222</td>\n",
       "      <td>16793822618</td>\n",
       "      <td>0.455263</td>\n",
       "      <td>9623482396</td>\n",
       "    </tr>\n",
       "  </tbody>\n",
       "</table>\n",
       "</div>"
      ],
      "text/plain": [
       "                  budget      revenue  popularity      profit\n",
       "release_year                                                 \n",
       "2000          5752700000  10978701012    0.381856  5226001012\n",
       "2001          5641944000  13410083139    0.438395  7768139139\n",
       "2002          5894640255  14643618528    0.458767  8748978273\n",
       "2003          6239857694  15138243542    0.422711  8898385848\n",
       "2004          7170340222  16793822618    0.455263  9623482396"
      ]
     },
     "execution_count": 49,
     "metadata": {},
     "output_type": "execute_result"
    }
   ],
   "source": [
    "df_2000 = df_year.query('release_year >= 2000')\n",
    "df_2000.head()"
   ]
  },
  {
   "cell_type": "code",
   "execution_count": 50,
   "metadata": {},
   "outputs": [
    {
     "data": {
      "text/plain": [
       "budget        1.207637e+11\n",
       "revenue       3.109009e+11\n",
       "popularity    6.418792e+00\n",
       "profit        1.901372e+11\n",
       "dtype: float64"
      ]
     },
     "execution_count": 50,
     "metadata": {},
     "output_type": "execute_result"
    }
   ],
   "source": [
    "df_2000.sum()"
   ]
  },
  {
   "cell_type": "code",
   "execution_count": 51,
   "metadata": {},
   "outputs": [
    {
     "data": {
      "image/png": "[encoded data removed]",
      "text/plain": [
       "<Figure size 432x288 with 1 Axes>"
      ]
     },
     "metadata": {
      "needs_background": "light"
     },
     "output_type": "display_data"
    }
   ],
   "source": [
    "# # comparativo de receitas, orçamentos e lucros no século passado\n",
    "df_1900.revenue.plot(alpha=0.6, color='grey');\n",
    "df_1900.profit.plot(alpha=0.6, color='black');\n",
    "df_1900.budget.plot(alpha=0.6, color='blue');\n",
    "plt.legend();\n",
    "plt.xlabel('Years')\n",
    "plt.ylabel('US$ Bilion');\n",
    "plt.title('Financial results between 1960 and 1999')\n",
    "plt.gcf().set_size_inches(6, 4)\n",
    "plt.show()"
   ]
  },
  {
   "cell_type": "code",
   "execution_count": 52,
   "metadata": {},
   "outputs": [
    {
     "data": {
      "image/png": "[encoded data removed]",
      "text/plain": [
       "<Figure size 432x288 with 1 Axes>"
      ]
     },
     "metadata": {
      "needs_background": "light"
     },
     "output_type": "display_data"
    }
   ],
   "source": [
    "# comparativo de receitas, orçamentos e lucros neste século\n",
    "df_2000.revenue.plot(alpha=0.6, color='grey');\n",
    "df_2000.profit.plot(alpha=0.6, color='black');\n",
    "df_2000.budget.plot(alpha=0.6, color='blue');\n",
    "plt.legend();\n",
    "plt.xlabel('Years')\n",
    "plt.title('Financial results between 2000 and 2015')\n",
    "plt.ylabel('US$ Bilion');\n",
    "plt.show()"
   ]
  },
  {
   "cell_type": "markdown",
   "metadata": {},
   "source": [
    "> Nota-se que independente dos séculos, as receitas e lucros vem aumentando exponencialmente. Embora os orçamentos tenham aumentado significativamente neste século. "
   ]
  },
  {
   "cell_type": "code",
   "execution_count": 53,
   "metadata": {},
   "outputs": [
    {
     "data": {
      "image/png": "[encoded data removed]",
      "text/plain": [
       "<Figure size 432x288 with 1 Axes>"
      ]
     },
     "metadata": {},
     "output_type": "display_data"
    }
   ],
   "source": [
    "(df_2000.budget.sum(), df_1900.budget.sum())\n",
    "\n",
    "labels = 'Budget 2000', 'Budget 1900'\n",
    "fig1, ax1 = plt.subplots()\n",
    "explode = (0.1, 0)\n",
    "ax1.pie((df_2000.budget.sum(), df_1900.budget.sum()), labels=labels, autopct='%1.1f%%', \n",
    "        shadow=True, startangle=90, explode=explode)\n",
    "ax1.axis('equal')\n",
    "plt.show()"
   ]
  },
  {
   "cell_type": "code",
   "execution_count": 54,
   "metadata": {},
   "outputs": [
    {
     "data": {
      "image/png": "[encoded data removed]",
      "text/plain": [
       "<Figure size 432x288 with 1 Axes>"
      ]
     },
     "metadata": {},
     "output_type": "display_data"
    }
   ],
   "source": [
    "(df_2000.revenue.sum(), df_1900.revenue.sum())\n",
    "\n",
    "labels = 'Revenue 2000', 'Revenue 1900'\n",
    "fig1, ax1 = plt.subplots()\n",
    "explode = (0.1, 0)\n",
    "ax1.pie((df_2000.revenue.sum(), df_1900.revenue.sum()), labels=labels, autopct='%1.1f%%', \n",
    "        shadow=True, startangle=90, explode=explode)\n",
    "ax1.axis('equal')\n",
    "plt.show()"
   ]
  },
  {
   "cell_type": "code",
   "execution_count": 55,
   "metadata": {},
   "outputs": [
    {
     "data": {
      "image/png": "[encoded data removed]",
      "text/plain": [
       "<Figure size 432x288 with 1 Axes>"
      ]
     },
     "metadata": {},
     "output_type": "display_data"
    }
   ],
   "source": [
    "(df_2000.profit.sum(), df_1900.profit.sum())\n",
    "\n",
    "labels = 'Profit 2000', 'Profit 1900'\n",
    "fig1, ax1 = plt.subplots()\n",
    "explode = (0.1, 0)\n",
    "ax1.pie((df_2000.profit.sum(), df_1900.profit.sum()), labels=labels, autopct='%1.1f%%', \n",
    "        shadow=True, startangle=90, explode=explode)\n",
    "ax1.axis('equal')\n",
    "plt.show()"
   ]
  },
  {
   "cell_type": "markdown",
   "metadata": {},
   "source": [
    "> According to post-century analyzes, it is clear that there has been a significant increase in money in the three indicators surveyed in this section. The 2000s saw a clear increase in investments and revenues, although this has been happening since the 1960s."
   ]
  },
  {
   "cell_type": "markdown",
   "metadata": {},
   "source": [
    "### Checked the launch month with the receipts, and if there is a better month for launching the films"
   ]
  },
  {
   "cell_type": "markdown",
   "metadata": {},
   "source": [
    "With the analysis of the months of releases, I intend to understand if there are any relevant months for movie releases in terms of revenues. And also the least profitable months through that data set."
   ]
  },
  {
   "cell_type": "code",
   "execution_count": 56,
   "metadata": {},
   "outputs": [
    {
     "data": {
      "text/html": [
       "<div>\n",
       "<style scoped>\n",
       "    .dataframe tbody tr th:only-of-type {\n",
       "        vertical-align: middle;\n",
       "    }\n",
       "\n",
       "    .dataframe tbody tr th {\n",
       "        vertical-align: top;\n",
       "    }\n",
       "\n",
       "    .dataframe thead th {\n",
       "        text-align: right;\n",
       "    }\n",
       "</style>\n",
       "<table border=\"1\" class=\"dataframe\">\n",
       "  <thead>\n",
       "    <tr style=\"text-align: right;\">\n",
       "      <th></th>\n",
       "      <th>id</th>\n",
       "      <th>popularity</th>\n",
       "      <th>budget</th>\n",
       "      <th>revenue</th>\n",
       "      <th>original_title</th>\n",
       "      <th>director</th>\n",
       "      <th>runtime</th>\n",
       "      <th>genres</th>\n",
       "      <th>release_date</th>\n",
       "      <th>vote_count</th>\n",
       "      <th>vote_average</th>\n",
       "      <th>release_year</th>\n",
       "    </tr>\n",
       "  </thead>\n",
       "  <tbody>\n",
       "    <tr>\n",
       "      <th>0</th>\n",
       "      <td>135397</td>\n",
       "      <td>32.985763</td>\n",
       "      <td>150000000</td>\n",
       "      <td>1513528810</td>\n",
       "      <td>Jurassic World</td>\n",
       "      <td>Colin Trevorrow</td>\n",
       "      <td>124.0</td>\n",
       "      <td>Action|Adventure|Science Fiction|Thriller</td>\n",
       "      <td>2015-06-09</td>\n",
       "      <td>5562</td>\n",
       "      <td>6.5</td>\n",
       "      <td>2015</td>\n",
       "    </tr>\n",
       "    <tr>\n",
       "      <th>1</th>\n",
       "      <td>76341</td>\n",
       "      <td>28.419936</td>\n",
       "      <td>150000000</td>\n",
       "      <td>378436354</td>\n",
       "      <td>Mad Max: Fury Road</td>\n",
       "      <td>George Miller</td>\n",
       "      <td>120.0</td>\n",
       "      <td>Action|Adventure|Science Fiction|Thriller</td>\n",
       "      <td>2015-05-13</td>\n",
       "      <td>6185</td>\n",
       "      <td>7.1</td>\n",
       "      <td>2015</td>\n",
       "    </tr>\n",
       "    <tr>\n",
       "      <th>2</th>\n",
       "      <td>262500</td>\n",
       "      <td>13.112507</td>\n",
       "      <td>110000000</td>\n",
       "      <td>295238201</td>\n",
       "      <td>Insurgent</td>\n",
       "      <td>Robert Schwentke</td>\n",
       "      <td>119.0</td>\n",
       "      <td>Adventure|Science Fiction|Thriller</td>\n",
       "      <td>2015-03-18</td>\n",
       "      <td>2480</td>\n",
       "      <td>6.3</td>\n",
       "      <td>2015</td>\n",
       "    </tr>\n",
       "    <tr>\n",
       "      <th>3</th>\n",
       "      <td>140607</td>\n",
       "      <td>11.173104</td>\n",
       "      <td>200000000</td>\n",
       "      <td>2068178225</td>\n",
       "      <td>Star Wars: The Force Awakens</td>\n",
       "      <td>J.J. Abrams</td>\n",
       "      <td>136.0</td>\n",
       "      <td>Action|Adventure|Science Fiction|Fantasy</td>\n",
       "      <td>2015-12-15</td>\n",
       "      <td>5292</td>\n",
       "      <td>7.5</td>\n",
       "      <td>2015</td>\n",
       "    </tr>\n",
       "    <tr>\n",
       "      <th>4</th>\n",
       "      <td>168259</td>\n",
       "      <td>9.335014</td>\n",
       "      <td>190000000</td>\n",
       "      <td>1506249360</td>\n",
       "      <td>Furious 7</td>\n",
       "      <td>James Wan</td>\n",
       "      <td>137.0</td>\n",
       "      <td>Action|Crime|Thriller</td>\n",
       "      <td>2015-04-01</td>\n",
       "      <td>2947</td>\n",
       "      <td>7.3</td>\n",
       "      <td>2015</td>\n",
       "    </tr>\n",
       "  </tbody>\n",
       "</table>\n",
       "</div>"
      ],
      "text/plain": [
       "       id  popularity     budget     revenue                original_title  \\\n",
       "0  135397   32.985763  150000000  1513528810                Jurassic World   \n",
       "1   76341   28.419936  150000000   378436354            Mad Max: Fury Road   \n",
       "2  262500   13.112507  110000000   295238201                     Insurgent   \n",
       "3  140607   11.173104  200000000  2068178225  Star Wars: The Force Awakens   \n",
       "4  168259    9.335014  190000000  1506249360                     Furious 7   \n",
       "\n",
       "           director  runtime                                     genres  \\\n",
       "0   Colin Trevorrow    124.0  Action|Adventure|Science Fiction|Thriller   \n",
       "1     George Miller    120.0  Action|Adventure|Science Fiction|Thriller   \n",
       "2  Robert Schwentke    119.0         Adventure|Science Fiction|Thriller   \n",
       "3       J.J. Abrams    136.0   Action|Adventure|Science Fiction|Fantasy   \n",
       "4         James Wan    137.0                      Action|Crime|Thriller   \n",
       "\n",
       "  release_date  vote_count  vote_average  release_year  \n",
       "0   2015-06-09        5562           6.5          2015  \n",
       "1   2015-05-13        6185           7.1          2015  \n",
       "2   2015-03-18        2480           6.3          2015  \n",
       "3   2015-12-15        5292           7.5          2015  \n",
       "4   2015-04-01        2947           7.3          2015  "
      ]
     },
     "execution_count": 56,
     "metadata": {},
     "output_type": "execute_result"
    }
   ],
   "source": [
    "# call the function head()\n",
    "df.head()"
   ]
  },
  {
   "cell_type": "code",
   "execution_count": 57,
   "metadata": {},
   "outputs": [
    {
     "data": {
      "text/html": [
       "<div>\n",
       "<style scoped>\n",
       "    .dataframe tbody tr th:only-of-type {\n",
       "        vertical-align: middle;\n",
       "    }\n",
       "\n",
       "    .dataframe tbody tr th {\n",
       "        vertical-align: top;\n",
       "    }\n",
       "\n",
       "    .dataframe thead th {\n",
       "        text-align: right;\n",
       "    }\n",
       "</style>\n",
       "<table border=\"1\" class=\"dataframe\">\n",
       "  <thead>\n",
       "    <tr style=\"text-align: right;\">\n",
       "      <th></th>\n",
       "      <th>id</th>\n",
       "      <th>popularity</th>\n",
       "      <th>budget</th>\n",
       "      <th>revenue</th>\n",
       "      <th>original_title</th>\n",
       "      <th>director</th>\n",
       "      <th>runtime</th>\n",
       "      <th>genres</th>\n",
       "      <th>release_date</th>\n",
       "      <th>vote_count</th>\n",
       "      <th>vote_average</th>\n",
       "      <th>release_year</th>\n",
       "      <th>month</th>\n",
       "    </tr>\n",
       "  </thead>\n",
       "  <tbody>\n",
       "    <tr>\n",
       "      <th>0</th>\n",
       "      <td>135397</td>\n",
       "      <td>32.985763</td>\n",
       "      <td>150000000</td>\n",
       "      <td>1513528810</td>\n",
       "      <td>Jurassic World</td>\n",
       "      <td>Colin Trevorrow</td>\n",
       "      <td>124.0</td>\n",
       "      <td>Action|Adventure|Science Fiction|Thriller</td>\n",
       "      <td>2015-06-09</td>\n",
       "      <td>5562</td>\n",
       "      <td>6.5</td>\n",
       "      <td>2015</td>\n",
       "      <td>6</td>\n",
       "    </tr>\n",
       "    <tr>\n",
       "      <th>1</th>\n",
       "      <td>76341</td>\n",
       "      <td>28.419936</td>\n",
       "      <td>150000000</td>\n",
       "      <td>378436354</td>\n",
       "      <td>Mad Max: Fury Road</td>\n",
       "      <td>George Miller</td>\n",
       "      <td>120.0</td>\n",
       "      <td>Action|Adventure|Science Fiction|Thriller</td>\n",
       "      <td>2015-05-13</td>\n",
       "      <td>6185</td>\n",
       "      <td>7.1</td>\n",
       "      <td>2015</td>\n",
       "      <td>5</td>\n",
       "    </tr>\n",
       "    <tr>\n",
       "      <th>2</th>\n",
       "      <td>262500</td>\n",
       "      <td>13.112507</td>\n",
       "      <td>110000000</td>\n",
       "      <td>295238201</td>\n",
       "      <td>Insurgent</td>\n",
       "      <td>Robert Schwentke</td>\n",
       "      <td>119.0</td>\n",
       "      <td>Adventure|Science Fiction|Thriller</td>\n",
       "      <td>2015-03-18</td>\n",
       "      <td>2480</td>\n",
       "      <td>6.3</td>\n",
       "      <td>2015</td>\n",
       "      <td>3</td>\n",
       "    </tr>\n",
       "    <tr>\n",
       "      <th>3</th>\n",
       "      <td>140607</td>\n",
       "      <td>11.173104</td>\n",
       "      <td>200000000</td>\n",
       "      <td>2068178225</td>\n",
       "      <td>Star Wars: The Force Awakens</td>\n",
       "      <td>J.J. Abrams</td>\n",
       "      <td>136.0</td>\n",
       "      <td>Action|Adventure|Science Fiction|Fantasy</td>\n",
       "      <td>2015-12-15</td>\n",
       "      <td>5292</td>\n",
       "      <td>7.5</td>\n",
       "      <td>2015</td>\n",
       "      <td>12</td>\n",
       "    </tr>\n",
       "    <tr>\n",
       "      <th>4</th>\n",
       "      <td>168259</td>\n",
       "      <td>9.335014</td>\n",
       "      <td>190000000</td>\n",
       "      <td>1506249360</td>\n",
       "      <td>Furious 7</td>\n",
       "      <td>James Wan</td>\n",
       "      <td>137.0</td>\n",
       "      <td>Action|Crime|Thriller</td>\n",
       "      <td>2015-04-01</td>\n",
       "      <td>2947</td>\n",
       "      <td>7.3</td>\n",
       "      <td>2015</td>\n",
       "      <td>4</td>\n",
       "    </tr>\n",
       "  </tbody>\n",
       "</table>\n",
       "</div>"
      ],
      "text/plain": [
       "       id  popularity     budget     revenue                original_title  \\\n",
       "0  135397   32.985763  150000000  1513528810                Jurassic World   \n",
       "1   76341   28.419936  150000000   378436354            Mad Max: Fury Road   \n",
       "2  262500   13.112507  110000000   295238201                     Insurgent   \n",
       "3  140607   11.173104  200000000  2068178225  Star Wars: The Force Awakens   \n",
       "4  168259    9.335014  190000000  1506249360                     Furious 7   \n",
       "\n",
       "           director  runtime                                     genres  \\\n",
       "0   Colin Trevorrow    124.0  Action|Adventure|Science Fiction|Thriller   \n",
       "1     George Miller    120.0  Action|Adventure|Science Fiction|Thriller   \n",
       "2  Robert Schwentke    119.0         Adventure|Science Fiction|Thriller   \n",
       "3       J.J. Abrams    136.0   Action|Adventure|Science Fiction|Fantasy   \n",
       "4         James Wan    137.0                      Action|Crime|Thriller   \n",
       "\n",
       "  release_date  vote_count  vote_average  release_year  month  \n",
       "0   2015-06-09        5562           6.5          2015      6  \n",
       "1   2015-05-13        6185           7.1          2015      5  \n",
       "2   2015-03-18        2480           6.3          2015      3  \n",
       "3   2015-12-15        5292           7.5          2015     12  \n",
       "4   2015-04-01        2947           7.3          2015      4  "
      ]
     },
     "execution_count": 57,
     "metadata": {},
     "output_type": "execute_result"
    }
   ],
   "source": [
    "# I intend to understand if there is any relationship with the launch month and revenues\n",
    "# for this I will need to create a column with the months of the year\n",
    "# I followed the tutorial below to do it\n",
    "# https://qastack.com.br/programming/25146121/extracting-just-month-and-year-separately-from-pandas-datetime-column\n",
    "df['month'] = pd.DatetimeIndex(df['release_date']).month\n",
    "df.head()"
   ]
  },
  {
   "cell_type": "code",
   "execution_count": 58,
   "metadata": {},
   "outputs": [
    {
     "data": {
      "image/png": "[encoded data removed]",
      "text/plain": [
       "<Figure size 432x288 with 1 Axes>"
      ]
     },
     "metadata": {
      "needs_background": "light"
     },
     "output_type": "display_data"
    }
   ],
   "source": [
    "# plotting the months with the highest revenue over the years.\n",
    "df.groupby('month').agg({'revenue': 'sum'}).plot();\n",
    "plt.ylabel('Revenue')\n",
    "plt.show()"
   ]
  },
  {
   "cell_type": "code",
   "execution_count": 59,
   "metadata": {},
   "outputs": [
    {
     "data": {
      "text/html": [
       "<div>\n",
       "<style scoped>\n",
       "    .dataframe tbody tr th:only-of-type {\n",
       "        vertical-align: middle;\n",
       "    }\n",
       "\n",
       "    .dataframe tbody tr th {\n",
       "        vertical-align: top;\n",
       "    }\n",
       "\n",
       "    .dataframe thead th {\n",
       "        text-align: right;\n",
       "    }\n",
       "</style>\n",
       "<table border=\"1\" class=\"dataframe\">\n",
       "  <thead>\n",
       "    <tr style=\"text-align: right;\">\n",
       "      <th></th>\n",
       "      <th>budget</th>\n",
       "      <th>revenue</th>\n",
       "      <th>profit</th>\n",
       "    </tr>\n",
       "    <tr>\n",
       "      <th>month</th>\n",
       "      <th></th>\n",
       "      <th></th>\n",
       "      <th></th>\n",
       "    </tr>\n",
       "  </thead>\n",
       "  <tbody>\n",
       "    <tr>\n",
       "      <th>1</th>\n",
       "      <td>6260321862</td>\n",
       "      <td>12968479332</td>\n",
       "      <td>6708157470</td>\n",
       "    </tr>\n",
       "    <tr>\n",
       "      <th>2</th>\n",
       "      <td>9263627747</td>\n",
       "      <td>19793785507</td>\n",
       "      <td>10530157760</td>\n",
       "    </tr>\n",
       "    <tr>\n",
       "      <th>3</th>\n",
       "      <td>12105714749</td>\n",
       "      <td>31394946991</td>\n",
       "      <td>19289232242</td>\n",
       "    </tr>\n",
       "    <tr>\n",
       "      <th>4</th>\n",
       "      <td>10557491376</td>\n",
       "      <td>26393260672</td>\n",
       "      <td>15835769296</td>\n",
       "    </tr>\n",
       "    <tr>\n",
       "      <th>5</th>\n",
       "      <td>16012199287</td>\n",
       "      <td>50454865815</td>\n",
       "      <td>34442666528</td>\n",
       "    </tr>\n",
       "    <tr>\n",
       "      <th>6</th>\n",
       "      <td>18002521931</td>\n",
       "      <td>61660585217</td>\n",
       "      <td>43658063286</td>\n",
       "    </tr>\n",
       "    <tr>\n",
       "      <th>7</th>\n",
       "      <td>15296179720</td>\n",
       "      <td>45382225481</td>\n",
       "      <td>30086045761</td>\n",
       "    </tr>\n",
       "    <tr>\n",
       "      <th>8</th>\n",
       "      <td>11095258000</td>\n",
       "      <td>25477766900</td>\n",
       "      <td>14382508900</td>\n",
       "    </tr>\n",
       "    <tr>\n",
       "      <th>9</th>\n",
       "      <td>12435245114</td>\n",
       "      <td>25731480293</td>\n",
       "      <td>13296235179</td>\n",
       "    </tr>\n",
       "    <tr>\n",
       "      <th>10</th>\n",
       "      <td>13022989852</td>\n",
       "      <td>29353709677</td>\n",
       "      <td>16330719825</td>\n",
       "    </tr>\n",
       "    <tr>\n",
       "      <th>11</th>\n",
       "      <td>15351720990</td>\n",
       "      <td>45896256786</td>\n",
       "      <td>30544535796</td>\n",
       "    </tr>\n",
       "    <tr>\n",
       "      <th>12</th>\n",
       "      <td>19489592461</td>\n",
       "      <td>58211863204</td>\n",
       "      <td>38722270743</td>\n",
       "    </tr>\n",
       "  </tbody>\n",
       "</table>\n",
       "</div>"
      ],
      "text/plain": [
       "            budget      revenue       profit\n",
       "month                                       \n",
       "1       6260321862  12968479332   6708157470\n",
       "2       9263627747  19793785507  10530157760\n",
       "3      12105714749  31394946991  19289232242\n",
       "4      10557491376  26393260672  15835769296\n",
       "5      16012199287  50454865815  34442666528\n",
       "6      18002521931  61660585217  43658063286\n",
       "7      15296179720  45382225481  30086045761\n",
       "8      11095258000  25477766900  14382508900\n",
       "9      12435245114  25731480293  13296235179\n",
       "10     13022989852  29353709677  16330719825\n",
       "11     15351720990  45896256786  30544535796\n",
       "12     19489592461  58211863204  38722270743"
      ]
     },
     "execution_count": 59,
     "metadata": {},
     "output_type": "execute_result"
    }
   ],
   "source": [
    "# including the profit column\n",
    "df_month = df.groupby(['month']).agg({'budget': 'sum', 'revenue': 'sum'})\n",
    "df_month['profit'] = df_month.revenue - df_month.budget\n",
    "df_month.head(12)"
   ]
  },
  {
   "cell_type": "code",
   "execution_count": 60,
   "metadata": {},
   "outputs": [
    {
     "data": {
      "image/png": "[encoded data removed]",
      "text/plain": [
       "<Figure size 432x288 with 1 Axes>"
      ]
     },
     "metadata": {
      "needs_background": "light"
     },
     "output_type": "display_data"
    }
   ],
   "source": [
    "# bar plot to check revenues, budgets and profits to check the best months of launches.\n",
    "\n",
    "df_month.revenue.plot(kind='bar', alpha=0.4, color='grey', width=0.7)\n",
    "df_month.profit.plot(kind='bar', alpha=0.4, color='black', width=0.7)\n",
    "df_month.budget.plot(kind='bar', alpha=0.4, color='blue', width=0.7)\n",
    "plt.title('Revenue, Budget and profit per month')\n",
    "plt.legend()\n",
    "plt.xlabel('Month')\n",
    "plt.ylabel('US$ Bilion')\n",
    "plt.show();"
   ]
  },
  {
   "cell_type": "markdown",
   "metadata": {},
   "source": [
    "> Analyzing the revenue data with the launch months, it is clear that the middle of the year, like May, July and July has the best performances, as well as November and December. The months of June and December presented the best performances in terms of revenues and profits. January being the month with the worst performance in terms of revenues based on the launch months."
   ]
  },
  {
   "cell_type": "markdown",
   "metadata": {},
   "source": [
    "### Question 1: Which genres are most popular from year to year?"
   ]
  },
  {
   "cell_type": "code",
   "execution_count": 61,
   "metadata": {},
   "outputs": [
    {
     "data": {
      "text/html": [
       "<div>\n",
       "<style scoped>\n",
       "    .dataframe tbody tr th:only-of-type {\n",
       "        vertical-align: middle;\n",
       "    }\n",
       "\n",
       "    .dataframe tbody tr th {\n",
       "        vertical-align: top;\n",
       "    }\n",
       "\n",
       "    .dataframe thead th {\n",
       "        text-align: right;\n",
       "    }\n",
       "</style>\n",
       "<table border=\"1\" class=\"dataframe\">\n",
       "  <thead>\n",
       "    <tr style=\"text-align: right;\">\n",
       "      <th></th>\n",
       "      <th>id</th>\n",
       "      <th>popularity</th>\n",
       "      <th>budget</th>\n",
       "      <th>revenue</th>\n",
       "      <th>original_title</th>\n",
       "      <th>director</th>\n",
       "      <th>runtime</th>\n",
       "      <th>genres</th>\n",
       "      <th>release_date</th>\n",
       "      <th>vote_count</th>\n",
       "      <th>vote_average</th>\n",
       "      <th>release_year</th>\n",
       "      <th>month</th>\n",
       "    </tr>\n",
       "  </thead>\n",
       "  <tbody>\n",
       "    <tr>\n",
       "      <th>0</th>\n",
       "      <td>135397</td>\n",
       "      <td>32.985763</td>\n",
       "      <td>150000000</td>\n",
       "      <td>1513528810</td>\n",
       "      <td>Jurassic World</td>\n",
       "      <td>Colin Trevorrow</td>\n",
       "      <td>124.0</td>\n",
       "      <td>Action</td>\n",
       "      <td>2015-06-09</td>\n",
       "      <td>5562</td>\n",
       "      <td>6.5</td>\n",
       "      <td>2015</td>\n",
       "      <td>6</td>\n",
       "    </tr>\n",
       "    <tr>\n",
       "      <th>0</th>\n",
       "      <td>135397</td>\n",
       "      <td>32.985763</td>\n",
       "      <td>150000000</td>\n",
       "      <td>1513528810</td>\n",
       "      <td>Jurassic World</td>\n",
       "      <td>Colin Trevorrow</td>\n",
       "      <td>124.0</td>\n",
       "      <td>Adventure</td>\n",
       "      <td>2015-06-09</td>\n",
       "      <td>5562</td>\n",
       "      <td>6.5</td>\n",
       "      <td>2015</td>\n",
       "      <td>6</td>\n",
       "    </tr>\n",
       "    <tr>\n",
       "      <th>0</th>\n",
       "      <td>135397</td>\n",
       "      <td>32.985763</td>\n",
       "      <td>150000000</td>\n",
       "      <td>1513528810</td>\n",
       "      <td>Jurassic World</td>\n",
       "      <td>Colin Trevorrow</td>\n",
       "      <td>124.0</td>\n",
       "      <td>Science Fiction</td>\n",
       "      <td>2015-06-09</td>\n",
       "      <td>5562</td>\n",
       "      <td>6.5</td>\n",
       "      <td>2015</td>\n",
       "      <td>6</td>\n",
       "    </tr>\n",
       "    <tr>\n",
       "      <th>0</th>\n",
       "      <td>135397</td>\n",
       "      <td>32.985763</td>\n",
       "      <td>150000000</td>\n",
       "      <td>1513528810</td>\n",
       "      <td>Jurassic World</td>\n",
       "      <td>Colin Trevorrow</td>\n",
       "      <td>124.0</td>\n",
       "      <td>Thriller</td>\n",
       "      <td>2015-06-09</td>\n",
       "      <td>5562</td>\n",
       "      <td>6.5</td>\n",
       "      <td>2015</td>\n",
       "      <td>6</td>\n",
       "    </tr>\n",
       "    <tr>\n",
       "      <th>1</th>\n",
       "      <td>76341</td>\n",
       "      <td>28.419936</td>\n",
       "      <td>150000000</td>\n",
       "      <td>378436354</td>\n",
       "      <td>Mad Max: Fury Road</td>\n",
       "      <td>George Miller</td>\n",
       "      <td>120.0</td>\n",
       "      <td>Action</td>\n",
       "      <td>2015-05-13</td>\n",
       "      <td>6185</td>\n",
       "      <td>7.1</td>\n",
       "      <td>2015</td>\n",
       "      <td>5</td>\n",
       "    </tr>\n",
       "    <tr>\n",
       "      <th>1</th>\n",
       "      <td>76341</td>\n",
       "      <td>28.419936</td>\n",
       "      <td>150000000</td>\n",
       "      <td>378436354</td>\n",
       "      <td>Mad Max: Fury Road</td>\n",
       "      <td>George Miller</td>\n",
       "      <td>120.0</td>\n",
       "      <td>Adventure</td>\n",
       "      <td>2015-05-13</td>\n",
       "      <td>6185</td>\n",
       "      <td>7.1</td>\n",
       "      <td>2015</td>\n",
       "      <td>5</td>\n",
       "    </tr>\n",
       "  </tbody>\n",
       "</table>\n",
       "</div>"
      ],
      "text/plain": [
       "       id  popularity     budget     revenue      original_title  \\\n",
       "0  135397   32.985763  150000000  1513528810      Jurassic World   \n",
       "0  135397   32.985763  150000000  1513528810      Jurassic World   \n",
       "0  135397   32.985763  150000000  1513528810      Jurassic World   \n",
       "0  135397   32.985763  150000000  1513528810      Jurassic World   \n",
       "1   76341   28.419936  150000000   378436354  Mad Max: Fury Road   \n",
       "1   76341   28.419936  150000000   378436354  Mad Max: Fury Road   \n",
       "\n",
       "          director  runtime           genres release_date  vote_count  \\\n",
       "0  Colin Trevorrow    124.0           Action   2015-06-09        5562   \n",
       "0  Colin Trevorrow    124.0        Adventure   2015-06-09        5562   \n",
       "0  Colin Trevorrow    124.0  Science Fiction   2015-06-09        5562   \n",
       "0  Colin Trevorrow    124.0         Thriller   2015-06-09        5562   \n",
       "1    George Miller    120.0           Action   2015-05-13        6185   \n",
       "1    George Miller    120.0        Adventure   2015-05-13        6185   \n",
       "\n",
       "   vote_average  release_year  month  \n",
       "0           6.5          2015      6  \n",
       "0           6.5          2015      6  \n",
       "0           6.5          2015      6  \n",
       "0           6.5          2015      6  \n",
       "1           7.1          2015      5  \n",
       "1           7.1          2015      5  "
      ]
     },
     "execution_count": 61,
     "metadata": {},
     "output_type": "execute_result"
    }
   ],
   "source": [
    "# To start analyzing recipes by genres of films, I will use the split () and explode () functions, \n",
    "# since many films have more than one genre in their records. The purpose of the split will be to separate the\n",
    "# genres of each record, and explode it to create new lines.\n",
    "# Eu li e utilizai o tutorial abaixo para desenvolvê-lo.\n",
    "# https://cmdlinetips.com/2020/06/pandas-explode-convert-list-like-column-elements-to-separate-rows/#:~:text=Pandas%20explode()%20function%20will,and%20also%20corresponding%20Language%20element.\n",
    "df_genres = df.assign(genres=df.genres.str.split(\"|\")).explode('genres')\n",
    "df_genres.head(6)"
   ]
  },
  {
   "cell_type": "code",
   "execution_count": 62,
   "metadata": {},
   "outputs": [
    {
     "data": {
      "text/html": [
       "<div>\n",
       "<style scoped>\n",
       "    .dataframe tbody tr th:only-of-type {\n",
       "        vertical-align: middle;\n",
       "    }\n",
       "\n",
       "    .dataframe tbody tr th {\n",
       "        vertical-align: top;\n",
       "    }\n",
       "\n",
       "    .dataframe thead tr th {\n",
       "        text-align: left;\n",
       "    }\n",
       "\n",
       "    .dataframe thead tr:last-of-type th {\n",
       "        text-align: right;\n",
       "    }\n",
       "</style>\n",
       "<table border=\"1\" class=\"dataframe\">\n",
       "  <thead>\n",
       "    <tr>\n",
       "      <th></th>\n",
       "      <th colspan=\"21\" halign=\"left\">popularity</th>\n",
       "    </tr>\n",
       "    <tr>\n",
       "      <th>release_year</th>\n",
       "      <th>1960</th>\n",
       "      <th>1961</th>\n",
       "      <th>1962</th>\n",
       "      <th>1963</th>\n",
       "      <th>1964</th>\n",
       "      <th>1965</th>\n",
       "      <th>1966</th>\n",
       "      <th>1967</th>\n",
       "      <th>1968</th>\n",
       "      <th>1969</th>\n",
       "      <th>...</th>\n",
       "      <th>2006</th>\n",
       "      <th>2007</th>\n",
       "      <th>2008</th>\n",
       "      <th>2009</th>\n",
       "      <th>2010</th>\n",
       "      <th>2011</th>\n",
       "      <th>2012</th>\n",
       "      <th>2013</th>\n",
       "      <th>2014</th>\n",
       "      <th>2015</th>\n",
       "    </tr>\n",
       "    <tr>\n",
       "      <th>genres</th>\n",
       "      <th></th>\n",
       "      <th></th>\n",
       "      <th></th>\n",
       "      <th></th>\n",
       "      <th></th>\n",
       "      <th></th>\n",
       "      <th></th>\n",
       "      <th></th>\n",
       "      <th></th>\n",
       "      <th></th>\n",
       "      <th></th>\n",
       "      <th></th>\n",
       "      <th></th>\n",
       "      <th></th>\n",
       "      <th></th>\n",
       "      <th></th>\n",
       "      <th></th>\n",
       "      <th></th>\n",
       "      <th></th>\n",
       "      <th></th>\n",
       "      <th></th>\n",
       "    </tr>\n",
       "  </thead>\n",
       "  <tbody>\n",
       "    <tr>\n",
       "      <th>Action</th>\n",
       "      <td>0.288758</td>\n",
       "      <td>0.307820</td>\n",
       "      <td>0.400881</td>\n",
       "      <td>0.545760</td>\n",
       "      <td>0.275530</td>\n",
       "      <td>0.243896</td>\n",
       "      <td>0.272052</td>\n",
       "      <td>0.438314</td>\n",
       "      <td>0.297820</td>\n",
       "      <td>0.399297</td>\n",
       "      <td>...</td>\n",
       "      <td>0.467333</td>\n",
       "      <td>0.463461</td>\n",
       "      <td>0.480116</td>\n",
       "      <td>0.427314</td>\n",
       "      <td>0.559371</td>\n",
       "      <td>0.559451</td>\n",
       "      <td>0.526637</td>\n",
       "      <td>0.534902</td>\n",
       "      <td>0.560295</td>\n",
       "      <td>0.821443</td>\n",
       "    </tr>\n",
       "    <tr>\n",
       "      <th>Adventure</th>\n",
       "      <td>0.465879</td>\n",
       "      <td>0.473274</td>\n",
       "      <td>0.526108</td>\n",
       "      <td>0.501540</td>\n",
       "      <td>0.131149</td>\n",
       "      <td>0.323553</td>\n",
       "      <td>0.291704</td>\n",
       "      <td>0.485288</td>\n",
       "      <td>0.569422</td>\n",
       "      <td>0.615889</td>\n",
       "      <td>...</td>\n",
       "      <td>0.523882</td>\n",
       "      <td>0.494212</td>\n",
       "      <td>0.634256</td>\n",
       "      <td>0.564938</td>\n",
       "      <td>0.757082</td>\n",
       "      <td>0.614537</td>\n",
       "      <td>0.628254</td>\n",
       "      <td>0.661187</td>\n",
       "      <td>0.495840</td>\n",
       "      <td>1.724712</td>\n",
       "    </tr>\n",
       "    <tr>\n",
       "      <th>Animation</th>\n",
       "      <td>0.000000</td>\n",
       "      <td>2.631987</td>\n",
       "      <td>0.000000</td>\n",
       "      <td>2.180410</td>\n",
       "      <td>0.445746</td>\n",
       "      <td>0.600975</td>\n",
       "      <td>0.276133</td>\n",
       "      <td>1.348805</td>\n",
       "      <td>0.202802</td>\n",
       "      <td>0.345405</td>\n",
       "      <td>...</td>\n",
       "      <td>0.523882</td>\n",
       "      <td>0.455415</td>\n",
       "      <td>0.540913</td>\n",
       "      <td>0.460035</td>\n",
       "      <td>0.408510</td>\n",
       "      <td>0.642933</td>\n",
       "      <td>0.424196</td>\n",
       "      <td>0.467773</td>\n",
       "      <td>0.612052</td>\n",
       "      <td>0.542568</td>\n",
       "    </tr>\n",
       "    <tr>\n",
       "      <th>Comedy</th>\n",
       "      <td>0.307729</td>\n",
       "      <td>0.297034</td>\n",
       "      <td>0.235542</td>\n",
       "      <td>0.250451</td>\n",
       "      <td>0.233366</td>\n",
       "      <td>0.250043</td>\n",
       "      <td>0.233486</td>\n",
       "      <td>0.201545</td>\n",
       "      <td>0.259501</td>\n",
       "      <td>0.318256</td>\n",
       "      <td>...</td>\n",
       "      <td>0.440529</td>\n",
       "      <td>0.367836</td>\n",
       "      <td>0.374034</td>\n",
       "      <td>0.336296</td>\n",
       "      <td>0.443893</td>\n",
       "      <td>0.499339</td>\n",
       "      <td>0.345391</td>\n",
       "      <td>0.349655</td>\n",
       "      <td>0.430708</td>\n",
       "      <td>0.440500</td>\n",
       "    </tr>\n",
       "    <tr>\n",
       "      <th>Crime</th>\n",
       "      <td>0.346480</td>\n",
       "      <td>0.806519</td>\n",
       "      <td>0.341718</td>\n",
       "      <td>0.666707</td>\n",
       "      <td>0.179561</td>\n",
       "      <td>0.387277</td>\n",
       "      <td>0.206537</td>\n",
       "      <td>0.438314</td>\n",
       "      <td>0.488336</td>\n",
       "      <td>0.897684</td>\n",
       "      <td>...</td>\n",
       "      <td>0.437529</td>\n",
       "      <td>0.482885</td>\n",
       "      <td>0.423314</td>\n",
       "      <td>0.481687</td>\n",
       "      <td>0.544798</td>\n",
       "      <td>0.504042</td>\n",
       "      <td>0.648572</td>\n",
       "      <td>0.721548</td>\n",
       "      <td>0.444337</td>\n",
       "      <td>1.225325</td>\n",
       "    </tr>\n",
       "    <tr>\n",
       "      <th>Documentary</th>\n",
       "      <td>0.000000</td>\n",
       "      <td>0.000000</td>\n",
       "      <td>0.000000</td>\n",
       "      <td>0.000000</td>\n",
       "      <td>0.000000</td>\n",
       "      <td>0.000000</td>\n",
       "      <td>0.080598</td>\n",
       "      <td>0.095101</td>\n",
       "      <td>0.000000</td>\n",
       "      <td>0.000000</td>\n",
       "      <td>...</td>\n",
       "      <td>0.157645</td>\n",
       "      <td>0.203044</td>\n",
       "      <td>0.131928</td>\n",
       "      <td>0.128661</td>\n",
       "      <td>0.187905</td>\n",
       "      <td>0.135239</td>\n",
       "      <td>0.140904</td>\n",
       "      <td>0.140900</td>\n",
       "      <td>0.113265</td>\n",
       "      <td>0.137772</td>\n",
       "    </tr>\n",
       "    <tr>\n",
       "      <th>Drama</th>\n",
       "      <td>0.271858</td>\n",
       "      <td>0.286475</td>\n",
       "      <td>0.275157</td>\n",
       "      <td>0.207161</td>\n",
       "      <td>0.198251</td>\n",
       "      <td>0.180334</td>\n",
       "      <td>0.295808</td>\n",
       "      <td>0.329598</td>\n",
       "      <td>0.347755</td>\n",
       "      <td>0.411816</td>\n",
       "      <td>...</td>\n",
       "      <td>0.386756</td>\n",
       "      <td>0.425002</td>\n",
       "      <td>0.358438</td>\n",
       "      <td>0.412870</td>\n",
       "      <td>0.443850</td>\n",
       "      <td>0.425378</td>\n",
       "      <td>0.342303</td>\n",
       "      <td>0.422634</td>\n",
       "      <td>0.432529</td>\n",
       "      <td>0.434327</td>\n",
       "    </tr>\n",
       "    <tr>\n",
       "      <th>Family</th>\n",
       "      <td>0.254124</td>\n",
       "      <td>0.303783</td>\n",
       "      <td>0.323463</td>\n",
       "      <td>0.198774</td>\n",
       "      <td>0.665686</td>\n",
       "      <td>0.600975</td>\n",
       "      <td>0.276133</td>\n",
       "      <td>0.241283</td>\n",
       "      <td>0.323826</td>\n",
       "      <td>0.371046</td>\n",
       "      <td>...</td>\n",
       "      <td>0.565930</td>\n",
       "      <td>0.564132</td>\n",
       "      <td>0.575389</td>\n",
       "      <td>0.413528</td>\n",
       "      <td>0.550709</td>\n",
       "      <td>0.504517</td>\n",
       "      <td>0.435036</td>\n",
       "      <td>0.463994</td>\n",
       "      <td>0.518405</td>\n",
       "      <td>0.676520</td>\n",
       "    </tr>\n",
       "    <tr>\n",
       "      <th>Fantasy</th>\n",
       "      <td>0.428247</td>\n",
       "      <td>0.154073</td>\n",
       "      <td>0.235542</td>\n",
       "      <td>0.214071</td>\n",
       "      <td>0.177050</td>\n",
       "      <td>0.000000</td>\n",
       "      <td>0.424771</td>\n",
       "      <td>0.225687</td>\n",
       "      <td>0.323826</td>\n",
       "      <td>0.204098</td>\n",
       "      <td>...</td>\n",
       "      <td>0.528154</td>\n",
       "      <td>0.543326</td>\n",
       "      <td>0.611016</td>\n",
       "      <td>0.539230</td>\n",
       "      <td>0.614720</td>\n",
       "      <td>0.559839</td>\n",
       "      <td>0.660446</td>\n",
       "      <td>0.470131</td>\n",
       "      <td>0.647224</td>\n",
       "      <td>0.953046</td>\n",
       "    </tr>\n",
       "    <tr>\n",
       "      <th>Foreign</th>\n",
       "      <td>0.194948</td>\n",
       "      <td>0.113651</td>\n",
       "      <td>0.235542</td>\n",
       "      <td>0.351647</td>\n",
       "      <td>0.152209</td>\n",
       "      <td>0.004770</td>\n",
       "      <td>0.361556</td>\n",
       "      <td>0.000000</td>\n",
       "      <td>0.000000</td>\n",
       "      <td>0.000000</td>\n",
       "      <td>...</td>\n",
       "      <td>0.244049</td>\n",
       "      <td>0.170069</td>\n",
       "      <td>0.169567</td>\n",
       "      <td>0.176846</td>\n",
       "      <td>0.181532</td>\n",
       "      <td>0.098699</td>\n",
       "      <td>0.095282</td>\n",
       "      <td>0.000000</td>\n",
       "      <td>0.000000</td>\n",
       "      <td>0.000000</td>\n",
       "    </tr>\n",
       "    <tr>\n",
       "      <th>History</th>\n",
       "      <td>0.256779</td>\n",
       "      <td>0.307820</td>\n",
       "      <td>0.499359</td>\n",
       "      <td>0.457388</td>\n",
       "      <td>0.306872</td>\n",
       "      <td>0.153438</td>\n",
       "      <td>0.335649</td>\n",
       "      <td>0.000000</td>\n",
       "      <td>0.569422</td>\n",
       "      <td>0.575000</td>\n",
       "      <td>...</td>\n",
       "      <td>0.577804</td>\n",
       "      <td>0.385371</td>\n",
       "      <td>0.340288</td>\n",
       "      <td>0.505410</td>\n",
       "      <td>0.403475</td>\n",
       "      <td>0.300594</td>\n",
       "      <td>0.438730</td>\n",
       "      <td>0.423209</td>\n",
       "      <td>0.252762</td>\n",
       "      <td>0.526642</td>\n",
       "    </tr>\n",
       "    <tr>\n",
       "      <th>Horror</th>\n",
       "      <td>0.323180</td>\n",
       "      <td>0.249542</td>\n",
       "      <td>0.153654</td>\n",
       "      <td>0.249429</td>\n",
       "      <td>0.156153</td>\n",
       "      <td>0.102242</td>\n",
       "      <td>0.035919</td>\n",
       "      <td>0.242839</td>\n",
       "      <td>0.523209</td>\n",
       "      <td>0.141028</td>\n",
       "      <td>...</td>\n",
       "      <td>0.307369</td>\n",
       "      <td>0.426260</td>\n",
       "      <td>0.298430</td>\n",
       "      <td>0.312020</td>\n",
       "      <td>0.277505</td>\n",
       "      <td>0.314400</td>\n",
       "      <td>0.292619</td>\n",
       "      <td>0.285847</td>\n",
       "      <td>0.336024</td>\n",
       "      <td>0.300350</td>\n",
       "    </tr>\n",
       "    <tr>\n",
       "      <th>Music</th>\n",
       "      <td>0.423531</td>\n",
       "      <td>0.564749</td>\n",
       "      <td>0.323933</td>\n",
       "      <td>0.000000</td>\n",
       "      <td>0.633882</td>\n",
       "      <td>0.968850</td>\n",
       "      <td>0.000000</td>\n",
       "      <td>0.114034</td>\n",
       "      <td>0.633129</td>\n",
       "      <td>0.404251</td>\n",
       "      <td>...</td>\n",
       "      <td>0.324740</td>\n",
       "      <td>0.532062</td>\n",
       "      <td>0.274406</td>\n",
       "      <td>0.356209</td>\n",
       "      <td>0.195084</td>\n",
       "      <td>0.256142</td>\n",
       "      <td>0.149954</td>\n",
       "      <td>0.288878</td>\n",
       "      <td>0.331917</td>\n",
       "      <td>0.435582</td>\n",
       "    </tr>\n",
       "    <tr>\n",
       "      <th>Mystery</th>\n",
       "      <td>0.000000</td>\n",
       "      <td>0.712793</td>\n",
       "      <td>0.145373</td>\n",
       "      <td>0.418616</td>\n",
       "      <td>0.276721</td>\n",
       "      <td>0.127948</td>\n",
       "      <td>0.171749</td>\n",
       "      <td>0.428652</td>\n",
       "      <td>1.022050</td>\n",
       "      <td>0.567962</td>\n",
       "      <td>...</td>\n",
       "      <td>0.480704</td>\n",
       "      <td>0.575124</td>\n",
       "      <td>0.453602</td>\n",
       "      <td>0.414910</td>\n",
       "      <td>0.554468</td>\n",
       "      <td>0.455763</td>\n",
       "      <td>0.220523</td>\n",
       "      <td>0.351075</td>\n",
       "      <td>0.458571</td>\n",
       "      <td>0.489171</td>\n",
       "    </tr>\n",
       "    <tr>\n",
       "      <th>Romance</th>\n",
       "      <td>0.551315</td>\n",
       "      <td>0.242244</td>\n",
       "      <td>0.235542</td>\n",
       "      <td>0.232738</td>\n",
       "      <td>0.182922</td>\n",
       "      <td>0.250043</td>\n",
       "      <td>0.269673</td>\n",
       "      <td>0.213291</td>\n",
       "      <td>0.211473</td>\n",
       "      <td>0.303721</td>\n",
       "      <td>...</td>\n",
       "      <td>0.420303</td>\n",
       "      <td>0.404154</td>\n",
       "      <td>0.463138</td>\n",
       "      <td>0.409673</td>\n",
       "      <td>0.493121</td>\n",
       "      <td>0.434506</td>\n",
       "      <td>0.477929</td>\n",
       "      <td>0.386180</td>\n",
       "      <td>0.363108</td>\n",
       "      <td>0.390188</td>\n",
       "    </tr>\n",
       "    <tr>\n",
       "      <th>Science Fiction</th>\n",
       "      <td>0.144106</td>\n",
       "      <td>0.226185</td>\n",
       "      <td>0.179212</td>\n",
       "      <td>0.467836</td>\n",
       "      <td>0.186013</td>\n",
       "      <td>0.101956</td>\n",
       "      <td>0.221678</td>\n",
       "      <td>0.164469</td>\n",
       "      <td>1.010064</td>\n",
       "      <td>0.141056</td>\n",
       "      <td>...</td>\n",
       "      <td>0.375790</td>\n",
       "      <td>0.396494</td>\n",
       "      <td>0.527224</td>\n",
       "      <td>0.430112</td>\n",
       "      <td>0.297737</td>\n",
       "      <td>0.471145</td>\n",
       "      <td>0.400247</td>\n",
       "      <td>0.465414</td>\n",
       "      <td>0.501539</td>\n",
       "      <td>0.374991</td>\n",
       "    </tr>\n",
       "    <tr>\n",
       "      <th>TV Movie</th>\n",
       "      <td>0.000000</td>\n",
       "      <td>0.000000</td>\n",
       "      <td>0.000000</td>\n",
       "      <td>0.000000</td>\n",
       "      <td>0.000000</td>\n",
       "      <td>0.600975</td>\n",
       "      <td>0.000000</td>\n",
       "      <td>0.000000</td>\n",
       "      <td>0.000000</td>\n",
       "      <td>0.528660</td>\n",
       "      <td>...</td>\n",
       "      <td>0.276653</td>\n",
       "      <td>0.113308</td>\n",
       "      <td>0.154973</td>\n",
       "      <td>0.336935</td>\n",
       "      <td>0.292085</td>\n",
       "      <td>0.246364</td>\n",
       "      <td>0.157100</td>\n",
       "      <td>0.176388</td>\n",
       "      <td>0.297396</td>\n",
       "      <td>0.274419</td>\n",
       "    </tr>\n",
       "    <tr>\n",
       "      <th>Thriller</th>\n",
       "      <td>0.496477</td>\n",
       "      <td>0.000000</td>\n",
       "      <td>0.341718</td>\n",
       "      <td>0.614625</td>\n",
       "      <td>0.275530</td>\n",
       "      <td>0.201703</td>\n",
       "      <td>0.280317</td>\n",
       "      <td>0.502062</td>\n",
       "      <td>0.488336</td>\n",
       "      <td>0.567962</td>\n",
       "      <td>...</td>\n",
       "      <td>0.392750</td>\n",
       "      <td>0.499794</td>\n",
       "      <td>0.417779</td>\n",
       "      <td>0.412708</td>\n",
       "      <td>0.443618</td>\n",
       "      <td>0.486907</td>\n",
       "      <td>0.419031</td>\n",
       "      <td>0.472278</td>\n",
       "      <td>0.491273</td>\n",
       "      <td>0.433073</td>\n",
       "    </tr>\n",
       "    <tr>\n",
       "      <th>War</th>\n",
       "      <td>0.225863</td>\n",
       "      <td>0.531184</td>\n",
       "      <td>0.232756</td>\n",
       "      <td>0.664326</td>\n",
       "      <td>0.306872</td>\n",
       "      <td>0.192952</td>\n",
       "      <td>0.295808</td>\n",
       "      <td>0.485288</td>\n",
       "      <td>0.272751</td>\n",
       "      <td>0.224638</td>\n",
       "      <td>...</td>\n",
       "      <td>0.501431</td>\n",
       "      <td>0.353139</td>\n",
       "      <td>0.393120</td>\n",
       "      <td>0.309808</td>\n",
       "      <td>0.507092</td>\n",
       "      <td>0.431320</td>\n",
       "      <td>0.574793</td>\n",
       "      <td>0.249031</td>\n",
       "      <td>0.299103</td>\n",
       "      <td>0.689579</td>\n",
       "    </tr>\n",
       "    <tr>\n",
       "      <th>Western</th>\n",
       "      <td>0.289913</td>\n",
       "      <td>0.173731</td>\n",
       "      <td>0.507078</td>\n",
       "      <td>0.246957</td>\n",
       "      <td>0.127679</td>\n",
       "      <td>0.166249</td>\n",
       "      <td>0.230873</td>\n",
       "      <td>0.189740</td>\n",
       "      <td>0.621202</td>\n",
       "      <td>0.386778</td>\n",
       "      <td>...</td>\n",
       "      <td>0.463068</td>\n",
       "      <td>0.360061</td>\n",
       "      <td>0.365913</td>\n",
       "      <td>0.000000</td>\n",
       "      <td>0.401294</td>\n",
       "      <td>1.499109</td>\n",
       "      <td>0.390865</td>\n",
       "      <td>0.393664</td>\n",
       "      <td>0.690200</td>\n",
       "      <td>1.201525</td>\n",
       "    </tr>\n",
       "  </tbody>\n",
       "</table>\n",
       "<p>20 rows × 56 columns</p>\n",
       "</div>"
      ],
      "text/plain": [
       "                popularity                                                    \\\n",
       "release_year          1960      1961      1962      1963      1964      1965   \n",
       "genres                                                                         \n",
       "Action            0.288758  0.307820  0.400881  0.545760  0.275530  0.243896   \n",
       "Adventure         0.465879  0.473274  0.526108  0.501540  0.131149  0.323553   \n",
       "Animation         0.000000  2.631987  0.000000  2.180410  0.445746  0.600975   \n",
       "Comedy            0.307729  0.297034  0.235542  0.250451  0.233366  0.250043   \n",
       "Crime             0.346480  0.806519  0.341718  0.666707  0.179561  0.387277   \n",
       "Documentary       0.000000  0.000000  0.000000  0.000000  0.000000  0.000000   \n",
       "Drama             0.271858  0.286475  0.275157  0.207161  0.198251  0.180334   \n",
       "Family            0.254124  0.303783  0.323463  0.198774  0.665686  0.600975   \n",
       "Fantasy           0.428247  0.154073  0.235542  0.214071  0.177050  0.000000   \n",
       "Foreign           0.194948  0.113651  0.235542  0.351647  0.152209  0.004770   \n",
       "History           0.256779  0.307820  0.499359  0.457388  0.306872  0.153438   \n",
       "Horror            0.323180  0.249542  0.153654  0.249429  0.156153  0.102242   \n",
       "Music             0.423531  0.564749  0.323933  0.000000  0.633882  0.968850   \n",
       "Mystery           0.000000  0.712793  0.145373  0.418616  0.276721  0.127948   \n",
       "Romance           0.551315  0.242244  0.235542  0.232738  0.182922  0.250043   \n",
       "Science Fiction   0.144106  0.226185  0.179212  0.467836  0.186013  0.101956   \n",
       "TV Movie          0.000000  0.000000  0.000000  0.000000  0.000000  0.600975   \n",
       "Thriller          0.496477  0.000000  0.341718  0.614625  0.275530  0.201703   \n",
       "War               0.225863  0.531184  0.232756  0.664326  0.306872  0.192952   \n",
       "Western           0.289913  0.173731  0.507078  0.246957  0.127679  0.166249   \n",
       "\n",
       "                                                         ...            \\\n",
       "release_year         1966      1967      1968      1969  ...      2006   \n",
       "genres                                                   ...             \n",
       "Action           0.272052  0.438314  0.297820  0.399297  ...  0.467333   \n",
       "Adventure        0.291704  0.485288  0.569422  0.615889  ...  0.523882   \n",
       "Animation        0.276133  1.348805  0.202802  0.345405  ...  0.523882   \n",
       "Comedy           0.233486  0.201545  0.259501  0.318256  ...  0.440529   \n",
       "Crime            0.206537  0.438314  0.488336  0.897684  ...  0.437529   \n",
       "Documentary      0.080598  0.095101  0.000000  0.000000  ...  0.157645   \n",
       "Drama            0.295808  0.329598  0.347755  0.411816  ...  0.386756   \n",
       "Family           0.276133  0.241283  0.323826  0.371046  ...  0.565930   \n",
       "Fantasy          0.424771  0.225687  0.323826  0.204098  ...  0.528154   \n",
       "Foreign          0.361556  0.000000  0.000000  0.000000  ...  0.244049   \n",
       "History          0.335649  0.000000  0.569422  0.575000  ...  0.577804   \n",
       "Horror           0.035919  0.242839  0.523209  0.141028  ...  0.307369   \n",
       "Music            0.000000  0.114034  0.633129  0.404251  ...  0.324740   \n",
       "Mystery          0.171749  0.428652  1.022050  0.567962  ...  0.480704   \n",
       "Romance          0.269673  0.213291  0.211473  0.303721  ...  0.420303   \n",
       "Science Fiction  0.221678  0.164469  1.010064  0.141056  ...  0.375790   \n",
       "TV Movie         0.000000  0.000000  0.000000  0.528660  ...  0.276653   \n",
       "Thriller         0.280317  0.502062  0.488336  0.567962  ...  0.392750   \n",
       "War              0.295808  0.485288  0.272751  0.224638  ...  0.501431   \n",
       "Western          0.230873  0.189740  0.621202  0.386778  ...  0.463068   \n",
       "\n",
       "                                                                             \\\n",
       "release_year         2007      2008      2009      2010      2011      2012   \n",
       "genres                                                                        \n",
       "Action           0.463461  0.480116  0.427314  0.559371  0.559451  0.526637   \n",
       "Adventure        0.494212  0.634256  0.564938  0.757082  0.614537  0.628254   \n",
       "Animation        0.455415  0.540913  0.460035  0.408510  0.642933  0.424196   \n",
       "Comedy           0.367836  0.374034  0.336296  0.443893  0.499339  0.345391   \n",
       "Crime            0.482885  0.423314  0.481687  0.544798  0.504042  0.648572   \n",
       "Documentary      0.203044  0.131928  0.128661  0.187905  0.135239  0.140904   \n",
       "Drama            0.425002  0.358438  0.412870  0.443850  0.425378  0.342303   \n",
       "Family           0.564132  0.575389  0.413528  0.550709  0.504517  0.435036   \n",
       "Fantasy          0.543326  0.611016  0.539230  0.614720  0.559839  0.660446   \n",
       "Foreign          0.170069  0.169567  0.176846  0.181532  0.098699  0.095282   \n",
       "History          0.385371  0.340288  0.505410  0.403475  0.300594  0.438730   \n",
       "Horror           0.426260  0.298430  0.312020  0.277505  0.314400  0.292619   \n",
       "Music            0.532062  0.274406  0.356209  0.195084  0.256142  0.149954   \n",
       "Mystery          0.575124  0.453602  0.414910  0.554468  0.455763  0.220523   \n",
       "Romance          0.404154  0.463138  0.409673  0.493121  0.434506  0.477929   \n",
       "Science Fiction  0.396494  0.527224  0.430112  0.297737  0.471145  0.400247   \n",
       "TV Movie         0.113308  0.154973  0.336935  0.292085  0.246364  0.157100   \n",
       "Thriller         0.499794  0.417779  0.412708  0.443618  0.486907  0.419031   \n",
       "War              0.353139  0.393120  0.309808  0.507092  0.431320  0.574793   \n",
       "Western          0.360061  0.365913  0.000000  0.401294  1.499109  0.390865   \n",
       "\n",
       "                                               \n",
       "release_year         2013      2014      2015  \n",
       "genres                                         \n",
       "Action           0.534902  0.560295  0.821443  \n",
       "Adventure        0.661187  0.495840  1.724712  \n",
       "Animation        0.467773  0.612052  0.542568  \n",
       "Comedy           0.349655  0.430708  0.440500  \n",
       "Crime            0.721548  0.444337  1.225325  \n",
       "Documentary      0.140900  0.113265  0.137772  \n",
       "Drama            0.422634  0.432529  0.434327  \n",
       "Family           0.463994  0.518405  0.676520  \n",
       "Fantasy          0.470131  0.647224  0.953046  \n",
       "Foreign          0.000000  0.000000  0.000000  \n",
       "History          0.423209  0.252762  0.526642  \n",
       "Horror           0.285847  0.336024  0.300350  \n",
       "Music            0.288878  0.331917  0.435582  \n",
       "Mystery          0.351075  0.458571  0.489171  \n",
       "Romance          0.386180  0.363108  0.390188  \n",
       "Science Fiction  0.465414  0.501539  0.374991  \n",
       "TV Movie         0.176388  0.297396  0.274419  \n",
       "Thriller         0.472278  0.491273  0.433073  \n",
       "War              0.249031  0.299103  0.689579  \n",
       "Western          0.393664  0.690200  1.201525  \n",
       "\n",
       "[20 rows x 56 columns]"
      ]
     },
     "execution_count": 62,
     "metadata": {},
     "output_type": "execute_result"
    }
   ],
   "source": [
    "# after viewing the popularity statistical data, the extreme values will impact the average popularity of each genre.\n",
    "# I will use the median for the column and find out which film genre is most popular each year.\n",
    "# there are 56 years of films being scored, and 20 genres.\n",
    "# I decided to use the pivot_table function to slice the information I needed, I sought information from the link below.\n",
    "# https://nbviewer.jupyter.org/github/donnemartin/data-science-ipython-notebooks/blob/master/pandas/03.09-Pivot-Tables.ipynb\n",
    "popularity_year = df_genres.pivot_table(index='genres', columns='release_year', aggfunc={'popularity':'median'}).fillna(0.0)\n",
    "popularity_year.head(20)"
   ]
  },
  {
   "cell_type": "code",
   "execution_count": 63,
   "metadata": {},
   "outputs": [
    {
     "data": {
      "text/plain": [
       "release_year\n",
       "1960            Romance\n",
       "1961          Animation\n",
       "1962          Adventure\n",
       "1963          Animation\n",
       "1964             Family\n",
       "1965              Music\n",
       "1966            Fantasy\n",
       "1967          Animation\n",
       "1968            Mystery\n",
       "1969              Crime\n",
       "1970          Animation\n",
       "1971             Family\n",
       "1972            Romance\n",
       "1973    Science Fiction\n",
       "1974            Mystery\n",
       "1975                War\n",
       "1976            History\n",
       "1977          Animation\n",
       "1978              Crime\n",
       "1979             Action\n",
       "1980           TV Movie\n",
       "1981          Animation\n",
       "1982                War\n",
       "1983            History\n",
       "1984          Animation\n",
       "1985                War\n",
       "1986          Adventure\n",
       "1987            History\n",
       "1988              Crime\n",
       "1989                War\n",
       "1990                War\n",
       "1991          Animation\n",
       "1992                War\n",
       "1993            Fantasy\n",
       "1994          Animation\n",
       "1995          Animation\n",
       "1996              Crime\n",
       "1997    Science Fiction\n",
       "1998            Western\n",
       "1999            Mystery\n",
       "2000          Adventure\n",
       "2001          Animation\n",
       "2002            Western\n",
       "2003            Fantasy\n",
       "2004            Fantasy\n",
       "2005            Western\n",
       "2006            History\n",
       "2007            Mystery\n",
       "2008          Adventure\n",
       "2009          Adventure\n",
       "2010          Adventure\n",
       "2011            Western\n",
       "2012            Fantasy\n",
       "2013              Crime\n",
       "2014            Western\n",
       "2015          Adventure\n",
       "dtype: object"
      ]
     },
     "execution_count": 63,
     "metadata": {},
     "output_type": "execute_result"
    }
   ],
   "source": [
    "# with the idmxmax () function I can find the highest value of the popularity median by year and by gender.\n",
    "popularity_year = popularity_year['popularity'].idxmax()\n",
    "popularity_year\n",
    "# According to the table above, 1960, for example, the romance genre had the highest median."
   ]
  },
  {
   "cell_type": "markdown",
   "metadata": {},
   "source": [
    "> To answer the question I used some functions like explode (), split (), pivot_table () and groupby (). I understood that the best statistical measure to arrive at the ideal result would be the median. After I have grouped all genders by year, I need to extract the highest median from the corresponding record. So I found the idxmax () function for that."
   ]
  },
  {
   "cell_type": "code",
   "execution_count": 64,
   "metadata": {},
   "outputs": [
    {
     "data": {
      "image/png": "[encoded data removed]",
      "text/plain": [
       "<Figure size 432x288 with 1 Axes>"
      ]
     },
     "metadata": {
      "needs_background": "light"
     },
     "output_type": "display_data"
    }
   ],
   "source": [
    "# conforme os resultados abaixo, o gênero 'animation' é o gênero que mais vezes apareceu a cada ano.\n",
    "popularity_year.value_counts().plot(kind='barh', xlabel='Genres', ylabel='Count', color='blue', alpha=0.7, width=0.7);\n",
    "plt.title('Number of times each genre won between 1960 and 2015');\n",
    "plt.xlabel('Count')\n",
    "plt.show()"
   ]
  },
  {
   "cell_type": "markdown",
   "metadata": {},
   "source": [
    "> Above we can see the most popular genres year after year. Finally, I wanted to identify how many times each champion genre has appeared in the past 56 years. Clearly the genre 'animation' has appeared as the most popular genre over the years, 11 times. Followed by 'adventure' with 7 appearances."
   ]
  },
  {
   "cell_type": "markdown",
   "metadata": {},
   "source": [
    "#### Question 2: What kinds of properties are associated with movies that have high revenues?"
   ]
  },
  {
   "cell_type": "code",
   "execution_count": 65,
   "metadata": {},
   "outputs": [
    {
     "data": {
      "image/png": "[encoded data removed]",
      "text/plain": [
       "<Figure size 936x360 with 5 Axes>"
      ]
     },
     "metadata": {
      "needs_background": "light"
     },
     "output_type": "display_data"
    }
   ],
   "source": [
    "# First I will plot several scatter plots between revenue and some variables.\n",
    "# I want to understand which ones impact revenues over time.\n",
    "\n",
    "%matplotlib inline\n",
    "\n",
    "fig, (ax1, ax2, ax3, ax4, ax5) = plt.subplots(1, 5, figsize=(13,5))\n",
    "\n",
    "ax1.scatter(x=\"release_year\", y=\"revenue\", data=df)\n",
    "ax2.scatter(x=\"runtime\", y=\"revenue\", data=df)\n",
    "ax3.scatter(x=\"vote_count\", y=\"revenue\", data=df)\n",
    "ax4.scatter(x=\"popularity\", y=\"revenue\", data=df)\n",
    "ax5.scatter(x=\"budget\", y=\"revenue\", data=df)\n",
    "\n",
    "ax1.set_title('release_year');\n",
    "ax2.set_title('runtime');\n",
    "ax3.set_title('vote_count');\n",
    "ax4.set_title('popularity');\n",
    "ax5.set_title('budget');\n",
    "\n",
    "fig.text(0.07, 0.5, 'Revenues', va='center', rotation='vertical');\n",
    "\n",
    "plt.show();"
   ]
  },
  {
   "cell_type": "code",
   "execution_count": 66,
   "metadata": {},
   "outputs": [
    {
     "data": {
      "text/html": [
       "<div>\n",
       "<style scoped>\n",
       "    .dataframe tbody tr th:only-of-type {\n",
       "        vertical-align: middle;\n",
       "    }\n",
       "\n",
       "    .dataframe tbody tr th {\n",
       "        vertical-align: top;\n",
       "    }\n",
       "\n",
       "    .dataframe thead th {\n",
       "        text-align: right;\n",
       "    }\n",
       "</style>\n",
       "<table border=\"1\" class=\"dataframe\">\n",
       "  <thead>\n",
       "    <tr style=\"text-align: right;\">\n",
       "      <th></th>\n",
       "      <th>revenue</th>\n",
       "      <th>release_year</th>\n",
       "      <th>month</th>\n",
       "      <th>budget</th>\n",
       "      <th>popularity</th>\n",
       "      <th>vote_count</th>\n",
       "    </tr>\n",
       "  </thead>\n",
       "  <tbody>\n",
       "    <tr>\n",
       "      <th>revenue</th>\n",
       "      <td>1.000000</td>\n",
       "      <td>0.057324</td>\n",
       "      <td>0.038930</td>\n",
       "      <td>0.734851</td>\n",
       "      <td>0.663268</td>\n",
       "      <td>0.791122</td>\n",
       "    </tr>\n",
       "    <tr>\n",
       "      <th>release_year</th>\n",
       "      <td>0.057324</td>\n",
       "      <td>1.000000</td>\n",
       "      <td>-0.047945</td>\n",
       "      <td>0.116312</td>\n",
       "      <td>0.090200</td>\n",
       "      <td>0.108275</td>\n",
       "    </tr>\n",
       "    <tr>\n",
       "      <th>month</th>\n",
       "      <td>0.038930</td>\n",
       "      <td>-0.047945</td>\n",
       "      <td>1.000000</td>\n",
       "      <td>0.040945</td>\n",
       "      <td>0.043311</td>\n",
       "      <td>0.026303</td>\n",
       "    </tr>\n",
       "    <tr>\n",
       "      <th>budget</th>\n",
       "      <td>0.734851</td>\n",
       "      <td>0.116312</td>\n",
       "      <td>0.040945</td>\n",
       "      <td>1.000000</td>\n",
       "      <td>0.545271</td>\n",
       "      <td>0.632601</td>\n",
       "    </tr>\n",
       "    <tr>\n",
       "      <th>popularity</th>\n",
       "      <td>0.663268</td>\n",
       "      <td>0.090200</td>\n",
       "      <td>0.043311</td>\n",
       "      <td>0.545271</td>\n",
       "      <td>1.000000</td>\n",
       "      <td>0.800786</td>\n",
       "    </tr>\n",
       "    <tr>\n",
       "      <th>vote_count</th>\n",
       "      <td>0.791122</td>\n",
       "      <td>0.108275</td>\n",
       "      <td>0.026303</td>\n",
       "      <td>0.632601</td>\n",
       "      <td>0.800786</td>\n",
       "      <td>1.000000</td>\n",
       "    </tr>\n",
       "  </tbody>\n",
       "</table>\n",
       "</div>"
      ],
      "text/plain": [
       "               revenue  release_year     month    budget  popularity  \\\n",
       "revenue       1.000000      0.057324  0.038930  0.734851    0.663268   \n",
       "release_year  0.057324      1.000000 -0.047945  0.116312    0.090200   \n",
       "month         0.038930     -0.047945  1.000000  0.040945    0.043311   \n",
       "budget        0.734851      0.116312  0.040945  1.000000    0.545271   \n",
       "popularity    0.663268      0.090200  0.043311  0.545271    1.000000   \n",
       "vote_count    0.791122      0.108275  0.026303  0.632601    0.800786   \n",
       "\n",
       "              vote_count  \n",
       "revenue         0.791122  \n",
       "release_year    0.108275  \n",
       "month           0.026303  \n",
       "budget          0.632601  \n",
       "popularity      0.800786  \n",
       "vote_count      1.000000  "
      ]
     },
     "execution_count": 66,
     "metadata": {},
     "output_type": "execute_result"
    }
   ],
   "source": [
    "# calling pandas' corr () function to obtain the correlation of variables with revenue\n",
    "df[['revenue', 'release_year', 'month', 'budget', 'popularity', 'vote_count']].corr()"
   ]
  },
  {
   "cell_type": "markdown",
   "metadata": {},
   "source": [
    "> After plotting scatter plots as a way to understand the direction of revenue with the variable release_year, runtime, vote_count, popularity, month and budget, I discarded the runtime because I understand that the most profitable films are concentrated in up to 200 minutes. Then I created a correlation matrix with the corr () function of pandas, to see statistically the variables that are most associated with high revenues. Through the table it is noted that release_year and month have no correlation, being 5% and 3% respectively. Budget, popularity and vote_count have a high correlation, 73%, 66% and 79% respectively."
   ]
  },
  {
   "cell_type": "markdown",
   "metadata": {},
   "source": [
    "## Conclusions"
   ]
  },
  {
   "cell_type": "markdown",
   "metadata": {},
   "source": [
    "In the first section I tried to analyze the trends of some variables over time. The runtime variable was the only one with a drop, although this is not correlated with high revenues. In all sections I tried to identify which variables could have an impact on revenues.\n",
    "\n",
    "Analyzing the data set, I could see how much the financial results increased, both in revenues, budgets and profits in this century.\n",
    "Then I analyzed the best titles and directors in terms of revenue, as well as their vote_average.\n",
    "\n",
    "Finally, the goal was to find out which genres performed better compared to their popularity, and wanted analyzed variables to have some impact on the titles' revenues."
   ]
  },
  {
   "cell_type": "markdown",
   "metadata": {},
   "source": [
    "## Limitations"
   ]
  },
  {
   "cell_type": "markdown",
   "metadata": {},
   "source": [
    "The limitations around the data set were many. In the first section I was in doubt about the origin of the popularity values. I don't really know how it was calculated. It is probably a measure of the tmdb website itself.\n",
    "\n",
    "Another limiting factor is to identify the decimal places of revenues and budgets, which visually disturbs a little.\n",
    "Even using the median as the central mean, there were many extreme values in the data. Mainly in popularity and vote_count.\n",
    "\n",
    "Another limitation that I had to decide whether or not to deal with, were the values equal to zero of the budget and revenue variables, because treating them would cause bias in the results, due to the amount of records with this characteristic. In the end I decided to leave them that way, since it would cause distortions in the final result.\n",
    "\n",
    "Analyzing gender data was a big challenge, because if I hadn't created an alternative dataset I wouldn't have been able to. It was impossible to analyze it by recipes.\n",
    "\n",
    "Although in the last section I found some correlation between recipes and other variables, I cannot say that there is causality."
   ]
  },
  {
   "cell_type": "markdown",
   "metadata": {},
   "source": [
    "## Reeferences"
   ]
  },
  {
   "cell_type": "markdown",
   "metadata": {},
   "source": [
    "https://nbviewer.jupyter.org/github/donnemartin/data-science-ipython-notebooks/blob/master/pandas/03.09-Pivot-Tables.ipynb\n",
    "\n",
    "https://cmdlinetips.com/2020/06/pandas-explode-convert-list-like-column-elements-to-separate-rows/#:~:text=Pandas%20explode()%20function%20will,and%20also%20corresponding%20Language%20element.\n",
    "\n",
    "https://medium.com/horadecodar/como-tratar-dados-nulos-no-dataset-4f0470b22d38\n",
    "\n",
    "https://qastack.com.br/programming/25146121/extracting-just-month-and-year-separately-from-pandas-datetime-column"
   ]
  },
  {
   "cell_type": "markdown",
   "metadata": {},
   "source": [
    "## Function created"
   ]
  },
  {
   "cell_type": "markdown",
   "metadata": {},
   "source": [
    "Many times during the analysis I needed to know the minimum and maximum values of a variable or part of the variable, in addition to being very useful."
   ]
  },
  {
   "cell_type": "code",
   "execution_count": 67,
   "metadata": {},
   "outputs": [
    {
     "name": "stdout",
     "output_type": "stream",
     "text": [
      "The minimum value is: 6.500000000000001e-05\n",
      "The maximum value is: 32.985763\n"
     ]
    }
   ],
   "source": [
    "# # I decided to create a function in which tell me the minimum and maximum value at\n",
    "# the same time for different columns or the same if necessary.\n",
    "def min_max_value(x, y): # in parentheses two variables are required\n",
    "    x = min(x) # using the min () function\n",
    "    y = max(y) # using the max () function\n",
    "    print('The minimum value is:', x)\n",
    "    print('The maximum value is:', y)\n",
    "    # at the end she prints the maximum and minimum results\n",
    "    \n",
    "min_max_value(df.popularity, df.popularity)"
   ]
  },
  {
   "cell_type": "markdown",
   "metadata": {},
   "source": [
    "#### Question 3: How is popularity trending over time?"
   ]
  },
  {
   "cell_type": "code",
   "execution_count": 68,
   "metadata": {},
   "outputs": [
    {
     "data": {
      "image/png": "[encoded data removed]",
      "text/plain": [
       "<Figure size 432x288 with 1 Axes>"
      ]
     },
     "metadata": {
      "needs_background": "light"
     },
     "output_type": "display_data"
    }
   ],
   "source": [
    "# I believe that generating a plot with the average over the years answers that question.\n",
    "df.groupby(['release_year']).agg({'popularity': 'median'}).plot()\n",
    "plt.xlabel('Release year')\n",
    "plt.ylabel('Median popularity')\n",
    "plt.title('Trend of popularity over the years')\n",
    "plt.show()"
   ]
  },
  {
   "cell_type": "markdown",
   "metadata": {},
   "source": [
    "> A clear upward trend"
   ]
  },
  {
   "cell_type": "markdown",
   "metadata": {},
   "source": [
    "#### Question 4: How are revenues trending over time?"
   ]
  },
  {
   "cell_type": "code",
   "execution_count": 69,
   "metadata": {},
   "outputs": [
    {
     "data": {
      "image/png": "[encoded data removed]",
      "text/plain": [
       "<Figure size 432x288 with 1 Axes>"
      ]
     },
     "metadata": {
      "needs_background": "light"
     },
     "output_type": "display_data"
    }
   ],
   "source": [
    "# I believe that generating a plot with the average over the years answers that question.\n",
    "df.groupby(['release_year']).agg({'revenue': 'sum'}).plot()\n",
    "plt.xlabel('Release year')\n",
    "plt.ylabel('US$ revenues')\n",
    "plt.title('Trend of revenues over the years')\n",
    "plt.show()"
   ]
  },
  {
   "cell_type": "markdown",
   "metadata": {},
   "source": [
    "> A clear upward trend."
   ]
  },
  {
   "cell_type": "markdown",
   "metadata": {},
   "source": [
    "#### Question 5: How is runtime trending over time?"
   ]
  },
  {
   "cell_type": "code",
   "execution_count": 70,
   "metadata": {},
   "outputs": [
    {
     "data": {
      "image/png": "[encoded data removed]",
      "text/plain": [
       "<Figure size 432x288 with 1 Axes>"
      ]
     },
     "metadata": {
      "needs_background": "light"
     },
     "output_type": "display_data"
    }
   ],
   "source": [
    "# I believe that generating a plot with the average over the years answers that question.\n",
    "df.groupby(['release_year']).agg({'runtime': 'mean'}).plot()\n",
    "plt.xlabel('Release year')\n",
    "plt.ylabel('Median runtime')\n",
    "plt.title('Trend of runtime over the years')\n",
    "plt.show()"
   ]
  },
  {
   "cell_type": "markdown",
   "metadata": {},
   "source": [
    "> A clear downward trend."
   ]
  },
  {
   "cell_type": "markdown",
   "metadata": {},
   "source": [
    "#### Question 6: Do top ratings movies always generate big revenue?"
   ]
  },
  {
   "cell_type": "code",
   "execution_count": 71,
   "metadata": {},
   "outputs": [
    {
     "data": {
      "text/html": [
       "<div>\n",
       "<style scoped>\n",
       "    .dataframe tbody tr th:only-of-type {\n",
       "        vertical-align: middle;\n",
       "    }\n",
       "\n",
       "    .dataframe tbody tr th {\n",
       "        vertical-align: top;\n",
       "    }\n",
       "\n",
       "    .dataframe thead th {\n",
       "        text-align: right;\n",
       "    }\n",
       "</style>\n",
       "<table border=\"1\" class=\"dataframe\">\n",
       "  <thead>\n",
       "    <tr style=\"text-align: right;\">\n",
       "      <th></th>\n",
       "      <th>id</th>\n",
       "      <th>popularity</th>\n",
       "      <th>budget</th>\n",
       "      <th>revenue</th>\n",
       "      <th>original_title</th>\n",
       "      <th>director</th>\n",
       "      <th>runtime</th>\n",
       "      <th>genres</th>\n",
       "      <th>release_date</th>\n",
       "      <th>vote_count</th>\n",
       "      <th>vote_average</th>\n",
       "      <th>release_year</th>\n",
       "      <th>month</th>\n",
       "    </tr>\n",
       "  </thead>\n",
       "  <tbody>\n",
       "    <tr>\n",
       "      <th>0</th>\n",
       "      <td>135397</td>\n",
       "      <td>32.985763</td>\n",
       "      <td>150000000</td>\n",
       "      <td>1513528810</td>\n",
       "      <td>Jurassic World</td>\n",
       "      <td>Colin Trevorrow</td>\n",
       "      <td>124.0</td>\n",
       "      <td>Action|Adventure|Science Fiction|Thriller</td>\n",
       "      <td>2015-06-09</td>\n",
       "      <td>5562</td>\n",
       "      <td>6.5</td>\n",
       "      <td>2015</td>\n",
       "      <td>6</td>\n",
       "    </tr>\n",
       "    <tr>\n",
       "      <th>1</th>\n",
       "      <td>76341</td>\n",
       "      <td>28.419936</td>\n",
       "      <td>150000000</td>\n",
       "      <td>378436354</td>\n",
       "      <td>Mad Max: Fury Road</td>\n",
       "      <td>George Miller</td>\n",
       "      <td>120.0</td>\n",
       "      <td>Action|Adventure|Science Fiction|Thriller</td>\n",
       "      <td>2015-05-13</td>\n",
       "      <td>6185</td>\n",
       "      <td>7.1</td>\n",
       "      <td>2015</td>\n",
       "      <td>5</td>\n",
       "    </tr>\n",
       "  </tbody>\n",
       "</table>\n",
       "</div>"
      ],
      "text/plain": [
       "       id  popularity     budget     revenue      original_title  \\\n",
       "0  135397   32.985763  150000000  1513528810      Jurassic World   \n",
       "1   76341   28.419936  150000000   378436354  Mad Max: Fury Road   \n",
       "\n",
       "          director  runtime                                     genres  \\\n",
       "0  Colin Trevorrow    124.0  Action|Adventure|Science Fiction|Thriller   \n",
       "1    George Miller    120.0  Action|Adventure|Science Fiction|Thriller   \n",
       "\n",
       "  release_date  vote_count  vote_average  release_year  month  \n",
       "0   2015-06-09        5562           6.5          2015      6  \n",
       "1   2015-05-13        6185           7.1          2015      5  "
      ]
     },
     "execution_count": 71,
     "metadata": {},
     "output_type": "execute_result"
    }
   ],
   "source": [
    "df.head(2)"
   ]
  },
  {
   "cell_type": "code",
   "execution_count": 72,
   "metadata": {},
   "outputs": [
    {
     "data": {
      "text/html": [
       "<div>\n",
       "<style scoped>\n",
       "    .dataframe tbody tr th:only-of-type {\n",
       "        vertical-align: middle;\n",
       "    }\n",
       "\n",
       "    .dataframe tbody tr th {\n",
       "        vertical-align: top;\n",
       "    }\n",
       "\n",
       "    .dataframe thead th {\n",
       "        text-align: right;\n",
       "    }\n",
       "</style>\n",
       "<table border=\"1\" class=\"dataframe\">\n",
       "  <thead>\n",
       "    <tr style=\"text-align: right;\">\n",
       "      <th></th>\n",
       "      <th>vote_average</th>\n",
       "      <th>revenue</th>\n",
       "    </tr>\n",
       "  </thead>\n",
       "  <tbody>\n",
       "    <tr>\n",
       "      <th>count</th>\n",
       "      <td>10842.000000</td>\n",
       "      <td>1.084200e+04</td>\n",
       "    </tr>\n",
       "    <tr>\n",
       "      <th>mean</th>\n",
       "      <td>5.974064</td>\n",
       "      <td>3.991138e+07</td>\n",
       "    </tr>\n",
       "    <tr>\n",
       "      <th>std</th>\n",
       "      <td>0.934257</td>\n",
       "      <td>1.171179e+08</td>\n",
       "    </tr>\n",
       "    <tr>\n",
       "      <th>min</th>\n",
       "      <td>1.500000</td>\n",
       "      <td>0.000000e+00</td>\n",
       "    </tr>\n",
       "    <tr>\n",
       "      <th>25%</th>\n",
       "      <td>5.400000</td>\n",
       "      <td>0.000000e+00</td>\n",
       "    </tr>\n",
       "    <tr>\n",
       "      <th>50%</th>\n",
       "      <td>6.000000</td>\n",
       "      <td>0.000000e+00</td>\n",
       "    </tr>\n",
       "    <tr>\n",
       "      <th>75%</th>\n",
       "      <td>6.600000</td>\n",
       "      <td>2.414118e+07</td>\n",
       "    </tr>\n",
       "    <tr>\n",
       "      <th>max</th>\n",
       "      <td>9.200000</td>\n",
       "      <td>2.781506e+09</td>\n",
       "    </tr>\n",
       "  </tbody>\n",
       "</table>\n",
       "</div>"
      ],
      "text/plain": [
       "       vote_average       revenue\n",
       "count  10842.000000  1.084200e+04\n",
       "mean       5.974064  3.991138e+07\n",
       "std        0.934257  1.171179e+08\n",
       "min        1.500000  0.000000e+00\n",
       "25%        5.400000  0.000000e+00\n",
       "50%        6.000000  0.000000e+00\n",
       "75%        6.600000  2.414118e+07\n",
       "max        9.200000  2.781506e+09"
      ]
     },
     "execution_count": 72,
     "metadata": {},
     "output_type": "execute_result"
    }
   ],
   "source": [
    "df[['vote_average', 'revenue']].describe()"
   ]
  },
  {
   "cell_type": "code",
   "execution_count": 73,
   "metadata": {},
   "outputs": [
    {
     "data": {
      "text/html": [
       "<div>\n",
       "<style scoped>\n",
       "    .dataframe tbody tr th:only-of-type {\n",
       "        vertical-align: middle;\n",
       "    }\n",
       "\n",
       "    .dataframe tbody tr th {\n",
       "        vertical-align: top;\n",
       "    }\n",
       "\n",
       "    .dataframe thead th {\n",
       "        text-align: right;\n",
       "    }\n",
       "</style>\n",
       "<table border=\"1\" class=\"dataframe\">\n",
       "  <thead>\n",
       "    <tr style=\"text-align: right;\">\n",
       "      <th></th>\n",
       "      <th>vote_average</th>\n",
       "      <th>revenue</th>\n",
       "    </tr>\n",
       "    <tr>\n",
       "      <th>original_title</th>\n",
       "      <th></th>\n",
       "      <th></th>\n",
       "    </tr>\n",
       "  </thead>\n",
       "  <tbody>\n",
       "    <tr>\n",
       "      <th>The Story of Film: An Odyssey</th>\n",
       "      <td>9.2</td>\n",
       "      <td>0</td>\n",
       "    </tr>\n",
       "    <tr>\n",
       "      <th>The Mask You Live In</th>\n",
       "      <td>8.9</td>\n",
       "      <td>0</td>\n",
       "    </tr>\n",
       "    <tr>\n",
       "      <th>Black Mirror: White Christmas</th>\n",
       "      <td>8.8</td>\n",
       "      <td>0</td>\n",
       "    </tr>\n",
       "    <tr>\n",
       "      <th>Life Cycles</th>\n",
       "      <td>8.8</td>\n",
       "      <td>0</td>\n",
       "    </tr>\n",
       "    <tr>\n",
       "      <th>Pink Floyd: Pulse</th>\n",
       "      <td>8.7</td>\n",
       "      <td>0</td>\n",
       "    </tr>\n",
       "    <tr>\n",
       "      <th>Opeth: In Live Concert At The Royal Albert Hall</th>\n",
       "      <td>8.6</td>\n",
       "      <td>0</td>\n",
       "    </tr>\n",
       "    <tr>\n",
       "      <th>John Mayer: Where the Light Is Live in Los Angeles</th>\n",
       "      <td>8.5</td>\n",
       "      <td>0</td>\n",
       "    </tr>\n",
       "    <tr>\n",
       "      <th>The Art of Flight</th>\n",
       "      <td>8.5</td>\n",
       "      <td>0</td>\n",
       "    </tr>\n",
       "    <tr>\n",
       "      <th>A Personal Journey with Martin Scorsese Through American Movies</th>\n",
       "      <td>8.5</td>\n",
       "      <td>0</td>\n",
       "    </tr>\n",
       "    <tr>\n",
       "      <th>Dave Chappelle: Killin' Them Softly</th>\n",
       "      <td>8.5</td>\n",
       "      <td>0</td>\n",
       "    </tr>\n",
       "  </tbody>\n",
       "</table>\n",
       "</div>"
      ],
      "text/plain": [
       "                                                    vote_average  revenue\n",
       "original_title                                                           \n",
       "The Story of Film: An Odyssey                                9.2        0\n",
       "The Mask You Live In                                         8.9        0\n",
       "Black Mirror: White Christmas                                8.8        0\n",
       "Life Cycles                                                  8.8        0\n",
       "Pink Floyd: Pulse                                            8.7        0\n",
       "Opeth: In Live Concert At The Royal Albert Hall              8.6        0\n",
       "John Mayer: Where the Light Is Live in Los Angeles           8.5        0\n",
       "The Art of Flight                                            8.5        0\n",
       "A Personal Journey with Martin Scorsese Through...           8.5        0\n",
       "Dave Chappelle: Killin' Them Softly                          8.5        0"
      ]
     },
     "execution_count": 73,
     "metadata": {},
     "output_type": "execute_result"
    }
   ],
   "source": [
    "df_revenue = df.groupby(['original_title']).agg({'vote_average': 'mean',\n",
    "                                                 'revenue': 'sum'}).sort_values('vote_average', ascending=False)\n",
    "df_revenue.head(10)"
   ]
  },
  {
   "cell_type": "markdown",
   "metadata": {},
   "source": [
    "> It is clear that the high average vote does not mean high revenues. In the table I grouped the films by the highest average of votes."
   ]
  },
  {
   "cell_type": "markdown",
   "metadata": {},
   "source": [
    "#### Question 7: Do higher budget movies always generate big revenue?"
   ]
  },
  {
   "cell_type": "code",
   "execution_count": 74,
   "metadata": {},
   "outputs": [
    {
     "data": {
      "text/html": [
       "<div>\n",
       "<style scoped>\n",
       "    .dataframe tbody tr th:only-of-type {\n",
       "        vertical-align: middle;\n",
       "    }\n",
       "\n",
       "    .dataframe tbody tr th {\n",
       "        vertical-align: top;\n",
       "    }\n",
       "\n",
       "    .dataframe thead th {\n",
       "        text-align: right;\n",
       "    }\n",
       "</style>\n",
       "<table border=\"1\" class=\"dataframe\">\n",
       "  <thead>\n",
       "    <tr style=\"text-align: right;\">\n",
       "      <th></th>\n",
       "      <th>budget</th>\n",
       "      <th>revenue</th>\n",
       "    </tr>\n",
       "  </thead>\n",
       "  <tbody>\n",
       "    <tr>\n",
       "      <th>count</th>\n",
       "      <td>1.084200e+04</td>\n",
       "      <td>1.084200e+04</td>\n",
       "    </tr>\n",
       "    <tr>\n",
       "      <th>mean</th>\n",
       "      <td>1.465531e+07</td>\n",
       "      <td>3.991138e+07</td>\n",
       "    </tr>\n",
       "    <tr>\n",
       "      <th>std</th>\n",
       "      <td>3.093971e+07</td>\n",
       "      <td>1.171179e+08</td>\n",
       "    </tr>\n",
       "    <tr>\n",
       "      <th>min</th>\n",
       "      <td>0.000000e+00</td>\n",
       "      <td>0.000000e+00</td>\n",
       "    </tr>\n",
       "    <tr>\n",
       "      <th>25%</th>\n",
       "      <td>0.000000e+00</td>\n",
       "      <td>0.000000e+00</td>\n",
       "    </tr>\n",
       "    <tr>\n",
       "      <th>50%</th>\n",
       "      <td>0.000000e+00</td>\n",
       "      <td>0.000000e+00</td>\n",
       "    </tr>\n",
       "    <tr>\n",
       "      <th>75%</th>\n",
       "      <td>1.500000e+07</td>\n",
       "      <td>2.414118e+07</td>\n",
       "    </tr>\n",
       "    <tr>\n",
       "      <th>max</th>\n",
       "      <td>4.250000e+08</td>\n",
       "      <td>2.781506e+09</td>\n",
       "    </tr>\n",
       "  </tbody>\n",
       "</table>\n",
       "</div>"
      ],
      "text/plain": [
       "             budget       revenue\n",
       "count  1.084200e+04  1.084200e+04\n",
       "mean   1.465531e+07  3.991138e+07\n",
       "std    3.093971e+07  1.171179e+08\n",
       "min    0.000000e+00  0.000000e+00\n",
       "25%    0.000000e+00  0.000000e+00\n",
       "50%    0.000000e+00  0.000000e+00\n",
       "75%    1.500000e+07  2.414118e+07\n",
       "max    4.250000e+08  2.781506e+09"
      ]
     },
     "execution_count": 74,
     "metadata": {},
     "output_type": "execute_result"
    }
   ],
   "source": [
    "df[['budget', 'revenue']].describe()"
   ]
  },
  {
   "cell_type": "code",
   "execution_count": 75,
   "metadata": {},
   "outputs": [
    {
     "data": {
      "text/plain": [
       "(                                                budget     revenue\n",
       " original_title                                                    \n",
       " The Warrior's Way                            425000000    11087569\n",
       " Pirates of the Caribbean: On Stranger Tides  380000000  1021683000\n",
       " Pirates of the Caribbean: At World's End     300000000   961000000\n",
       " Godzilla                                     290000000   908090363\n",
       " Avengers: Age of Ultron                      280000000  1405035767\n",
       " The Avengers                                 280000000  1568080742\n",
       " Superman Returns                             270000000   391081192\n",
       " Tangled                                      260000000   591794936\n",
       " John Carter                                  260000000   284139100\n",
       " Spider-Man 3                                 258000000   890871626,\n",
       "                                                  budget     revenue\n",
       " original_title                                                     \n",
       " Avatar                                        237000000  2781505847\n",
       " Star Wars: The Force Awakens                  200000000  2068178225\n",
       " Titanic                                       213000000  1845034188\n",
       " The Avengers                                  280000000  1568080742\n",
       " Jurassic World                                150000000  1513528810\n",
       " Furious 7                                     190000000  1506249360\n",
       " Avengers: Age of Ultron                       280000000  1405035767\n",
       " Harry Potter and the Deathly Hallows: Part 2  125000000  1327817822\n",
       " Frozen                                        150000000  1277284869\n",
       " Iron Man 3                                    200000000  1215439994)"
      ]
     },
     "execution_count": 75,
     "metadata": {},
     "output_type": "execute_result"
    }
   ],
   "source": [
    "# the top 10 films with higher budgets and their revenues\n",
    "df_budget = df.groupby(['original_title']).agg({'budget': 'sum',\n",
    "                                                 'revenue': 'sum'}).sort_values('budget', ascending=False).head(10)\n",
    "\n",
    "# the top 10 films with the highest revenues and their budgets\n",
    "df_revenue = df.groupby(['original_title']).agg({'budget': 'sum',\n",
    "                                                 'revenue': 'sum'}).sort_values('revenue', ascending=False).head(10)\n",
    "\n",
    "df_budget.head(10), df_revenue.head(10)"
   ]
  },
  {
   "cell_type": "code",
   "execution_count": 76,
   "metadata": {},
   "outputs": [
    {
     "data": {
      "text/plain": [
       "(8032864295, 16508155624)"
      ]
     },
     "execution_count": 76,
     "metadata": {},
     "output_type": "execute_result"
    }
   ],
   "source": [
    "df_budget.revenue.sum(), df_revenue.revenue.sum()"
   ]
  },
  {
   "cell_type": "markdown",
   "metadata": {},
   "source": [
    "> When comparing the tables above, it is clear that high budgets are not certain that there will be high revenues. Above, the comparative sum of the two tables. It is clear that the table with high revenues from films had smaller budgets."
   ]
  },
  {
   "cell_type": "markdown",
   "metadata": {},
   "source": [
    "#### Question 8: Is there any impact of vote count on revenue?"
   ]
  },
  {
   "cell_type": "code",
   "execution_count": 77,
   "metadata": {},
   "outputs": [
    {
     "data": {
      "text/plain": [
       "<seaborn.axisgrid.FacetGrid at 0x1d03fc9bc50>"
      ]
     },
     "execution_count": 77,
     "metadata": {},
     "output_type": "execute_result"
    },
    {
     "data": {
      "image/png": "[encoded data removed]",
      "text/plain": [
       "<Figure size 360x360 with 1 Axes>"
      ]
     },
     "metadata": {
      "needs_background": "light"
     },
     "output_type": "display_data"
    }
   ],
   "source": [
    "import seaborn as sns\n",
    "\n",
    "# generating a trendline plot\n",
    "sns.lmplot(x=\"revenue\", y=\"vote_count\", data=df)"
   ]
  },
  {
   "cell_type": "markdown",
   "metadata": {},
   "source": [
    "> There is a positive impact on the relationship between revenue and vote_count."
   ]
  },
  {
   "cell_type": "markdown",
   "metadata": {},
   "source": [
    "#### Question 9: What are typical runtimes for directors? Is there a duration preferred by directors?"
   ]
  },
  {
   "cell_type": "code",
   "execution_count": 78,
   "metadata": {},
   "outputs": [
    {
     "data": {
      "text/plain": [
       "90.0     576\n",
       "95.0     358\n",
       "100.0    333\n",
       "93.0     328\n",
       "97.0     306\n",
       "96.0     299\n",
       "91.0     297\n",
       "94.0     292\n",
       "98.0     270\n",
       "88.0     269\n",
       "92.0     269\n",
       "89.0     253\n",
       "105.0    249\n",
       "101.0    232\n",
       "99.0     231\n",
       "Name: runtime, dtype: int64"
      ]
     },
     "execution_count": 78,
     "metadata": {},
     "output_type": "execute_result"
    }
   ],
   "source": [
    "# number of films and their respective times\n",
    "# 546 movies had a time of 90 minutes\n",
    "df.runtime.value_counts().head(15)"
   ]
  },
  {
   "cell_type": "code",
   "execution_count": 79,
   "metadata": {},
   "outputs": [
    {
     "data": {
      "text/plain": [
       "4562"
      ]
     },
     "execution_count": 79,
     "metadata": {},
     "output_type": "execute_result"
    }
   ],
   "source": [
    "df.runtime.value_counts().head(15).sum()"
   ]
  },
  {
   "cell_type": "markdown",
   "metadata": {},
   "source": [
    "> According to the table made with value_counts () between 4,532 films are in the range of 90 to 101 minutes in length, typical runtime for directors. The time preferred by the directors is 90 minutes."
   ]
  },
  {
   "cell_type": "markdown",
   "metadata": {},
   "source": [
    "#### Question 10: Is there a relation between popularity and revenue for directors? etc."
   ]
  },
  {
   "cell_type": "code",
   "execution_count": 80,
   "metadata": {},
   "outputs": [
    {
     "data": {
      "image/png": "[encoded data removed]",
      "text/plain": [
       "<Figure size 432x288 with 1 Axes>"
      ]
     },
     "metadata": {
      "needs_background": "light"
     },
     "output_type": "display_data"
    }
   ],
   "source": [
    "# using group by () to group as recipes and popularity by director\n",
    "df_director = df.groupby(['director']).agg({'popularity': 'median',\n",
    "                                            'revenue': 'sum'}).sort_values('popularity', ascending=False)\n",
    "\n",
    "# generating a scatterplot to see the revenue and popularity ratio for directors\n",
    "plt.scatter(df_director.popularity, df_director.revenue)\n",
    "plt.title('Revenue and popularity for director')\n",
    "plt.xlabel('Popularity')\n",
    "plt.ylabel('Revenue')\n",
    "plt.show()"
   ]
  },
  {
   "cell_type": "markdown",
   "metadata": {},
   "source": [
    "> Through the graph it is notorious that there is no relationship between high revenues and popularity by director. Popularity is well concentrated at 4.0 using the median, with revenues of up to 400 thousand."
   ]
  }
 ],
 "metadata": {
  "kernelspec": {
   "display_name": "Python 3",
   "language": "python",
   "name": "python3"
  },
  "language_info": {
   "codemirror_mode": {
    "name": "ipython",
    "version": 3
   },
   "file_extension": ".py",
   "mimetype": "text/x-python",
   "name": "python",
   "nbconvert_exporter": "python",
   "pygments_lexer": "ipython3",
   "version": "3.6.12"
  }
 },
 "nbformat": 4,
 "nbformat_minor": 4
}
